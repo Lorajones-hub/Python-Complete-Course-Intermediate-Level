{
 "cells": [
  {
   "cell_type": "markdown",
   "metadata": {},
   "source": [
    "# What is \\_\\_name\\_\\_ == '\\_\\_main\\_\\_' in Python"
   ]
  },
  {
   "cell_type": "markdown",
   "metadata": {},
   "source": [
    "In this lesson, we will discuss a line of code that you'll probably see a lot in Python. That is, **if \\_\\_name\\_\\_ == '\\_\\_main\\_\\_':**. So what is this doing and why we need sometimes to use it ?\n",
    "\n",
    "In this lesson we'll use pyCharm IDE to illustrate the meaning of using \\_\\_name\\_\\_ variable in Python and why sometimes we need to check if the value of the variable \\_\\_name\\_\\_ equals to the string '\\_\\_main\\_\\_'.\n",
    "\n",
    "We will create two Python files, **first\\_module.py** and **second_module.py** and run the code in each file at different stages to see how the values of \\_\\_name\\_\\_ will change.\n",
    "\n",
    "First of all, let's see what we get if we print the value of \\_\\_name\\_\\_."
   ]
  },
  {
   "cell_type": "code",
   "execution_count": 6,
   "metadata": {},
   "outputs": [
    {
     "name": "stdout",
     "output_type": "stream",
     "text": [
      "__main__\n"
     ]
    }
   ],
   "source": [
    "print(__name__)"
   ]
  },
  {
   "cell_type": "markdown",
   "metadata": {},
   "source": [
    "The output is \\_\\_main\\_\\_ which is the value of \\_\\_name\\_\\_.\n",
    "\n",
    "Now let's start using the two modules, try to add this line of code in first_module.py and save it.\n",
    "\n",
    "The line and it's output is shown here.\n"
   ]
  },
  {
   "cell_type": "code",
   "execution_count": 2,
   "metadata": {},
   "outputs": [
    {
     "name": "stdout",
     "output_type": "stream",
     "text": [
      "The value of __name__ is: __main__\n"
     ]
    }
   ],
   "source": [
    "# first_module.py\n",
    "\n",
    "print(\"The value of __name__ is: {}\".format(__name__))"
   ]
  },
  {
   "cell_type": "markdown",
   "metadata": {},
   "source": [
    "As you can see, it printed **first module's name: \\_\\_main\\_\\_**. What does that mean ?\n",
    "\n",
    "Whenever Python runs a .py file, and before even running any code in that file, it sets or give values to few special variables and \\_\\_name\\_\\_ is one of these special variables. **And when Python runs a file directly (not imported from another module), it sets the value of the variable \\_\\_name\\_\\_ to be equal to '\\_\\_main\\_\\_'**, this is what happened in the above two examples.\n",
    "\n",
    "We have seen earlier that we can also import modules and whenever we import modules, Python will set the variable \\_\\_name\\_\\_ to the name of that module.\n",
    "\n",
    "Let's go a head as see how to do that.\n",
    "\n",
    "Go to second_module.py and import first_module as shown below and save it."
   ]
  },
  {
   "cell_type": "code",
   "execution_count": null,
   "metadata": {},
   "outputs": [],
   "source": [
    "# second_module.py\n",
    "\n",
    "import first_module"
   ]
  },
  {
   "cell_type": "markdown",
   "metadata": {},
   "source": [
    "Run second_module.py and you should get the following output:\n",
    "    \n",
    "    The value of __name__ is: first_module"
   ]
  },
  {
   "cell_type": "markdown",
   "metadata": {},
   "source": [
    "The reason we are getting the above result is that the code in first\\_module.py file is **NOT being run directly**, instead it is imported and **the value of \\_\\_name\\_\\_ is now the name of the imported module which is first\\_module**, not '\\_\\_main\\_\\_'.\n",
    "\n",
    "Now update second_module.py to be as below and save it."
   ]
  },
  {
   "cell_type": "code",
   "execution_count": null,
   "metadata": {},
   "outputs": [],
   "source": [
    "# second_module.py\n",
    "\n",
    "import first_module\n",
    "\n",
    "print(\"The value of __name__ is: {}\".format(__name__))"
   ]
  },
  {
   "cell_type": "markdown",
   "metadata": {},
   "source": [
    "If you re-run second_module.py, you should see:\n",
    "\n",
    "       The value of __name__ is: first_module\n",
    "       The value of __name__ is: __main__\n",
    "\n",
    "       \n",
    "This is because first\\_module is an imported Python code so the value of \\_\\_name\\_\\_ variable will be first_module. Then comes the print statement in second\\_module.py which shows that \\_\\_name\\_\\_ has the value \\_\\_main\\_\\_ because Python is running this code directly.\n",
    "\n",
    "Great! now return to first_module.py and update it with the following code."
   ]
  },
  {
   "cell_type": "code",
   "execution_count": 1,
   "metadata": {},
   "outputs": [],
   "source": [
    "# first_module.py\n",
    "\n",
    "def main():\n",
    "    print(\"The value of __name__ is: {}\".format(__name__))\n",
    "    \n",
    "if __name__ == '__main__':\n",
    "    main()"
   ]
  },
  {
   "cell_type": "markdown",
   "metadata": {},
   "source": [
    "It is time now to discuss why sometimes it is useful to check if \n",
    "\\_\\_name\\_\\_ == '\\_\\_main\\_\\_' which basically asking: Is this file run directly by Python ? or is it being imported from another module?\n",
    "\n",
    "Since the code in first\\_module.py is run directly in this case, the value of \\_\\_name\\_\\_ is equal to '\\_\\_main\\_\\_'. Hence, the main() function will be called and first_module.py will execute the print statement and the output will be:\n",
    "\n",
    "\n",
    "               First Module's Name: __main__\n",
    "            \n",
    "Now if we go back to second_module.py and run its code again."
   ]
  },
  {
   "cell_type": "code",
   "execution_count": null,
   "metadata": {},
   "outputs": [],
   "source": [
    "# second_module.py\n",
    "\n",
    "import first_module\n",
    "\n",
    "print(\"The value of __name__ is: {}\".format(__name__))\n"
   ]
  },
  {
   "cell_type": "markdown",
   "metadata": {},
   "source": [
    "when running second_module.py this time, the output  will be:\n",
    "\n",
    "             The value of __name__ is: __main__\n",
    "\n",
    "             \n",
    "Why? Python will import the file first\\_module but it will not print anything because by looking at first\\_module.py you see that the print statement is inside the function main() and main() will not be called unless \\_\\_name\\_\\_ is equal to '\\_\\_main\\_\\_' which is not True because first\\_module.py is not run directly - it is imported in second\\_module.py and therefore \\_\\_name\\_\\_ is equal to first\\_module not '\\_\\_main\\_\\_'.\n",
    "\n",
    "To illustrate this further, let's change the code in first\\_module.py as follows and save it:"
   ]
  },
  {
   "cell_type": "code",
   "execution_count": null,
   "metadata": {},
   "outputs": [],
   "source": [
    "# first_module.py\n",
    "\n",
    "if __name__ == '__main__':\n",
    "    print(\"Run Directly!\")\n",
    "else:\n",
    "    print(\"Run From Import!\")"
   ]
  },
  {
   "cell_type": "markdown",
   "metadata": {},
   "source": [
    "Whenever you run first\\_module.py you can see:\n",
    "    \n",
    "            Run Directly!\n",
    "            \n",
    "And whenever you run second_module.py you will see:\n",
    "\n",
    "\n",
    "           Run From Import!\n",
    "           The value of __name__ is: __main__\n",
    "           \n",
    "Because Python will hit the else statement when importing first\\_module.py and print **Run From Import!** and proceed with second\\_module.py code as shown above.\n",
    "\n",
    "Hopefully this clears up any confusion that you may have had about the statement  if \\_\\_name\\_\\_ == '\\_\\_main\\_\\_'\n",
    "\n",
    "**BOTTOM LINE: The purpose of using that statement is that sometimes you need to execute a code whenever Python is running the main file and sometimes another code has to be executed only when Python is importing another file.**\n",
    "\n",
    "Great! now let's see if we can call main() from second\\_module.py. First bring back the older version of first\\_module.py as below with one print added at the very top."
   ]
  },
  {
   "cell_type": "code",
   "execution_count": 3,
   "metadata": {},
   "outputs": [
    {
     "name": "stdout",
     "output_type": "stream",
     "text": [
      "This will always run!\n",
      "The value of __name__ is: __main__\n"
     ]
    }
   ],
   "source": [
    "# first_module.py\n",
    "\n",
    "print(\"This will always run!\")\n",
    "\n",
    "def main():\n",
    "    print(\"The value of __name__ is: {}\".format(__name__))\n",
    "    \n",
    "if __name__ == '__main__':\n",
    "    main()"
   ]
  },
  {
   "cell_type": "markdown",
   "metadata": {},
   "source": [
    "Go to second\\_module.py and run it, you'll see:\n",
    "\n",
    "\n",
    "        This will always run!\n",
    "        The value of __name__ is: __main__\n",
    "\n",
    "        \n",
    "Here Python imported first\\_module and the only statement that will be execuated is **print(\"This will always be run\")** because it's outside of the main() function and it runs regardless even if the code is imported or not.\n",
    "\n",
    "Now if we want to run main() from second\\_module.py, we can call it directly by writing the module_name.main() as follows:"
   ]
  },
  {
   "cell_type": "code",
   "execution_count": null,
   "metadata": {},
   "outputs": [],
   "source": [
    "# second_module.py\n",
    "\n",
    "import first_module\n",
    "\n",
    "# run main() anyway\n",
    "first_module.main()\n",
    "\n",
    "print(\"The value of __name__ is: {}\".format(__name__))"
   ]
  },
  {
   "cell_type": "markdown",
   "metadata": {},
   "source": [
    "Save it, re-run it, and you should be able to see:\n",
    "\n",
    "                This will always run!\n",
    "                The value of __name__ is: first_module\n",
    "                The value of __name__ is: __main__"
   ]
  },
  {
   "cell_type": "markdown",
   "metadata": {},
   "source": [
    "## Conclusion\n",
    "\n",
    "### Now you fully understand the difference between running a Python file directly or by importing it and how this affects the value of the special variable \\_\\_name\\_\\_.\n",
    "\n",
    "### Well done for reaching the end of this section. Next, you will learn about exception handling in Python."
   ]
  },
  {
   "cell_type": "code",
   "execution_count": null,
   "metadata": {},
   "outputs": [],
   "source": []
  }
 ],
 "metadata": {
  "kernelspec": {
   "display_name": "Python 3",
   "language": "python",
   "name": "python3"
  },
  "language_info": {
   "codemirror_mode": {
    "name": "ipython",
    "version": 3
   },
   "file_extension": ".py",
   "mimetype": "text/x-python",
   "name": "python",
   "nbconvert_exporter": "python",
   "pygments_lexer": "ipython3",
   "version": "3.6.5"
  }
 },
 "nbformat": 4,
 "nbformat_minor": 2
}
