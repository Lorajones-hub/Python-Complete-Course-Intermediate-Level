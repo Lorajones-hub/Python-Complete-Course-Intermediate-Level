{
 "cells": [
  {
   "cell_type": "markdown",
   "metadata": {},
   "source": [
    "## Question 1: \n",
    "\n",
    "Indicate the values of match() and span() methods as a result of matching the following patterns and strings:\n",
    "\n",
    "### Solution:"
   ]
  },
  {
   "cell_type": "code",
   "execution_count": 15,
   "metadata": {},
   "outputs": [
    {
     "name": "stdout",
     "output_type": "stream",
     "text": [
      "None\n",
      "<_sre.SRE_Match object; span=(0, 5), match='cokie'>\n",
      "<_sre.SRE_Match object; span=(0, 6), match='cookie'>\n"
     ]
    }
   ],
   "source": [
    "import re\n",
    "\n",
    "print(re.match(r'co+kie', 'ckie'))\n",
    "\n",
    "print(re.match(r'co+kie', 'cokie'))\n",
    "\n",
    "print(re.match(r'co+kie', 'cookie'))"
   ]
  },
  {
   "cell_type": "markdown",
   "metadata": {},
   "source": [
    "## Question 2: \n",
    "\n",
    "Write a RE patterns to match the following:\n",
    "\n",
    "a. Exactly 5 'ab' characters.\n",
    "\n",
    "b. One or two 'c' characters in the word 'success'\n",
    "\n",
    "c. Assume you have this list: L = ['when', 'where', 'what', 'which']\n",
    "  -  Iterate over the list and write a single pattern that matches all the list items.\n"
   ]
  },
  {
   "cell_type": "code",
   "execution_count": 12,
   "metadata": {},
   "outputs": [
    {
     "name": "stdout",
     "output_type": "stream",
     "text": [
      "<_sre.SRE_Match object; span=(0, 10), match='ababababab'>\n"
     ]
    }
   ],
   "source": [
    "# Q2a\n",
    "print(re.match(r'(ab){5}', 'ababababab'))"
   ]
  },
  {
   "cell_type": "code",
   "execution_count": 8,
   "metadata": {},
   "outputs": [
    {
     "name": "stdout",
     "output_type": "stream",
     "text": [
      "<_sre.SRE_Match object; span=(0, 4), match='succ'>\n"
     ]
    }
   ],
   "source": [
    "# Q2b\n",
    "print(re.match(r'suc{1,2}', 'success'))"
   ]
  },
  {
   "cell_type": "code",
   "execution_count": 10,
   "metadata": {},
   "outputs": [
    {
     "name": "stdout",
     "output_type": "stream",
     "text": [
      "<_sre.SRE_Match object; span=(0, 4), match='when'>\n",
      "<_sre.SRE_Match object; span=(0, 5), match='where'>\n",
      "<_sre.SRE_Match object; span=(0, 4), match='what'>\n",
      "<_sre.SRE_Match object; span=(0, 5), match='which'>\n"
     ]
    }
   ],
   "source": [
    "# Q2c\n",
    "L = ['when', 'where', 'what', 'which']\n",
    "for item in L:\n",
    "    print(re.match(r'wh.*', item))"
   ]
  },
  {
   "cell_type": "markdown",
   "metadata": {},
   "source": [
    "## Question 3: \n",
    "\n",
    "Use the regular expression findall() method to find all the occurrences of the word 'Home' in the string: \n",
    "\n",
    "                  'Home Sweet Home!'\n",
    "                  \n",
    "### Solution:"
   ]
  },
  {
   "cell_type": "code",
   "execution_count": 2,
   "metadata": {},
   "outputs": [
    {
     "name": "stdout",
     "output_type": "stream",
     "text": [
      "['Home', 'Home']\n"
     ]
    }
   ],
   "source": [
    "s = 'Home Sweet Home!'\n",
    "\n",
    "print(re.findall(r'Home', s))"
   ]
  },
  {
   "cell_type": "markdown",
   "metadata": {},
   "source": [
    "## Question 4:\n",
    "\n",
    "Use the regular expression split() method to split the following email address by the '@' character.\n",
    "\n",
    "                  username@gmail.com\n",
    "                  \n",
    "### Solution:"
   ]
  },
  {
   "cell_type": "code",
   "execution_count": 5,
   "metadata": {},
   "outputs": [
    {
     "name": "stdout",
     "output_type": "stream",
     "text": [
      "The email is splitted into: ['username', 'gmail.com']\n"
     ]
    }
   ],
   "source": [
    "email = 'username@gmail.com'\n",
    "\n",
    "print('The email is splitted into:', re.split(r'@', email))"
   ]
  },
  {
   "cell_type": "markdown",
   "metadata": {},
   "source": [
    "## Question 5:\n",
    "\n",
    "Use the regular expression search() method to find the word 'support' in the following text:\n",
    "\n",
    "      text = 'Please contact us at: support@company.com. Thank you for your support!'\n",
    "\n",
    "Indicate the starting and ending location of the matching string.\n",
    "\n",
    "### Solution:"
   ]
  },
  {
   "cell_type": "code",
   "execution_count": 17,
   "metadata": {},
   "outputs": [
    {
     "name": "stdout",
     "output_type": "stream",
     "text": [
      "<_sre.SRE_Match object; span=(22, 29), match='support'>\n"
     ]
    }
   ],
   "source": [
    "import re\n",
    "\n",
    "text = 'Please contact us at: support@company.com. Thank you for your support!'\n",
    "\n",
    "print(re.search(r'support', text))"
   ]
  },
  {
   "cell_type": "markdown",
   "metadata": {},
   "source": [
    "The starting location of search: 22\n",
    "The ending location of search:   29"
   ]
  },
  {
   "cell_type": "markdown",
   "metadata": {},
   "source": [
    "## Great Job!"
   ]
  },
  {
   "cell_type": "code",
   "execution_count": null,
   "metadata": {},
   "outputs": [],
   "source": []
  }
 ],
 "metadata": {
  "kernelspec": {
   "display_name": "Python 3",
   "language": "python",
   "name": "python3"
  },
  "language_info": {
   "codemirror_mode": {
    "name": "ipython",
    "version": 3
   },
   "file_extension": ".py",
   "mimetype": "text/x-python",
   "name": "python",
   "nbconvert_exporter": "python",
   "pygments_lexer": "ipython3",
   "version": "3.6.5"
  }
 },
 "nbformat": 4,
 "nbformat_minor": 2
}
