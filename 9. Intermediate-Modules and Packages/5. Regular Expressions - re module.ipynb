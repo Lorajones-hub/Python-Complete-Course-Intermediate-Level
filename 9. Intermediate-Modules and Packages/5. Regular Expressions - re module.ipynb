{
 "cells": [
  {
   "cell_type": "markdown",
   "metadata": {},
   "source": [
    "# Regular Expressions - re module\n",
    "\n",
    "Regular expressions, also known as RE, regex, or regexp patterns, are tiny high-specialized coding embedded within Python and can be accessed by importing Python's **re** module. REs are used to specify rules for matching a set of strings. This set of strings can be anything you like, English sentences, email addresses, URLs, and much more. REs can also be used to modify strings or split them apart in various ways.\n",
    "\n",
    "It is important to note that not all string processing can be done using REs and sometimes the RE itself turn out to be very complicated. In these cases, we recommend that you write a Python code to process the string which will be, although slower, easier to understand.\n",
    "\n",
    "Let's start with simple patterns.\n",
    "\n",
    "## RE characters matching\n",
    "\n",
    "All letters and characters simply match themselves, for example the **RE hello** will exactly match the **string hello**. You can enable case-insensitivity that allows the RE hello to match Hello, heLLo, ... etc. \n",
    "\n",
    "Some other characters called **metacharacters** do not match themselves. They have a special role which affects other portions of the RE by repeating them or changing their meaning.\n",
    "\n",
    "Here is a list of complete metacharacters that will be discussed one-by-one.\n",
    "       \n",
    "       \n",
    "                                         . ^ $ * + ? { } [ ] \\ | ( )\n",
    "                 \n",
    "In Python, to match a RE with a string, import the re module and call the match() method which takes two arguments, the RE pattern and the string to be matched.\n"
   ]
  },
  {
   "cell_type": "markdown",
   "metadata": {},
   "source": [
    "### Matching character class [ ]\n",
    "\n",
    "The characters [ and ] is used in RE to specify a character class, which is the set of characters you want to match a string with.\n",
    "\n",
    "Characters can be listed individually, or a range of characters can be indicated by giving two characters and separating them by a '-'.\n",
    "\n",
    "**Example 1**:\n",
    "\n",
    "RE is [abc] will match **any of the characters** 'a', 'b', or 'c'. If you want to use a range to express the same set of characters, use [a-c]. "
   ]
  },
  {
   "cell_type": "code",
   "execution_count": 2,
   "metadata": {},
   "outputs": [
    {
     "data": {
      "text/plain": [
       "<_sre.SRE_Match object; span=(0, 1), match='a'>"
      ]
     },
     "execution_count": 2,
     "metadata": {},
     "output_type": "execute_result"
    }
   ],
   "source": [
    "import re\n",
    "\n",
    "# matches char 'a' in string 'a'\n",
    "re.match(r'[abc]', 'a')"
   ]
  },
  {
   "cell_type": "markdown",
   "metadata": {},
   "source": [
    "As you can see from the output, the match() method gives 3 information about the matching string:\n",
    "\n",
    " - **re.match()**: returns a Match object. \n",
    " \n",
    " \n",
    " - **span**: is a tuple containing the (start, end) positions of the match.\n",
    " \n",
    " \n",
    " - **match**: is the string that matches the RE pattern.\n",
    " \n",
    "\n",
    "So in the above example, we are trying to see if the string 'a' matches the RE [abc] and it does match because [abc] matches any of the characters 'a', 'b', or 'c'. After printing the result of matching, we see span=(0, 1) which means the matched string started at position 0 and ended at position 1 (our string is only one character so we don't even have position 1). span will be clarified more in the future examples.  \n",
    "\n",
    "**Example 2**:\n",
    "\n",
    "\n",
    "RE is [a-z] will match only lowercase letters."
   ]
  },
  {
   "cell_type": "code",
   "execution_count": 3,
   "metadata": {},
   "outputs": [
    {
     "data": {
      "text/plain": [
       "<_sre.SRE_Match object; span=(0, 1), match='h'>"
      ]
     },
     "execution_count": 3,
     "metadata": {},
     "output_type": "execute_result"
    }
   ],
   "source": [
    "# matches char 'h' in string 'hello'\n",
    "re.match(r'[a-z]', 'hello')"
   ]
  },
  {
   "cell_type": "markdown",
   "metadata": {},
   "source": [
    "**Notice how the matching engine has stopped after it found the first match which is character 'h' with the RE pattern [a-z].**"
   ]
  },
  {
   "cell_type": "code",
   "execution_count": 10,
   "metadata": {},
   "outputs": [
    {
     "name": "stdout",
     "output_type": "stream",
     "text": [
      "None\n"
     ]
    }
   ],
   "source": [
    "# no match here, 'Hello' doesn't start with lowercase letter\n",
    "print(re.match(r'[a-z]', 'Hello'))"
   ]
  },
  {
   "cell_type": "code",
   "execution_count": 11,
   "metadata": {},
   "outputs": [
    {
     "name": "stdout",
     "output_type": "stream",
     "text": [
      "None\n"
     ]
    }
   ],
   "source": [
    "# no match here, 'Hello' doesn't start with lowercase letter\n",
    "print(re.match(r'[a-z]', '123hello'))"
   ]
  },
  {
   "cell_type": "markdown",
   "metadata": {},
   "source": [
    "**NOTE**: metacharacters are inactive inside character classes. For example, [ijk\\$] will match any of the characters 'i', 'j', 'k', or '\\$'. '$' is a metacharacter but because it is inside a character class, its special nature has stopped.\n",
    "\n"
   ]
  },
  {
   "cell_type": "code",
   "execution_count": 9,
   "metadata": {},
   "outputs": [
    {
     "name": "stdout",
     "output_type": "stream",
     "text": [
      "<_sre.SRE_Match object; span=(0, 1), match='$'>\n"
     ]
    }
   ],
   "source": [
    "# matches char '$' in string '$aaa'\n",
    "print(re.match(r'[ijk$]', '$aaa'))"
   ]
  },
  {
   "cell_type": "markdown",
   "metadata": {},
   "source": [
    "### Unmatching character class [^ ]\n",
    "\n",
    "You can match any character NOT listed within a class by using the '^' symbol as the first character of the class. This is known as **_complementing_** the set of matching characters. Let's take some examples:\n",
    "\n",
    "**Example 1**:\n",
    "\n",
    "[^5] will match any character except '5'. In this example, we will write the code in a different way by assigning a label to a string **s**, creating a **Match object m** by calling the match() method from the regular expression **re** library, and printing the result of match."
   ]
  },
  {
   "cell_type": "code",
   "execution_count": 18,
   "metadata": {},
   "outputs": [
    {
     "name": "stdout",
     "output_type": "stream",
     "text": [
      "None\n"
     ]
    }
   ],
   "source": [
    "s = '5'\n",
    "\n",
    "# m is a Match object\n",
    "# no match here\n",
    "m = re.match(r'[^5]', s)\n",
    "\n",
    "print(m)"
   ]
  },
  {
   "cell_type": "code",
   "execution_count": 13,
   "metadata": {},
   "outputs": [
    {
     "name": "stdout",
     "output_type": "stream",
     "text": [
      "<_sre.SRE_Match object; span=(0, 1), match='1'>\n"
     ]
    }
   ],
   "source": [
    "s = '123'\n",
    "\n",
    "# m is a Match object\n",
    "# '1' will be matched with [^5]\n",
    "m = re.match(r'[^5]', s)\n",
    "\n",
    "print(m)"
   ]
  },
  {
   "cell_type": "markdown",
   "metadata": {},
   "source": [
    "The match is only the character '1' from s and the start and end locations of span is 0 and 1 respectively. Try a couple of examples yourself and to make sure you understand."
   ]
  },
  {
   "cell_type": "markdown",
   "metadata": {},
   "source": [
    "### Escape metacharacter \\\n",
    "\n",
    "Perhaps the most important metacharacter in RE is the backslash, \\. \n",
    "\n",
    "You have seen earlier with Python string literals, the backslash can be followed by various characters to create special effects on the string. For example, '\\n' is used in a string to print it in multiple lines:"
   ]
  },
  {
   "cell_type": "code",
   "execution_count": 19,
   "metadata": {},
   "outputs": [
    {
     "name": "stdout",
     "output_type": "stream",
     "text": [
      "Hi there!\n",
      "How are you doing today?\n"
     ]
    }
   ],
   "source": [
    "print(\"Hi there!\\nHow are you doing today?\")"
   ]
  },
  {
   "cell_type": "markdown",
   "metadata": {},
   "source": [
    "The backslash is also used to escape all the metacharacters so you can still match them in patterns; for example, if you need to match a \\[ or \\, you can precede them with a backslash to remove their special meaning like this: \\\\[ or \\\\."
   ]
  },
  {
   "cell_type": "code",
   "execution_count": 22,
   "metadata": {},
   "outputs": [
    {
     "name": "stdout",
     "output_type": "stream",
     "text": [
      "<_sre.SRE_Match object; span=(0, 7), match='[10:20]'>\n"
     ]
    }
   ],
   "source": [
    "print(re.match(r'\\[10:20\\]', '[10:20]'))"
   ]
  },
  {
   "cell_type": "markdown",
   "metadata": {},
   "source": [
    "Note the matching string is '[10:20]' and the matching spans from location 0 (which is character '['\\) to  location 7 (which is after character ']') where the matching process stopped."
   ]
  },
  {
   "cell_type": "markdown",
   "metadata": {},
   "source": [
    "### Predefined sets of characters\n",
    "\n",
    "These sets begin with backslash '\\' and used to define sets of digits, letters, ... etc. \n",
    "\n",
    "#### \\w\n",
    "\n",
    "Matches any alphanumeric characters which are lowercase and uppercase letters, digits, and the underscore \\_. This is equivalent to the class [a-zA-Z0-9_] "
   ]
  },
  {
   "cell_type": "code",
   "execution_count": 24,
   "metadata": {},
   "outputs": [
    {
     "name": "stdout",
     "output_type": "stream",
     "text": [
      "<_sre.SRE_Match object; span=(0, 1), match='p'>\n"
     ]
    }
   ],
   "source": [
    "print(re.match(r'\\w', 'python'))"
   ]
  },
  {
   "cell_type": "code",
   "execution_count": 26,
   "metadata": {},
   "outputs": [
    {
     "name": "stdout",
     "output_type": "stream",
     "text": [
      "<_sre.SRE_Match object; span=(0, 1), match='_'>\n"
     ]
    }
   ],
   "source": [
    "print(re.match(r'\\w', '_init_'))"
   ]
  },
  {
   "cell_type": "markdown",
   "metadata": {},
   "source": [
    "#### \\W\n",
    "\n",
    "Matches any **non-alphanumeric** characters. This is equivalent to the class [^a-zA-Z0-9_]."
   ]
  },
  {
   "cell_type": "code",
   "execution_count": 29,
   "metadata": {},
   "outputs": [
    {
     "name": "stdout",
     "output_type": "stream",
     "text": [
      "None\n"
     ]
    }
   ],
   "source": [
    "print(re.match(r'\\W', '_init_'))"
   ]
  },
  {
   "cell_type": "markdown",
   "metadata": {},
   "source": [
    "#### \\d\n",
    "\n",
    "Matches any decimal digit; this is equivalent to the class [0-9]\n"
   ]
  },
  {
   "cell_type": "code",
   "execution_count": 28,
   "metadata": {},
   "outputs": [
    {
     "name": "stdout",
     "output_type": "stream",
     "text": [
      "<_sre.SRE_Match object; span=(0, 1), match='3'>\n"
     ]
    }
   ],
   "source": [
    "print(re.match(r'\\d', '357'))"
   ]
  },
  {
   "cell_type": "markdown",
   "metadata": {},
   "source": [
    "#### \\D\n",
    "\n",
    "Matches any **non-digit** character; this is equivalent to the class [^0-9]\n"
   ]
  },
  {
   "cell_type": "code",
   "execution_count": 30,
   "metadata": {},
   "outputs": [
    {
     "name": "stdout",
     "output_type": "stream",
     "text": [
      "None\n"
     ]
    }
   ],
   "source": [
    "print(re.match(r'\\D', '357'))"
   ]
  },
  {
   "cell_type": "markdown",
   "metadata": {},
   "source": [
    "#### \\s\n",
    "Matches any whitespace character; this is equivalent to the class [ \\t\\n\\r\\f\\v]. Notice the space in the pattern."
   ]
  },
  {
   "cell_type": "code",
   "execution_count": 31,
   "metadata": {},
   "outputs": [
    {
     "name": "stdout",
     "output_type": "stream",
     "text": [
      "<_sre.SRE_Match object; span=(0, 1), match='\\n'>\n"
     ]
    }
   ],
   "source": [
    "# matches '\\n'\n",
    "print(re.match(r'\\s', '\\n'))"
   ]
  },
  {
   "cell_type": "code",
   "execution_count": 33,
   "metadata": {},
   "outputs": [
    {
     "name": "stdout",
     "output_type": "stream",
     "text": [
      "<_sre.SRE_Match object; span=(0, 1), match=' '>\n"
     ]
    }
   ],
   "source": [
    "# matches the space ' '\n",
    "print(re.match(r'\\s', ' '))"
   ]
  },
  {
   "cell_type": "markdown",
   "metadata": {},
   "source": [
    "#### \\S\n",
    "Matches any non-whitespace character; this is equivalent to the class [^ \\t\\n\\r\\f\\v]."
   ]
  },
  {
   "cell_type": "code",
   "execution_count": 35,
   "metadata": {},
   "outputs": [
    {
     "name": "stdout",
     "output_type": "stream",
     "text": [
      "None\n"
     ]
    }
   ],
   "source": [
    "# will not match anything\n",
    "print(re.match(r'\\S', ' \\t \\n'))"
   ]
  },
  {
   "cell_type": "markdown",
   "metadata": {},
   "source": [
    "#### The dot . \n",
    "\n",
    "The RE **.** (the dot) matches anything except the newline character. You can use it if you want to match \"any character\".\n",
    "\n",
    "**NOTE**: there is an alternate to **.** which is re.DOTALL that matches even the newline."
   ]
  },
  {
   "cell_type": "code",
   "execution_count": 12,
   "metadata": {},
   "outputs": [
    {
     "name": "stdout",
     "output_type": "stream",
     "text": [
      "<_sre.SRE_Match object; span=(0, 1), match='f'>\n"
     ]
    }
   ],
   "source": [
    "print(re.match(r'.', 'fhdjhd77^&&*'))"
   ]
  },
  {
   "cell_type": "markdown",
   "metadata": {},
   "source": [
    "You can combine different sets of characters in one RE. For example, [\\s,\\d] is a character class that will match any whitespace character, or ',' or any digit. "
   ]
  },
  {
   "cell_type": "code",
   "execution_count": 13,
   "metadata": {},
   "outputs": [
    {
     "name": "stdout",
     "output_type": "stream",
     "text": [
      "<_sre.SRE_Match object; span=(0, 1), match='6'>\n",
      "<_sre.SRE_Match object; span=(0, 1), match=' '>\n"
     ]
    }
   ],
   "source": [
    "print(re.match(r'[\\s,\\d]', '6, '))\n",
    "print(re.match(r'[\\s,\\d]', ' 3,0'))"
   ]
  },
  {
   "cell_type": "markdown",
   "metadata": {},
   "source": [
    "## Repeated patterns\n",
    "\n",
    "There are five different ways to check for repeated patterns:\n",
    "\n",
    "### 1. * \n",
    "\n",
    "The * metacharacter specifies that the previous character can be matched **zero or more times**, instead of exactly once."
   ]
  },
  {
   "cell_type": "code",
   "execution_count": 46,
   "metadata": {},
   "outputs": [
    {
     "name": "stdout",
     "output_type": "stream",
     "text": [
      "<_sre.SRE_Match object; span=(0, 2), match='ct'>\n",
      "<_sre.SRE_Match object; span=(0, 3), match='cat'>\n",
      "<_sre.SRE_Match object; span=(0, 4), match='caat'>\n",
      "<_sre.SRE_Match object; span=(0, 5), match='caaat'>\n",
      "<_sre.SRE_Match object; span=(0, 6), match='caaaat'>\n"
     ]
    }
   ],
   "source": [
    "print(re.match(r'ca*t', 'ct'))      # 0 'a'\n",
    "print(re.match(r'ca*t', 'cat'))     # 1 'a'\n",
    "print(re.match(r'ca*t', 'caat'))    # 2 'a'\n",
    "print(re.match(r'ca*t', 'caaat'))   # 3 'a'\n",
    "print(re.match(r'ca*t', 'caaaat'))  # 4 'a'"
   ]
  },
  {
   "cell_type": "markdown",
   "metadata": {},
   "source": [
    "**The * is greedy; when there is a repeating pattern in the string the matching engine will try to match as many times as possible. As seen in the example above, the string 'caaaat' was matched with the RE as the engine took all the four 'a' characters not only one 'a'.**"
   ]
  },
  {
   "cell_type": "markdown",
   "metadata": {},
   "source": [
    "#### 2. +\n",
    "\n",
    "The **+** metacharacter specifies that the previous character can be matched **one or more times**."
   ]
  },
  {
   "cell_type": "code",
   "execution_count": 50,
   "metadata": {},
   "outputs": [
    {
     "name": "stdout",
     "output_type": "stream",
     "text": [
      "None\n",
      "<_sre.SRE_Match object; span=(0, 3), match='bok'>\n",
      "<_sre.SRE_Match object; span=(0, 4), match='book'>\n",
      "<_sre.SRE_Match object; span=(0, 5), match='boook'>\n",
      "<_sre.SRE_Match object; span=(0, 6), match='booook'>\n"
     ]
    }
   ],
   "source": [
    "print(re.match(r'bo+k', 'bk'))      # 0 'b'\n",
    "print(re.match(r'bo+k', 'bok'))     # 1 'b'\n",
    "print(re.match(r'bo+k', 'book'))    # 2 'b'\n",
    "print(re.match(r'bo+k', 'boook'))   # 3 'b'\n",
    "print(re.match(r'bo+k', 'booook'))  # 4 'b'"
   ]
  },
  {
   "cell_type": "markdown",
   "metadata": {},
   "source": [
    "Notice the first matching attempt wasn't successful because **+** needs at least one 'o' in the string."
   ]
  },
  {
   "cell_type": "markdown",
   "metadata": {},
   "source": [
    "#### 3. ?\n",
    "\n",
    "The **?** metacharacter specifies that the previous charcter can be matched **zero or one time**."
   ]
  },
  {
   "cell_type": "code",
   "execution_count": 51,
   "metadata": {},
   "outputs": [
    {
     "name": "stdout",
     "output_type": "stream",
     "text": [
      "<_sre.SRE_Match object; span=(0, 2), match='bk'>\n",
      "<_sre.SRE_Match object; span=(0, 3), match='bok'>\n",
      "None\n"
     ]
    }
   ],
   "source": [
    "print(re.match(r'bo?k', 'bk'))      # 0 'b'\n",
    "print(re.match(r'bo?k', 'bok'))     # 1 'b'\n",
    "print(re.match(r'bo?k', 'book'))    # 2 'b'\n"
   ]
  },
  {
   "cell_type": "markdown",
   "metadata": {},
   "source": [
    "#### 4. {m}\n",
    "\n",
    "Specifies that the previous character should be matched **exactly m times**; fewer matches cause the entire RE not to match. But more than m matches cause the engine to stop at the first m matches.\n",
    "\n",
    "For example, a{6} will match exactly six 'a' characters, but not five."
   ]
  },
  {
   "cell_type": "code",
   "execution_count": 9,
   "metadata": {},
   "outputs": [
    {
     "name": "stdout",
     "output_type": "stream",
     "text": [
      "None\n",
      "<_sre.SRE_Match object; span=(0, 7), match='abbbbbb'>\n",
      "<_sre.SRE_Match object; span=(0, 7), match='abbbbbb'>\n"
     ]
    }
   ],
   "source": [
    "import re\n",
    "# no match, less than 6 'b'\n",
    "print(re.match(r'ab{6}', 'abbb')) \n",
    "\n",
    "# match, exactly 6 'b'\n",
    "print(re.match(r'ab{6}', 'abbbbbb'))\n",
    "\n",
    "\n",
    "# match the first 6 'a'\n",
    "print(re.match(r'ab{6}', 'abbbbbbbbbbbbbb'))"
   ]
  },
  {
   "cell_type": "markdown",
   "metadata": {},
   "source": [
    "#### 5. {m,n}\n",
    "\n",
    "Specifies that the previous character should be matched **from m to n times**, where m is the minimum number of repetitions and n is the maximum number. \n",
    "\n",
    "- Omitting m, when we write only {,n}, means we want to match a pattern minimum of zero times and maximum n times.\n",
    "\n",
    "\n",
    "- Omitting n, when we write only {m,}, means we want to match a pattern minimum m times but with no maximum."
   ]
  },
  {
   "cell_type": "code",
   "execution_count": 6,
   "metadata": {},
   "outputs": [
    {
     "name": "stdout",
     "output_type": "stream",
     "text": [
      "None\n",
      "<_sre.SRE_Match object; span=(0, 4), match='abbb'>\n",
      "<_sre.SRE_Match object; span=(0, 6), match='abbbbb'>\n"
     ]
    }
   ],
   "source": [
    "# no match, less than 3 'b'\n",
    "print(re.match(r'ab{3,5}', 'ab')) \n",
    "\n",
    "# matches 'a' and 3 'b' (minimium)\n",
    "print(re.match(r'ab{3,5}', 'abbb'))\n",
    "\n",
    "\n",
    "# matches 'a' and the first 5 'b'\n",
    "print(re.match(r'ab{3,5}', 'abbbbbbbbb'))"
   ]
  },
  {
   "cell_type": "markdown",
   "metadata": {},
   "source": [
    "## Methods of match object\n",
    "\n",
    "The match object has some useful methods that tell us different information about the pattern matching.\n",
    "\n",
    "### 1. group()\n",
    "\n",
    "Returns the substring that was matched by the RE."
   ]
  },
  {
   "cell_type": "code",
   "execution_count": 66,
   "metadata": {},
   "outputs": [
    {
     "data": {
      "text/plain": [
       "'abbbbb'"
      ]
     },
     "execution_count": 66,
     "metadata": {},
     "output_type": "execute_result"
    }
   ],
   "source": [
    "m = re.match(r'ab{3,5}', 'abbbbbbbbb')\n",
    "m.group()"
   ]
  },
  {
   "cell_type": "markdown",
   "metadata": {},
   "source": [
    "### 2. start() and end()\n",
    "\n",
    "Return the starting and the ending positions of the match."
   ]
  },
  {
   "cell_type": "code",
   "execution_count": 69,
   "metadata": {},
   "outputs": [
    {
     "name": "stdout",
     "output_type": "stream",
     "text": [
      "0\n",
      "6\n"
     ]
    }
   ],
   "source": [
    "print(m.start())\n",
    "print(m.end())"
   ]
  },
  {
   "cell_type": "markdown",
   "metadata": {},
   "source": [
    "## RE applications\n",
    "\n",
    "RE is very useful in many areas, such as searching for certain patterns in a text, modifying strings in text, and finding all occurrences of a pattern in a text. \n",
    "\n",
    "Let's explore these topics to show the power of RE.\n",
    "\n",
    "### Searching for patterns\n",
    "\n",
    "One of the most common tasks to use RE is when looking for particular patterns in text. To do that, we will use the search() function that searches for first occurrence of RE pattern within string.\n",
    "\n",
    "**NOTE**: The difference between **match** and **search** is:\n",
    "\n",
    " - **match()**: Checks for a match only at the beginning of the string.\n",
    " \n",
    " \n",
    " - **search()**: Scans through a string looking for the first location where the RE pattern produces a match.\n",
    "      - Returns a corresponding match object (instance) if there is a match. \n",
    "      - Returns None if no position in the string matches the pattern.\n",
    "      - This is what Perl does by default.\n",
    " \n",
    "\n",
    "**The search() function returns a match object on success, None on failure**. \n",
    "\n",
    "In this example, we provide a RE in which we define three subgroups of matching patterns. Each subgroup is enclosed in ( ). We will use two methods:\n",
    "\n",
    "- group(num): This method returns entire match if no num argument supplied, or specific subgroup with number equals to num.\n",
    "\n",
    "\n",
    "- groups(): This method returns all matching subgroups in a tuple (empty if there weren't any).\n",
    "\n"
   ]
  },
  {
   "cell_type": "code",
   "execution_count": 45,
   "metadata": {},
   "outputs": [
    {
     "name": "stdout",
     "output_type": "stream",
     "text": [
      "search_obj.group()  :  Cats are smarter than dogs!\n",
      "search_obj.group(1) :  Cats\n",
      "search_obj.group(2) :  smarter\n",
      "search_obj.group(3) :  than dogs!\n",
      "search_obj.groups() :  ('Cats', 'smarter', 'than dogs!')\n"
     ]
    }
   ],
   "source": [
    "import re\n",
    "\n",
    "line = \"Cats are smarter than dogs!\"\n",
    "\n",
    "# RE is (.*) are (.*?) (.*) \n",
    "# there are 3 groups (.*) (.*?) (.*) \n",
    "# (.*) means match anything zero or more times\n",
    "# (.*?) means match anything exactly one time\n",
    "# space are space matches themselves\n",
    "\n",
    "search_obj = re.search(r'(.*) are (.*?) (.*)', line)\n",
    "\n",
    "if search_obj:\n",
    "    print(\"search_obj.group()  : \", search_obj.group())\n",
    "    print(\"search_obj.group(1) : \", search_obj.group(1))\n",
    "    print(\"search_obj.group(2) : \", search_obj.group(2))\n",
    "    print(\"search_obj.group(3) : \", search_obj.group(3))\n",
    "    print(\"search_obj.groups() : \", search_obj.groups())\n",
    "else:\n",
    "    print(\"Nothing found!!\")"
   ]
  },
  {
   "cell_type": "markdown",
   "metadata": {},
   "source": [
    "### Finding all patterns in a text\n",
    "\n",
    "You can use re.findall() method to find all the occurrences of a pattern in a string or text. The method returns all the occurrences found.\n",
    "\n",
    "**Example**:"
   ]
  },
  {
   "cell_type": "code",
   "execution_count": 3,
   "metadata": {},
   "outputs": [
    {
     "name": "stdout",
     "output_type": "stream",
     "text": [
      "['Python', 'Python']\n"
     ]
    }
   ],
   "source": [
    "import re\n",
    "\n",
    "line = 'I love Python because Python is easy'\n",
    "f = re.findall(r'Python', line)\n",
    "print(f)"
   ]
  },
  {
   "cell_type": "markdown",
   "metadata": {},
   "source": [
    "###  Split text based on a pattern\n",
    "\n",
    "You already know the split() method we used with strings, we can also call another **split()** method in the **re** module to separate a string into multiple substrings based on a RE pattern. The method returns a list of splitted substrings without the **pattern** (RE) used to split the string. \n",
    "\n",
    "This example shows how to split a line of characters based on different patterns. "
   ]
  },
  {
   "cell_type": "code",
   "execution_count": 36,
   "metadata": {},
   "outputs": [
    {
     "name": "stdout",
     "output_type": "stream",
     "text": [
      "['http://', '.domain_name.com']\n"
     ]
    }
   ],
   "source": [
    "import re\n",
    "\n",
    "url = 'http://www.domain_name.com'\n",
    "f = re.split(r'www', url)\n",
    "print(f)"
   ]
  },
  {
   "cell_type": "code",
   "execution_count": 38,
   "metadata": {},
   "outputs": [
    {
     "name": "stdout",
     "output_type": "stream",
     "text": [
      "['http:', 'www.domain_name.com']\n"
     ]
    }
   ],
   "source": [
    "f = re.split(r'//', url)\n",
    "print(f)"
   ]
  },
  {
   "cell_type": "markdown",
   "metadata": {},
   "source": [
    "Notice how the pattern itself used to split on, for example 'www' or '//', is not included in the list.\n",
    "\n",
    "\n",
    "## Great!\n",
    "\n",
    "### Now you have a solid background on how to define and use regular expressions in Python. You can build on these skills to develop more useful patterns to apply in your programs.  "
   ]
  }
 ],
 "metadata": {
  "kernelspec": {
   "display_name": "Python 3",
   "language": "python",
   "name": "python3"
  },
  "language_info": {
   "codemirror_mode": {
    "name": "ipython",
    "version": 3
   },
   "file_extension": ".py",
   "mimetype": "text/x-python",
   "name": "python",
   "nbconvert_exporter": "python",
   "pygments_lexer": "ipython3",
   "version": "3.6.5"
  }
 },
 "nbformat": 4,
 "nbformat_minor": 2
}
