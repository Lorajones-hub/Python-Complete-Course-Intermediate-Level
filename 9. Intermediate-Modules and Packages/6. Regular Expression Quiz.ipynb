{
 "cells": [
  {
   "cell_type": "markdown",
   "metadata": {},
   "source": [
    "## Question 1: \n",
    "\n",
    "Indicate the values of match() and span() methods as a result of matching the following patterns and strings:"
   ]
  },
  {
   "cell_type": "code",
   "execution_count": null,
   "metadata": {},
   "outputs": [],
   "source": [
    "import re\n",
    "\n",
    "print(re.match(r'co+kie', 'ckie'))\n",
    "\n",
    "print(re.match(r'co+kie', 'cokie'))\n",
    "\n",
    "print(re.match(r'co+kie', 'cookie'))"
   ]
  },
  {
   "cell_type": "markdown",
   "metadata": {},
   "source": [
    "## Question 2: \n",
    "\n",
    "Write a RE patterns to match the following:\n",
    "\n",
    "a. Exactly 5 'ab' characters.\n",
    "\n",
    "b. One or two 'c' characters in the word 'success'\n",
    "\n",
    "c. Assume you have this list: L = ['when', 'where', 'what', 'which']\n",
    "  -  Iterate over the list and write a sinle pattern that matchs all the list items."
   ]
  },
  {
   "cell_type": "code",
   "execution_count": 29,
   "metadata": {},
   "outputs": [
    {
     "name": "stdout",
     "output_type": "stream",
     "text": [
      "<_sre.SRE_Match object; span=(0, 4), match='succ'>\n"
     ]
    }
   ],
   "source": [
    "print(re.match(r'suc{1,2}', 'success'))"
   ]
  },
  {
   "cell_type": "code",
   "execution_count": 31,
   "metadata": {},
   "outputs": [
    {
     "name": "stdout",
     "output_type": "stream",
     "text": [
      "<_sre.SRE_Match object; span=(0, 5), match='where'>\n"
     ]
    }
   ],
   "source": [
    "print(re.match(r'wh.*', 'where'))"
   ]
  },
  {
   "cell_type": "markdown",
   "metadata": {},
   "source": [
    "## Question 3: \n",
    "\n",
    "Use the regular expression findall() method to find all the occurrences of the word 'Home' in the string: \n",
    "\n",
    "                  'Home Sweet Home!'"
   ]
  },
  {
   "cell_type": "markdown",
   "metadata": {},
   "source": [
    "## Question 4:\n",
    "\n",
    "Use the regular expression split() method to split the following email address by the '@' character.\n",
    "\n",
    "                  username@gmail.com"
   ]
  },
  {
   "cell_type": "markdown",
   "metadata": {},
   "source": [
    "## Question 5:\n",
    "\n",
    "Use the regular expression search() method to find the word 'support' in the following text:\n",
    "\n",
    "      text = 'Please contact us at: support@company.com. Thank you for your support!'\n",
    "\n",
    "Indicate the starting and ending location of the matching string. "
   ]
  },
  {
   "cell_type": "markdown",
   "metadata": {},
   "source": [
    "## Good Luck!"
   ]
  }
 ],
 "metadata": {
  "kernelspec": {
   "display_name": "Python 3",
   "language": "python",
   "name": "python3"
  },
  "language_info": {
   "codemirror_mode": {
    "name": "ipython",
    "version": 3
   },
   "file_extension": ".py",
   "mimetype": "text/x-python",
   "name": "python",
   "nbconvert_exporter": "python",
   "pygments_lexer": "ipython3",
   "version": "3.6.5"
  }
 },
 "nbformat": 4,
 "nbformat_minor": 2
}
