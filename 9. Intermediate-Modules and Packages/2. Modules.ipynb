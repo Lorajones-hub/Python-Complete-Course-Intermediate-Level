{
 "cells": [
  {
   "cell_type": "markdown",
   "metadata": {},
   "source": [
    "#  What are modules in Python\n",
    "\n",
    "A module is a piece of code written and saved in a file with .py extension. You can define and implement functions, variables and classes in the module. A module can be imported using the **_import_** command. \n",
    "\n",
    "\n",
    "All the programs that we have done so far are written in a single .py file, so they are modules and programs at the same time. But the difference between a program and a module is that _**a program is designed to be run**_ while _**a module is designed to be imported and used by programs**_.\n",
    "\n",
    "If you are coding a project in Python, for example a game, you may need several modules. One module may be written for the game logic, another module is for drawing the game on the screen. Each module is a different file, which can be edited separately.\n",
    "\n",
    "\n",
    "## Syntaxes used to import modules\n",
    "\n",
    "In Python, several syntaxes can be used when importing modules:\n",
    "\n",
    "       import some module\n",
    "\n",
    "       import module1, module2, ..., moduleN\n",
    "\n",
    "       import module as your preferred name\n",
    "       \n",
    "Here are some other import syntaxes:\n",
    "\n",
    "       from module or package import object\n",
    "       \n",
    "       from module or package import object1, object2, ..., objectN\n",
    "       \n",
    "       from module or package import *   \n",
    "       \n",
    "The asterisk (\\*) means import everything\n",
    "       \n",
    "\n",
    "\n",
    "**NOTEs**: \n",
    "\n",
    "- Using the above syntaxes, we can import a module or a package. \n",
    "\n",
    "\n",
    "- We can also import _a module in a package_, in this case we need to separate the module from the package by a dot (.). For example, **os.path**, the package is **os** and the module is **path**.\n",
    "\n",
    "\n",
    "- Where to write the import statements? It is a common practice to put all the import statements at the begining of the .py file (after the module documentation).\n",
    "\n"
   ]
  },
  {
   "cell_type": "markdown",
   "metadata": {},
   "source": [
    "## Import modules $-$ _import_ command\n",
    "\n",
    "To import a module, use the **import** command.\n",
    "\n",
    "### Examples:"
   ]
  },
  {
   "cell_type": "code",
   "execution_count": 5,
   "metadata": {},
   "outputs": [
    {
     "data": {
      "text/plain": [
       "4"
      ]
     },
     "execution_count": 5,
     "metadata": {},
     "output_type": "execute_result"
    }
   ],
   "source": [
    "# import the math module\n",
    "import math\n",
    "\n",
    "# use function floor() from math module\n",
    "# floor(x) returns the the largest integer value less than or equal to x (x is a float value)\n",
    "math.floor(4.63)"
   ]
  },
  {
   "cell_type": "code",
   "execution_count": 6,
   "metadata": {},
   "outputs": [
    {
     "data": {
      "text/plain": [
       "Student(name='Jane', age=12, grade=6)"
      ]
     },
     "execution_count": 6,
     "metadata": {},
     "output_type": "execute_result"
    }
   ],
   "source": [
    "# import the collections module\n",
    "import collections\n",
    "\n",
    "# create namedtuple from collections module\n",
    "Student = collections.namedtuple('Student', 'name age grade')\n",
    "\n",
    "# create new student object st1\n",
    "st1 = Student(name='Jane', age=12, grade=6)\n",
    "st1"
   ]
  },
  {
   "cell_type": "markdown",
   "metadata": {},
   "source": [
    "## Modules are only loaded once\n",
    "\n",
    "It is important to understand that when you import a module in any running Python script, it will be initialized by executing the code in the module.  "
   ]
  },
  {
   "cell_type": "markdown",
   "metadata": {},
   "source": [
    "## Find functions in a module\n",
    "\n",
    "There are 2 useful functions that help you explore modules, the **dir()** and **help()** functions.\n",
    "\n",
    "If you want to know the different functions in a module you can call the dir() function.\n",
    "\n",
    "### Examples:"
   ]
  },
  {
   "cell_type": "code",
   "execution_count": 8,
   "metadata": {},
   "outputs": [
    {
     "name": "stdout",
     "output_type": "stream",
     "text": [
      "['__doc__', '__loader__', '__name__', '__package__', '__spec__', 'acos', 'acosh', 'asin', 'asinh', 'atan', 'atan2', 'atanh', 'ceil', 'copysign', 'cos', 'cosh', 'degrees', 'e', 'erf', 'erfc', 'exp', 'expm1', 'fabs', 'factorial', 'floor', 'fmod', 'frexp', 'fsum', 'gamma', 'gcd', 'hypot', 'inf', 'isclose', 'isfinite', 'isinf', 'isnan', 'ldexp', 'lgamma', 'log', 'log10', 'log1p', 'log2', 'modf', 'nan', 'pi', 'pow', 'radians', 'sin', 'sinh', 'sqrt', 'tan', 'tanh', 'tau', 'trunc']\n"
     ]
    }
   ],
   "source": [
    "# returns a list of all functions in the math module\n",
    "print(dir(math))"
   ]
  },
  {
   "cell_type": "code",
   "execution_count": 9,
   "metadata": {},
   "outputs": [
    {
     "name": "stdout",
     "output_type": "stream",
     "text": [
      "['AsyncGenerator', 'AsyncIterable', 'AsyncIterator', 'Awaitable', 'ByteString', 'Callable', 'ChainMap', 'Collection', 'Container', 'Coroutine', 'Counter', 'Generator', 'Hashable', 'ItemsView', 'Iterable', 'Iterator', 'KeysView', 'Mapping', 'MappingView', 'MutableMapping', 'MutableSequence', 'MutableSet', 'OrderedDict', 'Reversible', 'Sequence', 'Set', 'Sized', 'UserDict', 'UserList', 'UserString', 'ValuesView', '_Link', '_OrderedDictItemsView', '_OrderedDictKeysView', '_OrderedDictValuesView', '__all__', '__builtins__', '__cached__', '__doc__', '__file__', '__loader__', '__name__', '__package__', '__path__', '__spec__', '_chain', '_class_template', '_collections_abc', '_count_elements', '_eq', '_field_template', '_heapq', '_iskeyword', '_itemgetter', '_proxy', '_recursive_repr', '_repeat', '_repr_template', '_starmap', '_sys', 'abc', 'defaultdict', 'deque', 'namedtuple']\n"
     ]
    }
   ],
   "source": [
    "print(dir(collections))"
   ]
  },
  {
   "cell_type": "markdown",
   "metadata": {},
   "source": [
    "After you find the function you want to use, call the help() to that function to understand how it is working."
   ]
  },
  {
   "cell_type": "code",
   "execution_count": 20,
   "metadata": {},
   "outputs": [
    {
     "name": "stdout",
     "output_type": "stream",
     "text": [
      "Help on built-in function floor in module math:\n",
      "\n",
      "floor(...)\n",
      "    floor(x)\n",
      "    \n",
      "    Return the floor of x as an Integral.\n",
      "    This is the largest integer <= x.\n",
      "\n"
     ]
    }
   ],
   "source": [
    "help(math.floor)"
   ]
  },
  {
   "cell_type": "markdown",
   "metadata": {},
   "source": [
    "## Creating a module\n",
    "\n",
    "Creating your own module is very simple in Python, simply **follow these steps**:\n",
    "\n",
    "1. Create a new .py file and name it any name you want your module to have.\n",
    "2. Write your code in that module and save it.\n",
    "3. Then import that module in your program (another .py file) using the import command and the module name ONLY without (.py)\n",
    "\n",
    "#### Example:\n",
    "\n",
    "This example cannot be done using jupyter notebook, we will go over it in the video that comes with this lecture.\n",
    "\n",
    "Just to explain the basic idea, if you would like to create a module with the factorial function implemented inside it, save it as .py file (for example, fact.py)"
   ]
  },
  {
   "cell_type": "code",
   "execution_count": 10,
   "metadata": {},
   "outputs": [],
   "source": [
    "# this is factorial function in the module (fact.py)\n",
    "# formula: factorial(n) = n * (n-1) * (n-2) * ... * 1\n",
    "# example: factorial(4) = 4 * 3 * 2 * 1 = 24\n",
    "\n",
    "def factorial(n):\n",
    "    if n == 0:\n",
    "        return 1\n",
    "    else:\n",
    "        return n * factorial(n-1)"
   ]
  },
  {
   "cell_type": "markdown",
   "metadata": {},
   "source": [
    "Import the module **fact** in another .py file, then call factorial() function in that file and see the result."
   ]
  },
  {
   "cell_type": "code",
   "execution_count": null,
   "metadata": {},
   "outputs": [],
   "source": [
    "import fact\n",
    "\n",
    "n = 4\n",
    "fact.factorial(n)"
   ]
  },
  {
   "cell_type": "markdown",
   "metadata": {},
   "source": [
    "## Well Done!\n",
    "\n",
    "### Now lets explore packages in Python.\n"
   ]
  },
  {
   "cell_type": "code",
   "execution_count": null,
   "metadata": {},
   "outputs": [],
   "source": []
  }
 ],
 "metadata": {
  "kernelspec": {
   "display_name": "Python 3",
   "language": "python",
   "name": "python3"
  },
  "language_info": {
   "codemirror_mode": {
    "name": "ipython",
    "version": 3
   },
   "file_extension": ".py",
   "mimetype": "text/x-python",
   "name": "python",
   "nbconvert_exporter": "python",
   "pygments_lexer": "ipython3",
   "version": "3.6.5"
  }
 },
 "nbformat": 4,
 "nbformat_minor": 2
}
