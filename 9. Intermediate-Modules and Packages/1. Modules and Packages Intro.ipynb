{
 "cells": [
  {
   "cell_type": "markdown",
   "metadata": {},
   "source": [
    "# Introduction\n",
    "\n",
    "We have learned earlier that functions allow us to collect pieces of code so that they can be reused throughout the program. Python allows us to create modules which are means of collecting sets of functions and custom data types together so they can be used by any number of programs.\n",
    "\n",
    "**A _module_ is a .py file that contains functions and statements**. The module name is the same as the file name. \n",
    "\n",
    "In addition to modules, Python also helps to create packages.\n",
    "\n",
    "**A _package_ is a set of modules that are grouped together usually because these modules provide similar functionality or they depend on each other**.\n",
    "\n",
    "In this section, we will discuss in details the following topics:\n",
    "- What are the syntaxes used for importing modules and packages $-$ this includes importing from Python standard library or from our own custom modules and packages.\n",
    "- How to create custom packages and custom modules with some examples\n",
    "- Overview of Python's standard library $-$ the standard library offers many functions that make your programming much easier and faster than writing everything from scratch.\n",
    "\n",
    "So let's explore these topics and examples throughout the lectures posted in this section.\n"
   ]
  },
  {
   "cell_type": "code",
   "execution_count": null,
   "metadata": {},
   "outputs": [],
   "source": []
  }
 ],
 "metadata": {
  "kernelspec": {
   "display_name": "Python 3",
   "language": "python",
   "name": "python3"
  },
  "language_info": {
   "codemirror_mode": {
    "name": "ipython",
    "version": 3
   },
   "file_extension": ".py",
   "mimetype": "text/x-python",
   "name": "python",
   "nbconvert_exporter": "python",
   "pygments_lexer": "ipython3",
   "version": "3.6.5"
  }
 },
 "nbformat": 4,
 "nbformat_minor": 2
}
