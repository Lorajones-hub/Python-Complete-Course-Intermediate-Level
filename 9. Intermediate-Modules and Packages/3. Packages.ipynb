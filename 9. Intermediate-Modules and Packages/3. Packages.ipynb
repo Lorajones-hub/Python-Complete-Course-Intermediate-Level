{
 "cells": [
  {
   "cell_type": "markdown",
   "metadata": {},
   "source": [
    "# Packages\n",
    "\n",
    "In this lesson you will learn:\n",
    "\n",
    "- **What are packages in Python and how to create a package**.\n",
    "\n",
    "- **How to import a module from a package**. \n",
    "\n",
    "- **Loading all the modules defined in a package**.\n",
    "\n",
    "- **How to organize nested packages**.\n",
    "\n",
    "\n",
    "## What is a package in Python\n",
    "\n",
    "A package is a directory (folder) that contains a set of modules and an empty file called \\__init\\__.py \n",
    "\n",
    "It is recommended that similar modules be saved in the same package while different modules saved in different packages. This will make the project easy to manage and more clear.\n",
    "\n",
    "In general, Python has _packages for directories_ and _modules for files_. \n",
    "\n",
    "For example, if we have a set of modules for reading and writing different graphics formats, e.g., Bmp.py, Jpeg.py, Gif.py and Png.py, it is not good idea to keep these modules in the same directory as your program. Instead you can save them in a separate subdirectory called, for example, **Graphics**. Each subdirectory should have an empty \\__init\\__.py file to tell Python that this subdirectory is a package.\n",
    "\n",
    "    Graphics/ \n",
    "        __init__.py\n",
    "        Bmp.py\n",
    "        Jpeg.py\n",
    "        Gif.py\n",
    "        Png.py\n",
    "    \n",
    "As long as the Graphics package or subdirectory is inside the program's directory or in the Python path (Python folder), any of the modules within that package can be imported and used.\n",
    "    \n",
    "**NOTE**: \n",
    "\n",
    "Your package name should be not the same as any of the built-in packages in Python standard library, to avoid name conflicts. You can start the package name with uppercase letter."
   ]
  },
  {
   "cell_type": "markdown",
   "metadata": {},
   "source": [
    "## Importing a module from a package\n",
    "\n",
    "We can import modules from packages using the dot (.) operator."
   ]
  },
  {
   "cell_type": "code",
   "execution_count": null,
   "metadata": {},
   "outputs": [],
   "source": [
    "# import module Bmp from package Graphics\n",
    "import Grahics.Bmp"
   ]
  },
  {
   "cell_type": "markdown",
   "metadata": {},
   "source": [
    "Suppose the module Bmp has a function called load() inside it. To call that function, we must give the full namespace (path) to it as shown below."
   ]
  },
  {
   "cell_type": "code",
   "execution_count": null,
   "metadata": {},
   "outputs": [],
   "source": [
    "image = Graphics.Bmp.load('my_image.bmp')"
   ]
  },
  {
   "cell_type": "markdown",
   "metadata": {},
   "source": [
    "This namespace looks a bit lengthy, to use shorter names, there are two ways in Python:\n",
    "\n",
    " 1. import the module and give it a name\n",
    " 2. use the _from_ ... _import_ syntax\n",
    " \n",
    "Let's take some examples."
   ]
  },
  {
   "cell_type": "code",
   "execution_count": null,
   "metadata": {},
   "outputs": [],
   "source": [
    "# 1. import a module and give it a name \n",
    "import Graphics.Bmp as Bmp\n",
    "\n",
    "image = Bmp.load('my_image.bmp')"
   ]
  },
  {
   "cell_type": "markdown",
   "metadata": {},
   "source": [
    "Here we imported the Bmp module from Graphics package and gave it the name Bmp."
   ]
  },
  {
   "cell_type": "code",
   "execution_count": null,
   "metadata": {},
   "outputs": [],
   "source": [
    "# 2. use the from ... import keywords\n",
    "from Graphics import Jpeg\n",
    "\n",
    "image = Jpeg.load('my_image.jpeg')"
   ]
  },
  {
   "cell_type": "markdown",
   "metadata": {},
   "source": [
    "Here the syntax (from ... import) makes the Jpeg module directly accessible by our program."
   ]
  },
  {
   "cell_type": "markdown",
   "metadata": {},
   "source": [
    "We can combine 1. and 2. together:"
   ]
  },
  {
   "cell_type": "code",
   "execution_count": null,
   "metadata": {},
   "outputs": [],
   "source": [
    "from Graphics import Jpeg as picture\n",
    "\n",
    "image = picture.load('my_image.jpeg')"
   ]
  },
  {
   "cell_type": "markdown",
   "metadata": {},
   "source": [
    "Also, it is OK to call just the required function as follows"
   ]
  },
  {
   "cell_type": "code",
   "execution_count": null,
   "metadata": {},
   "outputs": [],
   "source": [
    "from Graphics.Jpeg import load()\n",
    "\n",
    "image = load('my_image.jpeg')"
   ]
  },
  {
   "cell_type": "markdown",
   "metadata": {},
   "source": [
    "The above method is not recommended although it is easier. Try to use the full namespace to avoid any conflict with other packages and modules."
   ]
  },
  {
   "cell_type": "markdown",
   "metadata": {},
   "source": [
    "## Loading all modules in a package\n",
    "\n",
    "Sometimes, it is useful to load all the modules in a package using a single statement. To do that simply write a statement in the file \\__init\\__.py to assign a list of modules names to a special variable \\__all\\__.\n",
    "\n",
    "Open \\__init\\__.py inside the package Graphics and add the following statement:"
   ]
  },
  {
   "cell_type": "code",
   "execution_count": 5,
   "metadata": {},
   "outputs": [],
   "source": [
    "__all__ = ['Bmp', 'Jpeg', 'Gif', 'Png']"
   ]
  },
  {
   "cell_type": "markdown",
   "metadata": {},
   "source": [
    "Now we can write a different import statement in our program"
   ]
  },
  {
   "cell_type": "code",
   "execution_count": null,
   "metadata": {},
   "outputs": [],
   "source": [
    "# this will import all the modules in the __all__ list\n",
    "from Graphics import * \n",
    "\n",
    "# now all the modules are directly accessible\n",
    "\n",
    "Png.save('my_image.png')"
   ]
  },
  {
   "cell_type": "markdown",
   "metadata": {},
   "source": [
    "The above syntax (from ... import \\*) can also be applied to modules. Suppose the module Bmp has some functions like load() and save(), some variables like x, y and some other objects.\n",
    "\n",
    "By typing the line below, we can import all the functions, variables and other objects defined in Bmp module, except the ones that starts with underscore (_)."
   ]
  },
  {
   "cell_type": "code",
   "execution_count": null,
   "metadata": {},
   "outputs": [],
   "source": [
    "from Bmp import *"
   ]
  },
  {
   "cell_type": "markdown",
   "metadata": {},
   "source": [
    "## Nested packages\n",
    "\n",
    "Python allows us to create packages inside other packages as we like. \n",
    "\n",
    "Suppose we are developing a game, one possible organization of packages and modules could be as shown below.\n",
    "\n",
    "    Game/\n",
    "        __init__.py\n",
    "        Sound/\n",
    "            __init__.py\n",
    "            play_sound.py\n",
    "                play()\n",
    "                pause()\n",
    "        Picture/\n",
    "            __init__.py\n",
    "            play_picture.py\n",
    "                open()\n",
    "                change()\n",
    "                save()\n",
    "        Level/\n",
    "            __init__.py\n",
    "            play_level.py\n",
    "                start()\n",
    "                over()\n",
    "\n",
    "All the \\__init\\__.py files can be empty or has a \\__all\\__ = [ ... ] statement to access some modules directly.\n",
    "\n",
    "To call a function start(), we can build on the syntax we have already used. \n",
    "      "
   ]
  },
  {
   "cell_type": "code",
   "execution_count": null,
   "metadata": {},
   "outputs": [],
   "source": [
    "from Game.Level import Play_level as play\n",
    "play.start()\n",
    "\n",
    "# OR\n",
    "\n",
    "from Game.Level.Play_level import start()\n",
    "start()"
   ]
  },
  {
   "cell_type": "markdown",
   "metadata": {},
   "source": [
    "## Great!\n",
    "\n",
    "### Now you know how organize your packages in different ways to import modules and functions easily."
   ]
  }
 ],
 "metadata": {
  "kernelspec": {
   "display_name": "Python 3",
   "language": "python",
   "name": "python3"
  },
  "language_info": {
   "codemirror_mode": {
    "name": "ipython",
    "version": 3
   },
   "file_extension": ".py",
   "mimetype": "text/x-python",
   "name": "python",
   "nbconvert_exporter": "python",
   "pygments_lexer": "ipython3",
   "version": "3.6.5"
  }
 },
 "nbformat": 4,
 "nbformat_minor": 2
}
