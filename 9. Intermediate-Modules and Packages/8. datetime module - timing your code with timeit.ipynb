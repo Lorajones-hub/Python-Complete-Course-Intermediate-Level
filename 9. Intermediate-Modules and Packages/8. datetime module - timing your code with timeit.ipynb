{
 "cells": [
  {
   "cell_type": "markdown",
   "metadata": {},
   "source": [
    "# datetime module\n",
    "\n",
    "The datetime module in Python provides information about timestamps and datestamps. \n",
    "\n",
    "In this lecture, we will explore three main classes built in the datetime module:\n",
    "\n",
    "#### 1. time class\n",
    "#### 2. date class\n",
    "#### 3. datetime class"
   ]
  },
  {
   "cell_type": "markdown",
   "metadata": {},
   "source": [
    "Before exploring the classes, we mention that datetime module has 2 constants:\n",
    "\n",
    "**datetime.MINYEAR**\n",
    "\n",
    "The smallest year number allowed in a date or datetime object. MINYEAR is 1.\n",
    "\n",
    "**datetime.MAXYEAR**\n",
    "\n",
    "The largest year number allowed in a date or datetime object. MAXYEAR is 9999.\n",
    "\n",
    "Now let's learn about time and date in Python."
   ]
  },
  {
   "cell_type": "markdown",
   "metadata": {},
   "source": [
    "## time class\n",
    "\n",
    "The **time** class in Python deals with timestamps and has the following attributes:\n",
    "\n",
    "- hour\n",
    "- minute\n",
    "- second\n",
    "- microsecond\n",
    "- time zone information (tzinfo)\n",
    "\n",
    "When creating a time instance, an object of class time, the arguments to initialize that instance are OPTIONAL. \n",
    "\n",
    "To create a time instance, simply write this line:\n",
    "\n",
    "                           datetime.time(hour, minute, second, microsecond, tzinfo) \n",
    "            \n",
    "The arguments have the following ranges:\n",
    "\n",
    "      0 <= hour < 24\n",
    "      0 <= minute < 60\n",
    "      0 <= second < 60\n",
    "      0 <= microsecond < 1000000\n",
    "\n",
    "      tzinfo can be None.\n",
    "\n",
    "The default values of the above arguments are 0 but it doesn't make sense to create a time with hour=0, minute=0, ... etc.\n",
    "\n",
    "Let's take a look at how to extract different time information.\n"
   ]
  },
  {
   "cell_type": "code",
   "execution_count": 10,
   "metadata": {},
   "outputs": [
    {
     "name": "stdout",
     "output_type": "stream",
     "text": [
      "12:25:03\n",
      "The hour is : 12\n",
      "The minute is: 25\n",
      "The second is: 3\n",
      "The microsecond is: 0\n",
      "The timezone is: None\n"
     ]
    }
   ],
   "source": [
    "import datetime\n",
    "\n",
    "time1 = datetime.time(12, 25, 3)\n",
    "\n",
    "print(time1)\n",
    "print('The hour is :', time1.hour)\n",
    "print('The minute is:', time1.minute)\n",
    "print('The second is:', time1.second)\n",
    "print('The microsecond is:', time1.microsecond)\n",
    "print('The timezone is:', time1.tzinfo)\n"
   ]
  },
  {
   "cell_type": "markdown",
   "metadata": {},
   "source": [
    "The time instance can also provide the min and max values of a time in a day."
   ]
  },
  {
   "cell_type": "code",
   "execution_count": 5,
   "metadata": {},
   "outputs": [
    {
     "name": "stdout",
     "output_type": "stream",
     "text": [
      "The min time of a day: 00:00:00\n",
      "The max time of a day: 23:59:59.999999\n",
      "The resolution is: 0:00:00.000001\n"
     ]
    }
   ],
   "source": [
    "print('The min time of a day:', datetime.time.min)     # or time1.min\n",
    "print('The max time of a day:', datetime.time.max)     # or time1.max\n",
    "print('The resolution is:', datetime.time.resolution)  # or time1.resolution"
   ]
  },
  {
   "cell_type": "markdown",
   "metadata": {},
   "source": [
    "**NOTES**:\n",
    "\n",
    "- The time resolution is the smallest possible difference between non-equal time objects. Resolution attribute is also applicable to date objects, and datetime objects.\n",
    "- The time class has nothing to do with dates, it does not hold values for a date."
   ]
  },
  {
   "cell_type": "markdown",
   "metadata": {},
   "source": [
    "## date class\n",
    "\n",
    "The class date deals with datestamps, it has the following attributes:\n",
    "\n",
    "- year\n",
    "- month\n",
    "- day\n",
    "\n",
    "To create a date instance, simply call:\n",
    "\n",
    "                             datetime.date(year, month, day)\n",
    "                             \n",
    "All arguments are required. Arguments may be integers, in the following ranges:\n",
    "\n",
    "     MINYEAR <= year <= MAXYEAR\n",
    "     1 <= month <= 12\n",
    "     1 <= day <= number of days in the given month and year\n",
    "    \n",
    "If an argument outside those ranges is given, **ValueError** is raised."
   ]
  },
  {
   "cell_type": "code",
   "execution_count": 27,
   "metadata": {},
   "outputs": [
    {
     "name": "stdout",
     "output_type": "stream",
     "text": [
      "2010-03-16\n",
      "The year is : 2010\n",
      "The month is: 3\n",
      "The day is: 16\n"
     ]
    }
   ],
   "source": [
    "date1 = datetime.date(2010, 3, 16)\n",
    "\n",
    "print(date1)\n",
    "print('The year is :', date1.year)\n",
    "print('The month is:', date1.month)\n",
    "print('The day is:', date1.day)\n"
   ]
  },
  {
   "cell_type": "markdown",
   "metadata": {},
   "source": [
    "### today() method\n",
    "\n",
    "It is easy in Python to create a date that represent today's date, using today() method. The method returns the current local date"
   ]
  },
  {
   "cell_type": "code",
   "execution_count": 28,
   "metadata": {},
   "outputs": [
    {
     "name": "stdout",
     "output_type": "stream",
     "text": [
      "2018-05-10\n",
      "Current time: Thu May 10 00:00:00 2018\n",
      "Today\"s Year: 2018\n",
      "Today\"s Month : 5\n",
      "Today\"s Day : 10\n"
     ]
    }
   ],
   "source": [
    "today = datetime.date.today()\n",
    "print(today)\n",
    "\n",
    "print('Current time:', today.ctime())\n",
    "print('Today\"s Year:', today.year)\n",
    "print('Today\"s Month :', today.month)\n",
    "print('Today\"s Day :', today.day)"
   ]
  },
  {
   "cell_type": "markdown",
   "metadata": {},
   "source": [
    "Similar to time, you can call the earliest and latest dates using date.min and date.max respectively. Let's see a simple example."
   ]
  },
  {
   "cell_type": "code",
   "execution_count": 11,
   "metadata": {},
   "outputs": [
    {
     "name": "stdout",
     "output_type": "stream",
     "text": [
      "The min date is: 0001-01-01\n",
      "The max date is: 9999-12-31\n",
      "The resolution: 1 day, 0:00:00\n"
     ]
    }
   ],
   "source": [
    "print(\"The min date is:\", datetime.date.min)        # or date1.min\n",
    "print(\"The max date is:\", datetime.date.max)        # or date1.max\n",
    "print(\"The resolution:\", datetime.date.resolution)  # or date1.resolution"
   ]
  },
  {
   "cell_type": "markdown",
   "metadata": {},
   "source": [
    "## Date difference\n",
    "\n",
    "The difference between two dates can be calculated using some simple arithmetic."
   ]
  },
  {
   "cell_type": "code",
   "execution_count": 14,
   "metadata": {},
   "outputs": [
    {
     "data": {
      "text/plain": [
       "datetime.timedelta(1194)"
      ]
     },
     "execution_count": 14,
     "metadata": {},
     "output_type": "execute_result"
    }
   ],
   "source": [
    "date1 = datetime.date(2011, 5, 16)\n",
    "date2 = datetime.date(2014, 8, 22)\n",
    "\n",
    "date2 - date1"
   ]
  },
  {
   "cell_type": "markdown",
   "metadata": {},
   "source": [
    "The difference between the 2 dates is 746 days\n",
    "The output shows a method called timedelta(), this method is used to find the difference between two date, time, or datetime instances to the resolution of a microsecond."
   ]
  },
  {
   "cell_type": "markdown",
   "metadata": {},
   "source": [
    "## datetime class\n",
    "\n",
    "A combination of a date and a time. Attributes: year, month, day, hour, minute, second, microsecond, and tzinfo."
   ]
  },
  {
   "cell_type": "code",
   "execution_count": 15,
   "metadata": {},
   "outputs": [
    {
     "data": {
      "text/plain": [
       "datetime.datetime(2018, 10, 15, 13, 47, 10, 509142)"
      ]
     },
     "execution_count": 15,
     "metadata": {},
     "output_type": "execute_result"
    }
   ],
   "source": [
    "now = datetime.datetime.now()\n",
    "now"
   ]
  },
  {
   "cell_type": "markdown",
   "metadata": {},
   "source": [
    "### strftime() method\n",
    "\n",
    "Coverts a date and time to a string as specified in the format arguments.\n"
   ]
  },
  {
   "cell_type": "code",
   "execution_count": 16,
   "metadata": {},
   "outputs": [
    {
     "data": {
      "text/plain": [
       "'Date is 2018-10-15 ---------- Time is 13:47'"
      ]
     },
     "execution_count": 16,
     "metadata": {},
     "output_type": "execute_result"
    }
   ],
   "source": [
    "now.strftime(\"Date is %Y-%m-%d ---------- Time is %H:%M\")"
   ]
  },
  {
   "cell_type": "markdown",
   "metadata": {},
   "source": [
    "## Conclusion\n",
    "\n",
    "### In this lecture you have learned about the datetime module and how to get the values of a date, time, or both. Now you'll be able use this info in your code.\n",
    "\n",
    "### Great job!"
   ]
  },
  {
   "cell_type": "code",
   "execution_count": null,
   "metadata": {},
   "outputs": [],
   "source": []
  }
 ],
 "metadata": {
  "kernelspec": {
   "display_name": "Python 3",
   "language": "python",
   "name": "python3"
  },
  "language_info": {
   "codemirror_mode": {
    "name": "ipython",
    "version": 3
   },
   "file_extension": ".py",
   "mimetype": "text/x-python",
   "name": "python",
   "nbconvert_exporter": "python",
   "pygments_lexer": "ipython3",
   "version": "3.6.5"
  }
 },
 "nbformat": 4,
 "nbformat_minor": 2
}
