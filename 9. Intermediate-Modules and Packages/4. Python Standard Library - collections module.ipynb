{
 "cells": [
  {
   "cell_type": "markdown",
   "metadata": {},
   "source": [
    "# Python's Standard Library\n",
    "\n",
    "Python's standard library has over two hundred packages and modules a with wide range of functionality. Python's standard library is called the \"Batteries Included\".\n",
    "\n",
    "In this lecture we will give an overview of collections module and its classes and functions."
   ]
  },
  {
   "cell_type": "markdown",
   "metadata": {},
   "source": [
    "## 1. Collections module\n",
    "\n",
    "The collection module implements specialized container data types which serve as alternatives to Python's general-purpose built-in containers which are dict, list, set, and tuple. This module offers 5 specialized container classes, 3 wrappers and 1 function."
   ]
  },
  {
   "cell_type": "code",
   "execution_count": null,
   "metadata": {},
   "outputs": [],
   "source": [
    "# classes\n",
    "Counter      # dict subclass for counting hashable objects\n",
    "OrderedDict  # dict subclass that remembers the order entries were added\n",
    "defaultdict  # dict subclass that supply missing values\n",
    "deque        # list-like container with fast appends and pops on either end\n",
    "ChainMap     # dict-like class for creating a single view of multiple mappings\n",
    "\n",
    "# function\n",
    "namedtuple() # factory function that creates tuple subclasses\n",
    "             # with named fields"
   ]
  },
  {
   "cell_type": "markdown",
   "metadata": {},
   "source": [
    "### Counter\n",
    "\n",
    "The Counter is a dict subclass used to count hashable objects. Recall that hashable objects are immutable objects which we cannot change their values. The Counter object created is an unordered dict that has a normal dict elements (key-value) pairs. \n",
    "\n",
    "For each key-value element, a key is an item of the iterable (list, string, ... etc.) passed to Counter() and the corresponding value is the number of times this item occurred in that iterable. Counts are allowed to be any integer value including zero or negative counts.\n",
    "\n",
    "**Examples:**"
   ]
  },
  {
   "cell_type": "code",
   "execution_count": 1,
   "metadata": {},
   "outputs": [
    {
     "data": {
      "text/plain": [
       "Counter({1: 3, 2: 1, 3: 2, 4: 5, 6: 2})"
      ]
     },
     "execution_count": 1,
     "metadata": {},
     "output_type": "execute_result"
    }
   ],
   "source": [
    "from collections import Counter\n",
    "\n",
    "L = [1, 1 ,1, 2, 3, 3, 4, 4, 4, 4, 4, 6, 6]\n",
    "\n",
    "Counter(L)   # call Counter() constructor"
   ]
  },
  {
   "cell_type": "code",
   "execution_count": 2,
   "metadata": {},
   "outputs": [
    {
     "data": {
      "text/plain": [
       "Counter({'a': 5, 'b': 7, 'd': 4, 'e': 2, 'j': 1, 's': 3})"
      ]
     },
     "execution_count": 2,
     "metadata": {},
     "output_type": "execute_result"
    }
   ],
   "source": [
    "s = 'jabsdbabsdbebaaasbddeb'\n",
    "\n",
    "c = Counter(s)   # create an object c of class Counter\n",
    "c "
   ]
  },
  {
   "cell_type": "markdown",
   "metadata": {},
   "source": [
    "Counter objects have a dictionary interface except that they return a zero count for missing items instead of raising a **KeyError**:"
   ]
  },
  {
   "cell_type": "code",
   "execution_count": 3,
   "metadata": {},
   "outputs": [
    {
     "data": {
      "text/plain": [
       "0"
      ]
     },
     "execution_count": 3,
     "metadata": {},
     "output_type": "execute_result"
    }
   ],
   "source": [
    "# char 'f' is a missing item\n",
    "c['f']"
   ]
  },
  {
   "cell_type": "markdown",
   "metadata": {},
   "source": [
    "If you a count of an item to is set to zero, this does not remove an element from a counter. Instead, use **del** statement to remove it entirely."
   ]
  },
  {
   "cell_type": "code",
   "execution_count": 4,
   "metadata": {},
   "outputs": [
    {
     "data": {
      "text/plain": [
       "Counter({'a': 5, 'b': 7, 'd': 4, 'e': 2, 'f': 0, 'j': 1, 's': 3})"
      ]
     },
     "execution_count": 4,
     "metadata": {},
     "output_type": "execute_result"
    }
   ],
   "source": [
    "c['f'] = 0\n",
    "c  # now Counter object c has the element 'f': 0 "
   ]
  },
  {
   "cell_type": "code",
   "execution_count": 6,
   "metadata": {},
   "outputs": [
    {
     "data": {
      "text/plain": [
       "Counter({'a': 5, 'b': 7, 'd': 4, 'e': 2, 'j': 1, 's': 3})"
      ]
     },
     "execution_count": 6,
     "metadata": {},
     "output_type": "execute_result"
    }
   ],
   "source": [
    "del c['f']\n",
    "c  # element 'f': 0  is removed"
   ]
  },
  {
   "cell_type": "markdown",
   "metadata": {},
   "source": [
    "#### Methods to call on Counter object\n",
    "\n",
    "**1. elements()**\n",
    "\n",
    "Return an iterator over elements in dict object created by Counter. \n",
    " - Each element is repeated as many as its count\n",
    " - Elements are returned in arbitrary order\n",
    " - If an element’s count is less than one, the method will ignore it"
   ]
  },
  {
   "cell_type": "code",
   "execution_count": 5,
   "metadata": {},
   "outputs": [
    {
     "data": {
      "text/plain": [
       "['b', 'b', 'b', 'a', 'a', 'a', 's', 'd', 'd', 'e']"
      ]
     },
     "execution_count": 5,
     "metadata": {},
     "output_type": "execute_result"
    }
   ],
   "source": [
    "c = Counter('baaasbddeb')\n",
    "list(c.elements())  # passing the iterator to function list()"
   ]
  },
  {
   "cell_type": "markdown",
   "metadata": {},
   "source": [
    "**2. most_common(n)**\n",
    "\n",
    "Returns a list of the **n** most common elements and their counts in the counter object, starting from the most common to the least common. \n",
    " - If n is omitted or None, most_common() returns all elements in the counter object from most to least common. \n",
    " - Elements that have equal counts are ordered arbitrarily.\n"
   ]
  },
  {
   "cell_type": "code",
   "execution_count": 12,
   "metadata": {},
   "outputs": [
    {
     "data": {
      "text/plain": [
       "[(2, 4), (3, 3)]"
      ]
     },
     "execution_count": 12,
     "metadata": {},
     "output_type": "execute_result"
    }
   ],
   "source": [
    "c = Counter([1,2,2,2,3,4,4,2,3,3])\n",
    "c.most_common(2)  # 2 most common"
   ]
  },
  {
   "cell_type": "code",
   "execution_count": 15,
   "metadata": {},
   "outputs": [
    {
     "data": {
      "text/plain": [
       "[(2, 4), (3, 3), (4, 2)]"
      ]
     },
     "execution_count": 15,
     "metadata": {},
     "output_type": "execute_result"
    }
   ],
   "source": [
    "# in one line\n",
    "Counter([1,2,2,2,3,4,4,2,3,3]).most_common(3)  # 3 most common"
   ]
  },
  {
   "cell_type": "code",
   "execution_count": 7,
   "metadata": {},
   "outputs": [
    {
     "data": {
      "text/plain": [
       "[(2, 4), (3, 3), (4, 2), (1, 1)]"
      ]
     },
     "execution_count": 7,
     "metadata": {},
     "output_type": "execute_result"
    }
   ],
   "source": [
    "Counter([1,2,2,2,3,4,4,2,3,3]).most_common()  # all elements from most to least common"
   ]
  },
  {
   "cell_type": "markdown",
   "metadata": {},
   "source": [
    "Here are some common patterns for working with Counter objects:"
   ]
  },
  {
   "cell_type": "code",
   "execution_count": null,
   "metadata": {},
   "outputs": [],
   "source": [
    "sum(c.values())                 # total of all counts\n",
    "c.clear()                       # reset all counts\n",
    "list(c)                         # convert to list of unique elements\n",
    "set(c)                          # convert to a set\n",
    "dict(c)                         # convert to a regular dictionary\n",
    "c.items()                       # convert to a list of (elem, cnt) pairs\n",
    "Counter(dict(list_of_pairs))    # convert from a list of (elem, cnt) pairs\n",
    "c.most_common()[:-n-1:-1]       # n least common elements\n",
    "c += Counter()                  # remove zero and negative counts"
   ]
  },
  {
   "cell_type": "markdown",
   "metadata": {},
   "source": [
    "### deque\n",
    "\n",
    "Returns list-like object with data from an iterable. If there is no iterable specified, the new deque will be empty. \n",
    "- Deques are similar to stacks and queues.\n",
    "- Deques were added to Python to allow fast append and pop operations in either directions (left and right)"
   ]
  },
  {
   "cell_type": "markdown",
   "metadata": {},
   "source": [
    "#### Methods to call on deque object\n",
    "\n",
    "**1. append(x)**\n",
    "\n",
    "Add x to the right side of the deque. This is similar to append() in list. But deque allows to append an item from the left as we will see with appendleft(x)."
   ]
  },
  {
   "cell_type": "code",
   "execution_count": 2,
   "metadata": {},
   "outputs": [
    {
     "data": {
      "text/plain": [
       "deque(['a', 0, 'b', 1, 'c', 2])"
      ]
     },
     "execution_count": 2,
     "metadata": {},
     "output_type": "execute_result"
    }
   ],
   "source": [
    "from collections import deque\n",
    "\n",
    "L = ['a', 0, 'b', 1, 'c', 2]\n",
    "d = deque(L)\n",
    "d"
   ]
  },
  {
   "cell_type": "code",
   "execution_count": 3,
   "metadata": {},
   "outputs": [
    {
     "data": {
      "text/plain": [
       "deque(['a', 0, 'b', 1, 'c', 2, 'd'])"
      ]
     },
     "execution_count": 3,
     "metadata": {},
     "output_type": "execute_result"
    }
   ],
   "source": [
    "d.append('d')   # 'd' is added from right end\n",
    "d"
   ]
  },
  {
   "cell_type": "markdown",
   "metadata": {},
   "source": [
    "**2. appendleft(x)**\n",
    "\n",
    "Add x to the left side of the deque."
   ]
  },
  {
   "cell_type": "code",
   "execution_count": 4,
   "metadata": {},
   "outputs": [
    {
     "data": {
      "text/plain": [
       "deque(['z', 'a', 0, 'b', 1, 'c', 2, 'd'])"
      ]
     },
     "execution_count": 4,
     "metadata": {},
     "output_type": "execute_result"
    }
   ],
   "source": [
    "d.appendleft('z')   # 'z' is added from left end\n",
    "d"
   ]
  },
  {
   "cell_type": "markdown",
   "metadata": {},
   "source": [
    "#### 3. pop()\n",
    "\n",
    "Removes an item from the right side of a deque object. The method returns the item popped."
   ]
  },
  {
   "cell_type": "code",
   "execution_count": 5,
   "metadata": {},
   "outputs": [
    {
     "data": {
      "text/plain": [
       "2"
      ]
     },
     "execution_count": 5,
     "metadata": {},
     "output_type": "execute_result"
    }
   ],
   "source": [
    "d = deque(['a', 0, 'b', 1, 'c', 2])\n",
    "d.pop()  # returns item from right end"
   ]
  },
  {
   "cell_type": "code",
   "execution_count": 6,
   "metadata": {},
   "outputs": [
    {
     "data": {
      "text/plain": [
       "deque(['a', 0, 'b', 1, 'c'])"
      ]
     },
     "execution_count": 6,
     "metadata": {},
     "output_type": "execute_result"
    }
   ],
   "source": [
    "d   # deque object d has no integer item 2"
   ]
  },
  {
   "cell_type": "markdown",
   "metadata": {},
   "source": [
    "#### 4. popleft()\n",
    "\n",
    "Removes an item from the left side of a deque object. The method returns the item popped."
   ]
  },
  {
   "cell_type": "code",
   "execution_count": 7,
   "metadata": {},
   "outputs": [
    {
     "data": {
      "text/plain": [
       "'a'"
      ]
     },
     "execution_count": 7,
     "metadata": {},
     "output_type": "execute_result"
    }
   ],
   "source": [
    "d.popleft()  # returns item from left end"
   ]
  },
  {
   "cell_type": "code",
   "execution_count": 8,
   "metadata": {},
   "outputs": [
    {
     "data": {
      "text/plain": [
       "deque([0, 'b', 1, 'c'])"
      ]
     },
     "execution_count": 8,
     "metadata": {},
     "output_type": "execute_result"
    }
   ],
   "source": [
    "d   # deque object d has no char 'a'"
   ]
  },
  {
   "cell_type": "markdown",
   "metadata": {},
   "source": [
    "**5. clear()**\n",
    "\n",
    "Removes all the elements from the deque, the new deque will be of length 0. "
   ]
  },
  {
   "cell_type": "code",
   "execution_count": 9,
   "metadata": {},
   "outputs": [
    {
     "data": {
      "text/plain": [
       "deque([])"
      ]
     },
     "execution_count": 9,
     "metadata": {},
     "output_type": "execute_result"
    }
   ],
   "source": [
    "d.clear()  # empty the deque\n",
    "d"
   ]
  },
  {
   "cell_type": "markdown",
   "metadata": {},
   "source": [
    "### defaultdict\n",
    "\n",
    "This dict subclass returns a dict-like object, the object has the same functionality of the buit-in dict. The difference is that with defaultdict if a key is not found in the dictionary, then **instead of throwing a KeyError exception, a new entry is created**. \n",
    "\n",
    "defaultdict requires the first parameter to be a \"factory function\" or \"constructor\" which will be the default datatype of the **items' values** in the default dictionary created. \n",
    "\n",
    "**Examples**:"
   ]
  },
  {
   "cell_type": "code",
   "execution_count": 36,
   "metadata": {},
   "outputs": [
    {
     "ename": "KeyError",
     "evalue": "0",
     "output_type": "error",
     "traceback": [
      "\u001b[1;31m---------------------------------------------------------------------------\u001b[0m",
      "\u001b[1;31mKeyError\u001b[0m                                  Traceback (most recent call last)",
      "\u001b[1;32m<ipython-input-36-3d9c3431ba55>\u001b[0m in \u001b[0;36m<module>\u001b[1;34m()\u001b[0m\n\u001b[0;32m      1\u001b[0m \u001b[0md\u001b[0m \u001b[1;33m=\u001b[0m \u001b[1;33m{\u001b[0m\u001b[1;33m}\u001b[0m   \u001b[1;31m# create built-in dict\u001b[0m\u001b[1;33m\u001b[0m\u001b[0m\n\u001b[1;32m----> 2\u001b[1;33m \u001b[0md\u001b[0m\u001b[1;33m[\u001b[0m\u001b[1;36m0\u001b[0m\u001b[1;33m]\u001b[0m  \u001b[1;31m#will raise KeyError because key 'abc' doesnt exist\u001b[0m\u001b[1;33m\u001b[0m\u001b[0m\n\u001b[0m",
      "\u001b[1;31mKeyError\u001b[0m: 0"
     ]
    }
   ],
   "source": [
    "d = {}   # create built-in dict\n",
    "d['ab']  # will raise KeyError because key 'ab' doesnt exist"
   ]
  },
  {
   "cell_type": "code",
   "execution_count": 4,
   "metadata": {},
   "outputs": [
    {
     "data": {
      "text/plain": [
       "0"
      ]
     },
     "execution_count": 4,
     "metadata": {},
     "output_type": "execute_result"
    }
   ],
   "source": [
    "from collections import defaultdict\n",
    "\n",
    "d = defaultdict(int)  # create defaultdict d with values of type int\n",
    "d['aa']   # new item added to d with key='ab' and value=0"
   ]
  },
  {
   "cell_type": "code",
   "execution_count": 6,
   "metadata": {},
   "outputs": [
    {
     "data": {
      "text/plain": [
       "defaultdict(int, {'aa': 0})"
      ]
     },
     "execution_count": 6,
     "metadata": {},
     "output_type": "execute_result"
    }
   ],
   "source": [
    "d  # d is a defaultdict of type int and has one item"
   ]
  },
  {
   "cell_type": "code",
   "execution_count": 7,
   "metadata": {},
   "outputs": [
    {
     "data": {
      "text/plain": [
       "defaultdict(int, {'aa': 0, 'bb': 5})"
      ]
     },
     "execution_count": 7,
     "metadata": {},
     "output_type": "execute_result"
    }
   ],
   "source": [
    "d['bb'] = 5  # new item added with key='bb' and value=5\n",
    "d"
   ]
  },
  {
   "cell_type": "code",
   "execution_count": 8,
   "metadata": {},
   "outputs": [
    {
     "data": {
      "text/plain": [
       "dict_items([('m', 1), ('i', 4), ('s', 4), ('p', 2)])"
      ]
     },
     "execution_count": 8,
     "metadata": {},
     "output_type": "execute_result"
    }
   ],
   "source": [
    "from collections import defaultdict\n",
    "\n",
    "s = 'mississippi'\n",
    "d = defaultdict(int)  # create defaultdict using int() constructor\n",
    "# now the default value of each item added to d will be integer zero\n",
    "# d is empty bit just imagine that it looks like this: {key: 0, key: 0, key: 0, ...}\n",
    "\n",
    "for k in s:\n",
    "    d[k] += 1  # 1 will be added to each value with key k that already exists\n",
    "\n",
    "d.items()"
   ]
  },
  {
   "cell_type": "markdown",
   "metadata": {},
   "source": [
    "In this example:\n",
    "- We created a defaultdict from int() constructor, which returns integer object with value 0. \n",
    "- Inside the for loop:\n",
    "  - If key k, which is a character from s, does not exist in d a new item will be added to the defaultdict d with that key and the default value. \n",
    "  - If key k, which is a character from s, is already exist in d the value of that key will be incremented (add 1 to it)."
   ]
  },
  {
   "cell_type": "code",
   "execution_count": 12,
   "metadata": {},
   "outputs": [
    {
     "data": {
      "text/plain": [
       "dict_items([('red', [1, 3]), ('blue', [2, 4]), ('yellow', [3])])"
      ]
     },
     "execution_count": 12,
     "metadata": {},
     "output_type": "execute_result"
    }
   ],
   "source": [
    "L = [('red', 1), ('blue', 2), ('yellow', 3), ('blue', 4), ('red', 3)]\n",
    "\n",
    "d = defaultdict(list) #create defaultdict from list() constructor \n",
    "# now the default value of each item is empty list []\n",
    "# d is empty but just imagine that it looks like this: {key: [], key: [], key: [], ...}\n",
    "\n",
    "for k, v in L:\n",
    "    d[k].append(v)\n",
    "\n",
    "d.items()\n"
   ]
  },
  {
   "cell_type": "markdown",
   "metadata": {},
   "source": [
    "In this example:\n",
    "- We created a defaultdict from list() constructor, which returns empty list. \n",
    "- Each key in d is the first element from each tuples in list L (red, blue, yellow)\n",
    "- Each value in d is a list which will be updated if the key already exists. "
   ]
  },
  {
   "cell_type": "markdown",
   "metadata": {},
   "source": [
    "Lambda function can also be called to initialize defaultdict."
   ]
  },
  {
   "cell_type": "code",
   "execution_count": 11,
   "metadata": {},
   "outputs": [
    {
     "data": {
      "text/plain": [
       "3"
      ]
     },
     "execution_count": 11,
     "metadata": {},
     "output_type": "execute_result"
    }
   ],
   "source": [
    "d = defaultdict(lambda: 3)\n",
    "d['aa']   # the default value of 'aa' is 3"
   ]
  },
  {
   "cell_type": "code",
   "execution_count": 13,
   "metadata": {},
   "outputs": [
    {
     "data": {
      "text/plain": [
       "defaultdict(<function __main__.<lambda>>, {'aa': 3})"
      ]
     },
     "execution_count": 13,
     "metadata": {},
     "output_type": "execute_result"
    }
   ],
   "source": [
    "d # d was built from lambda function with default values 3"
   ]
  },
  {
   "cell_type": "code",
   "execution_count": 14,
   "metadata": {},
   "outputs": [
    {
     "data": {
      "text/plain": [
       "defaultdict(<function __main__.<lambda>>, {'aa': 3, 'bb': 5})"
      ]
     },
     "execution_count": 14,
     "metadata": {},
     "output_type": "execute_result"
    }
   ],
   "source": [
    "d['bb'] = 5\n",
    "d"
   ]
  },
  {
   "cell_type": "markdown",
   "metadata": {},
   "source": [
    "## OrderedDict\n",
    "\n",
    "An ordered dictionary is similar to the normal built-in dictionary but it remembers the order of items when they were added. When iterating over an ordered dictionary, the items are returned in the order their keys were first added."
   ]
  },
  {
   "cell_type": "code",
   "execution_count": 17,
   "metadata": {},
   "outputs": [
    {
     "name": "stdout",
     "output_type": "stream",
     "text": [
      "This is a NORMAL dict\n"
     ]
    },
    {
     "data": {
      "text/plain": [
       "{'b': 'blue', 'r': 'red', 'y': 'yellow', 'g': 'green'}"
      ]
     },
     "execution_count": 17,
     "metadata": {},
     "output_type": "execute_result"
    }
   ],
   "source": [
    "print(\"This is a NORMAL dict\")\n",
    "\n",
    "d = {}\n",
    "d['b'] = 'blue'\n",
    "d['r'] = 'red'\n",
    "d['y'] = 'yellow'\n",
    "d['g'] = 'green'\n",
    "d"
   ]
  },
  {
   "cell_type": "code",
   "execution_count": 17,
   "metadata": {},
   "outputs": [
    {
     "name": "stdout",
     "output_type": "stream",
     "text": [
      "This is an ORDERED dict\n"
     ]
    },
    {
     "data": {
      "text/plain": [
       "OrderedDict([('r', 'red'), ('b', 'blue'), ('y', 'yellow'), ('g', 'green')])"
      ]
     },
     "execution_count": 17,
     "metadata": {},
     "output_type": "execute_result"
    }
   ],
   "source": [
    "import collections \n",
    "\n",
    "print(\"This is an ORDERED dict\")\n",
    "\n",
    "d = collections.OrderedDict()\n",
    "d['r'] = 'red'\n",
    "d['b'] = 'blue'\n",
    "d['y'] = 'yellow'\n",
    "d['g'] = 'green'\n",
    "d"
   ]
  },
  {
   "cell_type": "markdown",
   "metadata": {},
   "source": [
    "### Equality tests\n",
    "\n",
    "The order-sensitivity of OrderedDict appears clearly when testing if 2 dictionaries are equal or not. \n",
    "- In case of 2 normal built-in dictionaries, they are considered equal if have the same items, doesn't matter the order of these items. \n",
    "- In case of 2 Ordered dictionaries, if they have the same items but with _different_ orders, the OrderedDicts are considered not equal. \n",
    " \n",
    "Let's clarify this with some examples:"
   ]
  },
  {
   "cell_type": "code",
   "execution_count": 32,
   "metadata": {},
   "outputs": [
    {
     "data": {
      "text/plain": [
       "True"
      ]
     },
     "execution_count": 32,
     "metadata": {},
     "output_type": "execute_result"
    }
   ],
   "source": [
    "d1 = {}\n",
    "d1['r'] = 'red'\n",
    "d1['b'] = 'blue'\n",
    "d1['y'] = 'yellow'\n",
    "d1['g'] = 'green'\n",
    "\n",
    "d2 = {}\n",
    "d2['r'] = 'red'\n",
    "d2['g'] = 'green'\n",
    "d2['b'] = 'blue'\n",
    "d2['y'] = 'yellow'\n",
    "\n",
    "d1 == d2  # is d1 equal to d2, answer is YES (True)"
   ]
  },
  {
   "cell_type": "code",
   "execution_count": 33,
   "metadata": {},
   "outputs": [
    {
     "data": {
      "text/plain": [
       "False"
      ]
     },
     "execution_count": 33,
     "metadata": {},
     "output_type": "execute_result"
    }
   ],
   "source": [
    "\n",
    "d1 = collections.OrderedDict()\n",
    "d1['r'] = 'red'\n",
    "d1['b'] = 'blue'\n",
    "d1['y'] = 'yellow'\n",
    "d1['g'] = 'green'\n",
    "\n",
    "d2 = collections.OrderedDict()\n",
    "d2['r'] = 'red'\n",
    "d2['g'] = 'green'\n",
    "d2['b'] = 'blue'\n",
    "d2['y'] = 'yellow'\n",
    "\n",
    "d1 == d2  # is d1 equal to d2, answer is NO (False)"
   ]
  },
  {
   "cell_type": "markdown",
   "metadata": {},
   "source": [
    "#### Methods to call on OrderdDict object\n",
    "\n",
    "**1. popitem(last=True)**\n",
    "\n",
    "Removes a key-value pair from an ordered dictionary, the method returns the popped item. \n",
    "\n",
    "- The pairs are returned in (last-in-first-out) LIFO order if the parameter last is True.\n",
    "- The pairs are returned in (first-in-first-out) FIFO order if False. \n",
    "- The default value of the parameter last is True."
   ]
  },
  {
   "cell_type": "code",
   "execution_count": 34,
   "metadata": {},
   "outputs": [
    {
     "name": "stdout",
     "output_type": "stream",
     "text": [
      "('g', 'green')\n",
      "OrderedDict([('r', 'red'), ('b', 'blue'), ('y', 'yellow')])\n",
      "('r', 'red')\n",
      "OrderedDict([('b', 'blue'), ('y', 'yellow')])\n"
     ]
    }
   ],
   "source": [
    "d = collections.OrderedDict()\n",
    "d['r'] = 'red'\n",
    "d['b'] = 'blue'\n",
    "d['y'] = 'yellow'\n",
    "d['g'] = 'green'\n",
    "\n",
    "print(d.popitem()) # last item will be popped\n",
    "print(d)\n",
    "\n",
    "print(d.popitem(last=False)) # first item will be popped\n",
    "print(d)"
   ]
  },
  {
   "cell_type": "markdown",
   "metadata": {},
   "source": [
    "### namedtuple() factory function\n",
    "\n",
    "In regular tuples, a member can be accessed using its index or position."
   ]
  },
  {
   "cell_type": "code",
   "execution_count": 87,
   "metadata": {},
   "outputs": [
    {
     "data": {
      "text/plain": [
       "'hello'"
      ]
     },
     "execution_count": 87,
     "metadata": {},
     "output_type": "execute_result"
    }
   ],
   "source": [
    "t = ('hello', 'python', 'program')\n",
    "t[0]"
   ]
  },
  {
   "cell_type": "markdown",
   "metadata": {},
   "source": [
    "The use of built-in tuples is enough for simple cases. The problem is that it is hard to remember which index is used for which value, especially if we created the tuple early in the program and we want to use it later or when the tuple has a lot of fields.\n",
    "\n",
    "To solve this problem, we can use the namedtuple() function which assigns names in addition to the numerical index to each member.\n",
    "\n",
    "The syntax is:\n",
    "\n",
    "                 collections.namedtuple(typename, field_names)\n",
    "\n",
    "The function returns a new tuple-like object named **typename**. The object has **fields** that are accessible by **names** as well as index positions.\n"
   ]
  },
  {
   "cell_type": "code",
   "execution_count": 6,
   "metadata": {},
   "outputs": [],
   "source": [
    "from collections import namedtuple\n",
    "\n",
    "# create namedtuple class named Point with fields names x and y\n",
    "Point = namedtuple('Point', 'x y') \n",
    "\n",
    "# create objects of class Point\n",
    "point1 = Point(x=10, y=20) \n",
    "point2 = Point(6, 14)"
   ]
  },
  {
   "cell_type": "markdown",
   "metadata": {},
   "source": [
    "Here we called the factory function namedtuple and passed 2 things:\n",
    "\n",
    " - The object type name (Point)\n",
    " - 2 field names as a string with spaces between the names\n",
    " \n",
    "Now we can call different attributes on objects point1 and point2: "
   ]
  },
  {
   "cell_type": "code",
   "execution_count": 7,
   "metadata": {},
   "outputs": [
    {
     "data": {
      "text/plain": [
       "Point(x=10, y=20)"
      ]
     },
     "execution_count": 7,
     "metadata": {},
     "output_type": "execute_result"
    }
   ],
   "source": [
    "point1"
   ]
  },
  {
   "cell_type": "code",
   "execution_count": 8,
   "metadata": {},
   "outputs": [
    {
     "data": {
      "text/plain": [
       "Point(x=6, y=14)"
      ]
     },
     "execution_count": 8,
     "metadata": {},
     "output_type": "execute_result"
    }
   ],
   "source": [
    "point2"
   ]
  },
  {
   "cell_type": "code",
   "execution_count": 91,
   "metadata": {},
   "outputs": [
    {
     "data": {
      "text/plain": [
       "10"
      ]
     },
     "execution_count": 91,
     "metadata": {},
     "output_type": "execute_result"
    }
   ],
   "source": [
    "point1.x"
   ]
  },
  {
   "cell_type": "code",
   "execution_count": 92,
   "metadata": {},
   "outputs": [
    {
     "data": {
      "text/plain": [
       "(6, 14)"
      ]
     },
     "execution_count": 92,
     "metadata": {},
     "output_type": "execute_result"
    }
   ],
   "source": [
    "point2.x, point2.y"
   ]
  },
  {
   "cell_type": "markdown",
   "metadata": {},
   "source": [
    "Another example"
   ]
  },
  {
   "cell_type": "code",
   "execution_count": 93,
   "metadata": {},
   "outputs": [
    {
     "data": {
      "text/plain": [
       "Student(id=111, full_name='John Smith', school_year=3)"
      ]
     },
     "execution_count": 93,
     "metadata": {},
     "output_type": "execute_result"
    }
   ],
   "source": [
    "Student = namedtuple('Student', 'id full_name school_year')\n",
    "\n",
    "st1 = Student(id=111, full_name='John Smith', school_year=3)\n",
    "st1"
   ]
  },
  {
   "cell_type": "code",
   "execution_count": 94,
   "metadata": {},
   "outputs": [
    {
     "data": {
      "text/plain": [
       "'John Smith'"
      ]
     },
     "execution_count": 94,
     "metadata": {},
     "output_type": "execute_result"
    }
   ],
   "source": [
    "st1.full_name"
   ]
  },
  {
   "cell_type": "code",
   "execution_count": 95,
   "metadata": {},
   "outputs": [
    {
     "data": {
      "text/plain": [
       "3"
      ]
     },
     "execution_count": 95,
     "metadata": {},
     "output_type": "execute_result"
    }
   ],
   "source": [
    "st1.school_year"
   ]
  },
  {
   "cell_type": "markdown",
   "metadata": {},
   "source": [
    "## Wonderful!\n",
    "\n",
    "### Now you have explored what the collections module offers for our code. \n",
    "\n",
    "\n",
    "For more info on collection module, check out the official documentation: [Python collections module](https://docs.python.org/2/library/collections.html)"
   ]
  },
  {
   "cell_type": "code",
   "execution_count": null,
   "metadata": {},
   "outputs": [],
   "source": []
  }
 ],
 "metadata": {
  "kernelspec": {
   "display_name": "Python 3",
   "language": "python",
   "name": "python3"
  },
  "language_info": {
   "codemirror_mode": {
    "name": "ipython",
    "version": 3
   },
   "file_extension": ".py",
   "mimetype": "text/x-python",
   "name": "python",
   "nbconvert_exporter": "python",
   "pygments_lexer": "ipython3",
   "version": "3.6.5"
  }
 },
 "nbformat": 4,
 "nbformat_minor": 2
}
