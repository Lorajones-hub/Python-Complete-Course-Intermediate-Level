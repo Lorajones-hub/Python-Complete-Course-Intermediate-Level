{
 "cells": [
  {
   "cell_type": "markdown",
   "metadata": {},
   "source": [
    "# Class Inheritance\n",
    "\n",
    "One of the main advantages of OOP paradigm is **class inheritance**. This allows defining new classes from other classes that are already defined. \n",
    "\n",
    "- The new class is called a subclass or a derived class while the class this new subclass is derived from is called the base class or superclass.   \n",
    " \n",
    " \n",
    " - The subclass (child class) inherits all the attributes and methods of its base class.\n",
    " \n",
    " \n",
    " - If a superclass and a subclass both have a method with the same name, the method in the subclass will override the one in the superclass. In short, subclasses extends and/or overrides the functionality of base classes.\n",
    "\n",
    "In this lecture we will discuss how to derive a class from other classes using inheritance. class inheritance enhance code reuse and fast program development. \n",
    "\n",
    "Python allows **multiple inheritance** which means that a class can inherit attributes and methods of multiple base classes.\n",
    "\n",
    "Let's see an example on deriving a class from another one.\n",
    "\n",
    "We can build a Circle class from the Point class using inheritance.\n"
   ]
  },
  {
   "cell_type": "code",
   "execution_count": 1,
   "metadata": {},
   "outputs": [],
   "source": [
    "# base (super) class\n",
    "class Point():\n",
    "    \n",
    "    # constructor of Point\n",
    "    def __init__(self, x, y):\n",
    "        self.x = x\n",
    "        self.y = y  \n",
    "\n",
    "# subclass\n",
    "class Circle(Point):\n",
    "    \n",
    "    # constructor of Circle calls construcor of Point\n",
    "    def __init__(self, radius, x, y):\n",
    "        super().__init__(x, y)\n",
    "        self.radius = radius"
   ]
  },
  {
   "cell_type": "markdown",
   "metadata": {},
   "source": [
    "In the above example, we passed the class Point to the class Circle to tell Python that we want Circle to be a subclass of Point. Now class Circle will inherit the \\__init\\__() method of class Point as this is the only method Point has so far.\n",
    "\n",
    "Notice the call **super().** inside Circle class, super() means the super class which is Point. So the statement super().__init__(x, y) is calling the \\__init\\__() method of Point to construct Circle.\n",
    "\n",
    "The only attribute that is new in Circle is radius. Each circle has to have a radius to calculate its area, circumference, etc.\n",
    "\n",
    "\n",
    "Now let's extend our example to include other methods in Point and Circle classes."
   ]
  },
  {
   "cell_type": "code",
   "execution_count": 38,
   "metadata": {},
   "outputs": [],
   "source": [
    "# base (super) class\n",
    "class Point():\n",
    "    \n",
    "    # constructor of Point\n",
    "    def __init__(self, x, y):\n",
    "        self.x = x\n",
    "        self.y = y \n",
    "        \n",
    "    def info(self):\n",
    "        print(\"I have coordinates\")\n",
    "        \n",
    "    # calculate distance between point and origin (0,0)\n",
    "    def distance_from_origin(self):\n",
    "        \n",
    "        #hypot: math function return length of line from point to origin\n",
    "        return math.hypot(self.x, self.y)    \n",
    "\n",
    "# subclass\n",
    "class Circle(Point):\n",
    "    \n",
    "    # constructor of Circle calls construcor of Point\n",
    "    def __init__(self, radius, x, y):\n",
    "        super().__init__(x, y)\n",
    "        self.radius = radius\n",
    "    \n",
    "    # calculate distance between circle edge and origin\n",
    "    def edge_distance_from_origin(self):\n",
    "        return abs(self.distance_from_origin() - self.radius)\n",
    "    \n",
    "    # calculate area of a circle\n",
    "    def area(self):\n",
    "        return self.radius * self.radius * math.pi\n",
    "    \n",
    "    # calculate circumfrence of a circle\n",
    "    def circumference(self):\n",
    "        return 2 * math.pi * self.radius\n"
   ]
  },
  {
   "cell_type": "markdown",
   "metadata": {},
   "source": [
    "Let's break down the code above step by step.\n",
    "\n",
    " - Point has a new method **distance_from_origin()**:\n",
    " \n",
    "   - This method returns the distance (length of line) between a Point object and the origin. \n",
    "   - The origin is the point with x and y coordinates both equal to zero\n",
    " \n",
    " \n",
    "- Circle has also a method **edge_distance_from_origin()**:\n",
    " \n",
    "   - This method finds the distance between the circle edge and the origin. \n",
    "   - This method calls the distance_from_origin() method as part of its computation. Since the Circle class does not provide an      implementation of the distance_from_origin() method, the one provided by the Point base class will be found and used. \n",
    "\n",
    "\n",
    "\n",
    " - Circle inherited **distance_from_origin()** and **info()** from Point. \n",
    " \n",
    "   \n",
    "   \n",
    " - Circle _extended_ Point functionality:\n",
    "   \n",
    "    - By adding the area() and circumfrence() methods.\n",
    "   \n",
    " \n",
    "Now let's create some objects and call these methods and find out what values they return."
   ]
  },
  {
   "cell_type": "code",
   "execution_count": 45,
   "metadata": {},
   "outputs": [
    {
     "data": {
      "text/plain": [
       "5"
      ]
     },
     "execution_count": 45,
     "metadata": {},
     "output_type": "execute_result"
    }
   ],
   "source": [
    "c1 = Circle(5, 0, 0)  # create circle with raduis 5 and center at origin\n",
    "\n",
    "c1.radius"
   ]
  },
  {
   "cell_type": "code",
   "execution_count": 40,
   "metadata": {},
   "outputs": [
    {
     "name": "stdout",
     "output_type": "stream",
     "text": [
      "I have coordinates\n"
     ]
    }
   ],
   "source": [
    "c1.info()"
   ]
  },
  {
   "cell_type": "code",
   "execution_count": 50,
   "metadata": {},
   "outputs": [
    {
     "name": "stdout",
     "output_type": "stream",
     "text": [
      "This circle is centered at: \n"
     ]
    },
    {
     "data": {
      "text/plain": [
       "(0, 0)"
      ]
     },
     "execution_count": 50,
     "metadata": {},
     "output_type": "execute_result"
    }
   ],
   "source": [
    "print(\"This circle is centered at: \")\n",
    "c1.x, c1.y"
   ]
  },
  {
   "cell_type": "code",
   "execution_count": 42,
   "metadata": {},
   "outputs": [
    {
     "name": "stdout",
     "output_type": "stream",
     "text": [
      "Distance between circle edge and origin = 5.0\n"
     ]
    }
   ],
   "source": [
    "import math\n",
    "\n",
    "c1 = Circle(5, 0, 0)  # create circle with raduis 5 and center at origin\n",
    "\n",
    "distance = c1.edge_distance_from_origin()\n",
    "\n",
    "print(\"Distance between circle edge and origin =\", distance)"
   ]
  },
  {
   "cell_type": "code",
   "execution_count": 43,
   "metadata": {},
   "outputs": [
    {
     "name": "stdout",
     "output_type": "stream",
     "text": [
      "Distance between circle edge and origin = 9.142135623730951\n"
     ]
    }
   ],
   "source": [
    "c1 = Circle(5, 10, 10)  # create circle with raduis 5 and center at origin\n",
    "\n",
    "distance = c1.edge_distance_from_origin()\n",
    "\n",
    "print(\"Distance between circle edge and origin =\", distance)"
   ]
  },
  {
   "cell_type": "code",
   "execution_count": 56,
   "metadata": {},
   "outputs": [
    {
     "data": {
      "text/plain": [
       "78.54"
      ]
     },
     "execution_count": 56,
     "metadata": {},
     "output_type": "execute_result"
    }
   ],
   "source": [
    "round(c1.area(), 2)"
   ]
  },
  {
   "cell_type": "code",
   "execution_count": 58,
   "metadata": {},
   "outputs": [
    {
     "data": {
      "text/plain": [
       "31.42"
      ]
     },
     "execution_count": 58,
     "metadata": {},
     "output_type": "execute_result"
    }
   ],
   "source": [
    "round(c1.circumference(), 2)"
   ]
  },
  {
   "cell_type": "markdown",
   "metadata": {},
   "source": [
    "## Great! \n",
    "\n",
    "### Now you can see how powerful is class inheritance and how it makes our coding much faster and easier."
   ]
  }
 ],
 "metadata": {
  "kernelspec": {
   "display_name": "Python 3",
   "language": "python",
   "name": "python3"
  },
  "language_info": {
   "codemirror_mode": {
    "name": "ipython",
    "version": 3
   },
   "file_extension": ".py",
   "mimetype": "text/x-python",
   "name": "python",
   "nbconvert_exporter": "python",
   "pygments_lexer": "ipython3",
   "version": "3.6.5"
  }
 },
 "nbformat": 4,
 "nbformat_minor": 2
}
