{
 "cells": [
  {
   "cell_type": "markdown",
   "metadata": {},
   "source": [
    "# Class Polymorphism\n",
    "\n",
    "Polymorphism in an important feature of class definition and OOP paradigm in general. \n",
    "\n",
    "Polymorphism means that any object of a given class can be used as though it were an object of any of its base classes. \n",
    "\n",
    "Polymorphism can be carried out through inheritance, with subclasses making use of base class methods or overriding them. \n",
    "\n",
    "A method with the same name and defined in classes and subclasses can behave in different ways depending on which class the object belongs to.\n",
    "\n",
    "The best way to understand this concept is by using examples:\n",
    "\n",
    "Let's start with two simple classes that represent two types of workers **Technician** and **Mechanic**."
   ]
  },
  {
   "cell_type": "code",
   "execution_count": 44,
   "metadata": {},
   "outputs": [],
   "source": [
    "class Technician():\n",
    "    \n",
    "    def __init__(self, name, id_number):\n",
    "        self.name = name\n",
    "        self.number = id_number\n",
    "        \n",
    "    def work(self):\n",
    "        print(\"This worker is a technician\")\n",
    "        \n",
    "        \n",
    "class Mechanic():\n",
    "    \n",
    "    def __init__(self, name, id_number):\n",
    "        self.name = name\n",
    "        self.number = id_number\n",
    "        \n",
    "    def work(self):\n",
    "        print(\"This worker is a mechanic\")"
   ]
  },
  {
   "cell_type": "markdown",
   "metadata": {},
   "source": [
    "These classes have common methods \\_\\_init\\_\\_ and work(). However, each of the functionalities of these methods differ for each class. We focus on work() method that produces different output when it is called for objects of type Technician or Mechanic.\n",
    "\n",
    "**Always remember**: a class is a type.\n",
    "\n",
    "Let's instantiate these classes into two objects t1 (instance of class Technician) and m1 (instance of class Mechanic) and see what happens when we call the method work() on these different objects."
   ]
  },
  {
   "cell_type": "code",
   "execution_count": 46,
   "metadata": {},
   "outputs": [
    {
     "name": "stdout",
     "output_type": "stream",
     "text": [
      "This worker is a technician\n",
      "This worker is a mechanic\n"
     ]
    }
   ],
   "source": [
    "t1 = Technician(\"John\", 1122)\n",
    "m1 = Mechanic(\"Bob\", 3344)\n",
    "\n",
    "t1.work()   # prints the work description of technician t1  \n",
    "m1.work()   # prints the work description of mechanic m1"
   ]
  },
  {
   "cell_type": "markdown",
   "metadata": {},
   "source": [
    "As seen above, the method work() gives different output when we call it for different objects. We say that **this method is polymorphic**.\n",
    "\n",
    "Now that we have two objects that make use of a common interface, we can use the two objects in the same way regardless of their individual types.\n",
    "\n",
    "\n",
    "### Polymorphism appears clearly in 3 cases:\n",
    "\n",
    "\n",
    "- With a **for loop** is used to iterate over a list or tuple of different objects then calling the same function on these objects.\n",
    "\n",
    "\n",
    "- Within a **function**.\n",
    "\n",
    "\n",
    "- With **class inheritance**.\n",
    "\n",
    "## With for loop\n",
    "\n",
    "In this case **for loop** is used to iterate over a list or tuple of different objects then calling the same function on these objects. Let's take a look at the following piece of code."
   ]
  },
  {
   "cell_type": "code",
   "execution_count": 47,
   "metadata": {},
   "outputs": [
    {
     "name": "stdout",
     "output_type": "stream",
     "text": [
      "This worker is a technician\n",
      "This worker is a mechanic\n"
     ]
    }
   ],
   "source": [
    "for worker in (t1, m1):\n",
    "    worker.work()"
   ]
  },
  {
   "cell_type": "markdown",
   "metadata": {},
   "source": [
    "This shows that Python is using the method work() on objects in such a way that it doesn't care exactly what class or type each of these objects is created from. That is, **using the method in a polymorphic way**.\n",
    "\n",
    "- In the first iteration, the variable worker will be t1 object of type Technician. So work() will be called in class Technician.\n",
    "- In the second iteration, the variable worker will be m1 object of type Mechanic, So work() will be called in class Mechanic.\n",
    "\n",
    "\n"
   ]
  },
  {
   "cell_type": "markdown",
   "metadata": {},
   "source": [
    "## With a function\n",
    "\n",
    "We can also allow polymorphism by defining a function that takes different objects and calls the same method on these objects.\n",
    "\n",
    "Example:\n"
   ]
  },
  {
   "cell_type": "code",
   "execution_count": 48,
   "metadata": {},
   "outputs": [
    {
     "name": "stdout",
     "output_type": "stream",
     "text": [
      "This worker is a technician\n",
      "This worker is a mechanic\n"
     ]
    }
   ],
   "source": [
    "def describe_work(w):\n",
    "    w.work()\n",
    "    \n",
    "tech1 = Technician(\"John\", 110)\n",
    "mec1 = Mechanic(\"Bob\", 111)\n",
    "\n",
    "describe_work(tech1) \n",
    "describe_work(mec1)"
   ]
  },
  {
   "cell_type": "markdown",
   "metadata": {},
   "source": [
    "Notice that although we passed a random object (w) to the function describe_work(), we were still able to use it effectively for instantiations of both the Technician and Mechanic classes. \n",
    "\n",
    "- tech1 object called the work() method defined in the Technician class.\n",
    "- mec1 object called the work() method defined in the Mechanic class. "
   ]
  },
  {
   "cell_type": "markdown",
   "metadata": {},
   "source": [
    "## With class inheritance\n",
    "\n",
    "Let's create an abstract class (base class) and 2 subclasses.\n",
    "\n",
    "**NOTES about abstract class**: \n",
    "\n",
    "- An abstract class is a class that we design to derive some other classes from it. \n",
    "- An abstract class is used only as a base class of some subclasses.\n",
    "    - We assume that we are not supposed to create any object of that abstract class.\n",
    "\n",
    "Example:"
   ]
  },
  {
   "cell_type": "code",
   "execution_count": 49,
   "metadata": {},
   "outputs": [],
   "source": [
    "# this is an abstract class\n",
    "class Worker(): \n",
    "    \n",
    "    def __init__(self, name, id_number):\n",
    "        self.name = name\n",
    "        self.number = id_number\n",
    "    \n",
    "    # this is an abstract method\n",
    "    def work(self):\n",
    "        raise NotImplementedError(\"Abstract method, subclasses should override this method\")        "
   ]
  },
  {
   "cell_type": "code",
   "execution_count": 50,
   "metadata": {},
   "outputs": [
    {
     "ename": "NotImplementedError",
     "evalue": "Abstract method, subclasses should override this method",
     "output_type": "error",
     "traceback": [
      "\u001b[1;31m---------------------------------------------------------------------------\u001b[0m",
      "\u001b[1;31mNotImplementedError\u001b[0m                       Traceback (most recent call last)",
      "\u001b[1;32m<ipython-input-50-e4e46583dc5b>\u001b[0m in \u001b[0;36m<module>\u001b[1;34m()\u001b[0m\n\u001b[0;32m      1\u001b[0m \u001b[0mw\u001b[0m \u001b[1;33m=\u001b[0m \u001b[0mWorker\u001b[0m\u001b[1;33m(\u001b[0m\u001b[1;34m\"Bob\"\u001b[0m\u001b[1;33m,\u001b[0m \u001b[1;36m1234\u001b[0m\u001b[1;33m)\u001b[0m\u001b[1;33m\u001b[0m\u001b[0m\n\u001b[1;32m----> 2\u001b[1;33m \u001b[0mw\u001b[0m\u001b[1;33m.\u001b[0m\u001b[0mwork\u001b[0m\u001b[1;33m(\u001b[0m\u001b[1;33m)\u001b[0m\u001b[1;33m\u001b[0m\u001b[0m\n\u001b[0m",
      "\u001b[1;32m<ipython-input-49-bdcd160781d2>\u001b[0m in \u001b[0;36mwork\u001b[1;34m(self)\u001b[0m\n\u001b[0;32m      8\u001b[0m     \u001b[1;31m# this is an abstact method\u001b[0m\u001b[1;33m\u001b[0m\u001b[1;33m\u001b[0m\u001b[0m\n\u001b[0;32m      9\u001b[0m     \u001b[1;32mdef\u001b[0m \u001b[0mwork\u001b[0m\u001b[1;33m(\u001b[0m\u001b[0mself\u001b[0m\u001b[1;33m)\u001b[0m\u001b[1;33m:\u001b[0m\u001b[1;33m\u001b[0m\u001b[0m\n\u001b[1;32m---> 10\u001b[1;33m         \u001b[1;32mraise\u001b[0m \u001b[0mNotImplementedError\u001b[0m\u001b[1;33m(\u001b[0m\u001b[1;34m\"Abstract method, subclasses should override this method\"\u001b[0m\u001b[1;33m)\u001b[0m\u001b[1;33m\u001b[0m\u001b[0m\n\u001b[0m",
      "\u001b[1;31mNotImplementedError\u001b[0m: Abstract method, subclasses should override this method"
     ]
    }
   ],
   "source": [
    "w = Worker(\"Bob\", 1234)\n",
    "w.work()"
   ]
  },
  {
   "cell_type": "markdown",
   "metadata": {},
   "source": [
    "The above call of method work() on object w is raising an error because Worker was designed to be an abstract class and work() is an abstract method that supposed to be implemented in the subclasses not in the abstract (or base) class.\n",
    "\n",
    "Let's make the 2 subclasses Technician and Mechanic form the base class Worker."
   ]
  },
  {
   "cell_type": "code",
   "execution_count": 51,
   "metadata": {},
   "outputs": [],
   "source": [
    "class Technician(Worker):\n",
    "    \n",
    "    def work(self):\n",
    "        print(\"This worker is a technician\")\n",
    "\n",
    "class Mechanic(Worker):\n",
    "    \n",
    "    def work(self):\n",
    "        print(\"This worker is a mechanic\")"
   ]
  },
  {
   "cell_type": "markdown",
   "metadata": {},
   "source": [
    "**NOTES**\n",
    "\n",
    "1. There is no need to re-write the special method \\__init\\__() in the subclasses as it will be already inherited from the base class Worker. \n",
    "2. The methods work() in the subclasses Technician and Mechanic will override work() in the abstract class Worker."
   ]
  },
  {
   "cell_type": "code",
   "execution_count": 52,
   "metadata": {},
   "outputs": [
    {
     "name": "stdout",
     "output_type": "stream",
     "text": [
      "This worker is a technician\n",
      "This worker is a mechanic\n"
     ]
    }
   ],
   "source": [
    "t1 = Technician(\"John\", 111)\n",
    "m1 = Mechanic(\"Bob\", 222)\n",
    "\n",
    "# these 2 calls override work() method in base class Worker\n",
    "t1.work()  # call work() in Technician subclass \n",
    "m1.work()  # call work() in Mechanic subclass"
   ]
  },
  {
   "cell_type": "markdown",
   "metadata": {},
   "source": [
    "Again, polymorphism appears by allowing different objects, t1 and m1, to leverage the method work() in similar ways."
   ]
  },
  {
   "cell_type": "markdown",
   "metadata": {},
   "source": [
    "## Great job!\n",
    "\n",
    "### Now you have learned the techniques used in Python to take advantage of polymorphism, a Python feature that provides greater flexibility and extendability of your object-oriented code."
   ]
  },
  {
   "cell_type": "code",
   "execution_count": null,
   "metadata": {},
   "outputs": [],
   "source": []
  }
 ],
 "metadata": {
  "kernelspec": {
   "display_name": "Python 3",
   "language": "python",
   "name": "python3"
  },
  "language_info": {
   "codemirror_mode": {
    "name": "ipython",
    "version": 3
   },
   "file_extension": ".py",
   "mimetype": "text/x-python",
   "name": "python",
   "nbconvert_exporter": "python",
   "pygments_lexer": "ipython3",
   "version": "3.6.5"
  }
 },
 "nbformat": 4,
 "nbformat_minor": 2
}
