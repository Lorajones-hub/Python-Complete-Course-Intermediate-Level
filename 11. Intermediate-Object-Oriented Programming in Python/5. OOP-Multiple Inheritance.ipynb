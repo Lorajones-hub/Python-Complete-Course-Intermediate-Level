{
 "cells": [
  {
   "cell_type": "markdown",
   "metadata": {},
   "source": [
    "# Multiple Inheritance\n",
    "\n",
    "In the previous lesson, we covered single inheritance, where a subclass inherits from only one superclass. Python also allows multiple inheritance where a class can inherit attributes and methods from more than one parent class.\n",
    "\n",
    "The syntax is:"
   ]
  },
  {
   "cell_type": "code",
   "execution_count": null,
   "metadata": {},
   "outputs": [],
   "source": [
    "class SubclassName(BaseClass1, BaseClass2, BaseClass3, ...):\n",
    "    pass"
   ]
  },
  {
   "cell_type": "markdown",
   "metadata": {},
   "source": [
    "We introduce the concept of multiple inheritance through an example. Suppose we have two classes, **Person** and **Employee** defined as follows:"
   ]
  },
  {
   "cell_type": "code",
   "execution_count": 52,
   "metadata": {},
   "outputs": [],
   "source": [
    "class Person():\n",
    "    \n",
    "    def __init__(self, name, age, address):\n",
    "        self.name = name\n",
    "        self.age = age\n",
    "        self.address = address\n",
    "        \n",
    "    def show_name(self):  \n",
    "        print(self.name)  \n",
    "  \n",
    "    def show_age(self):  \n",
    "        print(self.age) \n",
    "        \n",
    "    def show_address(self):  \n",
    "        print(self.address) \n",
    "        \n",
    "    def __str__(self):\n",
    "        return \"I'm \" + self.name + \". I live in \" + self.address\n",
    "        \n",
    "class Employee():\n",
    "    \n",
    "    def __init__(self, emp_id, salary):\n",
    "        self.id = emp_id\n",
    "        self.salary = salary\n",
    "        \n",
    "    def add_bonus(self, bonus):\n",
    "        self.salary += bonus\n",
    "        \n",
    "    def __str__(self):\n",
    "        return \"This is an employee\""
   ]
  },
  {
   "cell_type": "markdown",
   "metadata": {},
   "source": [
    "We have already learned how to create an object of a class. Let's create some Person and Employee objects."
   ]
  },
  {
   "cell_type": "code",
   "execution_count": 53,
   "metadata": {},
   "outputs": [
    {
     "name": "stdout",
     "output_type": "stream",
     "text": [
      "I'm John Smith. I live in 123 Sunny Rd.\n",
      "I'm Bill Joe. I live in 123 Sunny Rd.\n"
     ]
    }
   ],
   "source": [
    "p1 = Person('John Smith', 20, '123 Sunny Rd.')\n",
    "p2 = Person('Bill Joe', 25, '123 Sunny Rd.')\n",
    "print(p1)\n",
    "print(p2)"
   ]
  },
  {
   "cell_type": "code",
   "execution_count": 54,
   "metadata": {},
   "outputs": [
    {
     "name": "stdout",
     "output_type": "stream",
     "text": [
      "This is an employee\n",
      "$2300.0\n"
     ]
    }
   ],
   "source": [
    "emp1 = Employee('111', 2000.00)\n",
    "emp2 = Employee('222', 2500.00)\n",
    "print(emp1)\n",
    "emp1.add_bonus(300)\n",
    "print(\"$\"+str(emp1.salary))"
   ]
  },
  {
   "cell_type": "markdown",
   "metadata": {},
   "source": [
    "Great! Let's move on and create another class **Programmer** which will inherits from BOTH Person and Employee classes. The special method \\_\\_init\\_\\_ in class Programmer calls the two \\_\\_init\\_\\_ methods of the super classes in order to construct the final Programmer object."
   ]
  },
  {
   "cell_type": "code",
   "execution_count": 55,
   "metadata": {},
   "outputs": [],
   "source": [
    "class Programmer(Person, Employee):\n",
    "    \n",
    "    def __init__(self, name, age, address, emp_id, salary, dept):\n",
    "        # call __init__() method in bases classes\n",
    "        Person.__init__(self, name, age, address)\n",
    "        Employee.__init__(self, emp_id, salary)\n",
    "        \n",
    "        # new attribute in class Programmer\n",
    "        self.dept = dept\n",
    "    \n",
    "    # will override add_bonus() method in the super class Employee\n",
    "    def add_bonus(self):\n",
    "        self.salary += (self.salary*0.1)\n",
    "        \n",
    "    def __str__(self):\n",
    "        return \"I'm \" + self.name + \" I work in \" + self.dept + \" Department\"\n",
    "        "
   ]
  },
  {
   "cell_type": "markdown",
   "metadata": {},
   "source": [
    "Now, let's create an object of type Programmer and supply the required info."
   ]
  },
  {
   "cell_type": "code",
   "execution_count": 56,
   "metadata": {},
   "outputs": [
    {
     "name": "stdout",
     "output_type": "stream",
     "text": [
      "I'm Harry Potter I work in Finance Department\n",
      "1650.0\n"
     ]
    }
   ],
   "source": [
    "pr1 = Programmer('Harry Potter', 30, '456 Windy Rd.', '009', 1500.00, 'Finance')\n",
    "print(pr1)\n",
    "pr1.add_bonus()\n",
    "print(pr1.salary)"
   ]
  },
  {
   "cell_type": "markdown",
   "metadata": {},
   "source": [
    "## Perfect!\n",
    "\n",
    "### Now you know how to define a class that inherits from multiple base classes. The skills you have learned in this lesson will help you when you start working on the next programming project in this course."
   ]
  }
 ],
 "metadata": {
  "kernelspec": {
   "display_name": "Python 3",
   "language": "python",
   "name": "python3"
  },
  "language_info": {
   "codemirror_mode": {
    "name": "ipython",
    "version": 3
   },
   "file_extension": ".py",
   "mimetype": "text/x-python",
   "name": "python",
   "nbconvert_exporter": "python",
   "pygments_lexer": "ipython3",
   "version": "3.6.5"
  }
 },
 "nbformat": 4,
 "nbformat_minor": 2
}
