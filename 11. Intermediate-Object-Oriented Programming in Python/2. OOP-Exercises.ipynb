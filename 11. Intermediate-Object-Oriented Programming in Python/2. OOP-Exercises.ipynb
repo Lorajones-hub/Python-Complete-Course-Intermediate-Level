{
 "cells": [
  {
   "cell_type": "markdown",
   "metadata": {},
   "source": [
    "# Classes, attributes, and methods exercises \n",
    "\n",
    "### Question 1: \n",
    "\n",
    "A class called Rocket is shown below. This class simulates a rocket ship for a game. It has 2 attributes x an y similar to class Point we covered in the OOP lectures.\n",
    "\n",
    "Complete the methods in class Rocket:\n",
    " - \\__init\\__() sets the values of x and y for a Rocket object\n",
    " \n",
    " \n",
    " - move_up() simulates moving a Rocket object up. Hint: increment the value of y\n",
    " \n",
    " \n",
    " - move_rocket() simulates moving the Rocket object to another location. Hint: set x and y to any new values\n",
    " \n",
    " \n",
    "The special method \\__str\\__() is done for you. It returns the string representation of the Rocket object."
   ]
  },
  {
   "cell_type": "code",
   "execution_count": 28,
   "metadata": {},
   "outputs": [],
   "source": [
    "class Rocket():\n",
    "    \n",
    "    def __init__(self, x=0, y=0):\n",
    "        pass\n",
    "        \n",
    "    \n",
    "    # move the rocket ship up\n",
    "    def move_up(self):\n",
    "        pass\n",
    "        \n",
    "    \n",
    "    # move the rocket ship to another location\n",
    "    def move_rocket(self, new_x, new_y):\n",
    "        pass\n",
    "        \n",
    "    def __str__(self):\n",
    "        return f\"rocket at location ({self.x}, {self.y})\""
   ]
  },
  {
   "cell_type": "code",
   "execution_count": 29,
   "metadata": {},
   "outputs": [
    {
     "name": "stdout",
     "output_type": "stream",
     "text": [
      "rocket at location (3, 7)\n"
     ]
    }
   ],
   "source": [
    "# Example output  \n",
    "\n",
    "rocket1 = Rocket(3, 6)\n",
    "\n",
    "rocket1.move_up()\n",
    "\n",
    "print(rocket1)"
   ]
  },
  {
   "cell_type": "code",
   "execution_count": 30,
   "metadata": {},
   "outputs": [
    {
     "name": "stdout",
     "output_type": "stream",
     "text": [
      "rocket at location (7, 22)\n"
     ]
    }
   ],
   "source": [
    "rocket2 = Rocket(4, 10)\n",
    "\n",
    "rocket2.move_rocket(7, 22)\n",
    "\n",
    "print(rocket2)"
   ]
  },
  {
   "cell_type": "markdown",
   "metadata": {},
   "source": [
    "### Question 2:\n",
    "\n",
    "You have a class Shape that has height and width attributes:"
   ]
  },
  {
   "cell_type": "code",
   "execution_count": 31,
   "metadata": {},
   "outputs": [],
   "source": [
    "class Shape():\n",
    "     \n",
    "        def __init__(self, height, width):\n",
    "            self.height = height\n",
    "            self.width = width          \n",
    "            "
   ]
  },
  {
   "cell_type": "markdown",
   "metadata": {},
   "source": [
    "Define a subclass Box that inherits from class Shape. Box has another attribute called depth.\n",
    "\n",
    "Define these methods in the Box class.\n",
    "\n",
    "- \\__init\\__() creates an instance of Box class. How to call \\__init\\__() in the base class Shape. Hint: use super(). \n",
    "- find_volume() calculates the volume of a box.\n",
    "- find_surface_area() calculates the surface area of a box.\n",
    "\n",
    "Part of the class is given below:\n"
   ]
  },
  {
   "cell_type": "code",
   "execution_count": 32,
   "metadata": {},
   "outputs": [],
   "source": [
    "class Rectangle(Shape):\n",
    "    \n",
    "    def __init__(self, height, width, depth):\n",
    "        super().__init__(height, width)\n",
    "        self.depth = depth\n",
    "    \n",
    "    def find_volume(self):\n",
    "        return self.height * self.width * self.depth\n",
    "    \n",
    "    def find_surface_area(self):\n",
    "        return 2*(self.height + self.width + self.depth)\n",
    "    \n",
    "    "
   ]
  },
  {
   "cell_type": "code",
   "execution_count": 33,
   "metadata": {},
   "outputs": [
    {
     "data": {
      "text/plain": [
       "24"
      ]
     },
     "execution_count": 33,
     "metadata": {},
     "output_type": "execute_result"
    }
   ],
   "source": [
    "box1 = Rectangle(2, 3, 4)\n",
    "box1.find_volume()"
   ]
  },
  {
   "cell_type": "code",
   "execution_count": 34,
   "metadata": {},
   "outputs": [
    {
     "data": {
      "text/plain": [
       "18"
      ]
     },
     "execution_count": 34,
     "metadata": {},
     "output_type": "execute_result"
    }
   ],
   "source": [
    "box1.find_surface_area()"
   ]
  }
 ],
 "metadata": {
  "kernelspec": {
   "display_name": "Python 3",
   "language": "python",
   "name": "python3"
  },
  "language_info": {
   "codemirror_mode": {
    "name": "ipython",
    "version": 3
   },
   "file_extension": ".py",
   "mimetype": "text/x-python",
   "name": "python",
   "nbconvert_exporter": "python",
   "pygments_lexer": "ipython3",
   "version": "3.6.5"
  }
 },
 "nbformat": 4,
 "nbformat_minor": 2
}
