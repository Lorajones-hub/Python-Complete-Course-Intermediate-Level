{
 "cells": [
  {
   "cell_type": "markdown",
   "metadata": {},
   "source": [
    "# Introduction to object-oriented programming (OOP)\n",
    "\n",
    "Up to this section, we've been using objects all the time. But in order to understand what is exactly an object, you need to learn about classes that are the core of the OOP paradigm. OOP is a widely used concept to create powerful applications. The main idea of OOP is that:\n",
    "\n",
    "                    “everything is an object and an object is an instance (or example) of a class” \n",
    "\n",
    "The benefits of OOP appears for medium and large-sized programs as it provides faster development.\n",
    "\n",
    "In this lecture we will discuss the following topics:\n",
    "\n",
    "- **What is a class in Python**\n",
    "- **What is an object of a class**\n",
    "- **How to create custom classes**\n",
    "- **Class attributes**\n",
    "- **Class methods**\n",
    "\n",
    "So let's get started.\n",
    "\n",
    "## What is a class in Python?\n",
    "\n",
    "The terms _class_, _type_, and _datatype_ all have the same meaning. A class is a datatype and we have already worked with built-in classes such as dict, int, list, str. In Python we can also create custom classes that can be used just like any other built-in classes. \n",
    "\n",
    "A class is normally used to combine data and functions. **The data is called class attributes and the functions are called class methods**. \n",
    "\n",
    "## What is an object of a class?\n",
    "\n",
    "The term _object_, or _instance_, is used to refer to an instance or example of a class. Typically, creating a new class creates a new type of object, allowing new instances of that type to be made. Class attributes are the characteristics of the class while class methods are actions we perform on these attributes.\n",
    "\n",
    "Examples:      \n",
    "                      \n",
    "                                 10 is an int object\n",
    "                                 'My_Book' is a str object\n",
    "     \n",
    "Remember that in Python everything is an object. For example, to create a new list object simply type this:"
   ]
  },
  {
   "cell_type": "code",
   "execution_count": 3,
   "metadata": {},
   "outputs": [],
   "source": [
    "L = [3,5,2,7,10]"
   ]
  },
  {
   "cell_type": "markdown",
   "metadata": {},
   "source": [
    "Since L is an object of type list, we can call different methods to work with that object."
   ]
  },
  {
   "cell_type": "code",
   "execution_count": 8,
   "metadata": {},
   "outputs": [
    {
     "data": {
      "text/plain": [
       "[2, 3, 5, 7, 10]"
      ]
     },
     "execution_count": 8,
     "metadata": {},
     "output_type": "execute_result"
    }
   ],
   "source": [
    "L.sort()  # sort the list items in ascending order\n",
    "L"
   ]
  },
  {
   "cell_type": "code",
   "execution_count": 9,
   "metadata": {},
   "outputs": [
    {
     "data": {
      "text/plain": [
       "[2, 3, 5, 7, 10, 0, 1]"
      ]
     },
     "execution_count": 9,
     "metadata": {},
     "output_type": "execute_result"
    }
   ],
   "source": [
    "L + [0, 1]  # concatenate L with another list [0,1]"
   ]
  },
  {
   "cell_type": "markdown",
   "metadata": {},
   "source": [
    "We have previously seen that we can call type() function to check the type of any object."
   ]
  },
  {
   "cell_type": "code",
   "execution_count": 10,
   "metadata": {},
   "outputs": [
    {
     "name": "stdout",
     "output_type": "stream",
     "text": [
      "<class 'int'>\n",
      "<class 'float'>\n",
      "<class 'str'>\n",
      "<class 'list'>\n",
      "<class 'dict'>\n",
      "<class 'tuple'>\n"
     ]
    }
   ],
   "source": [
    "print(type(5))         # what is the type of 5 \n",
    "print(type(1.2))       # what is the type of 1.2\n",
    "print(type('hello'))   # what is the type of 'hello' \n",
    "print(type([]))        # what is the type of []\n",
    "print(type({0: 14}))   # what is the type of {0: 14}\n",
    "print(type(('a', 1)))  # whst is the type of ()"
   ]
  },
  {
   "cell_type": "markdown",
   "metadata": {},
   "source": [
    "## How to create custom classes in Python\n",
    "\n",
    "A custom class is a class that is defined or created by the programmer. There are 2 syntaxes for creating custom classes:\n",
    "\n",
    "                              1.   class className:\n",
    "                                       block\n",
    "\n",
    "                              2.   class className(base_classes) \n",
    "                                       block\n",
    "\n",
    "The first syntax starts with a **class** keyword followed by the class name, which usually begins with a capital letter, then a colon (:), and finally the block (or the suite) that includes the class attributes and methods. \n",
    "\n",
    "In the second syntax, which is mainly used for class inheritance, one or more base classes are passed to create a new subclass. The base classes are the parent classes and the new class created will be the subclass or child class. Child classes inherit attributes and methods from parent classes. We will cover class inheritance in details later in this section.\n",
    "\n",
    "\n",
    "**GENERAL NOTES**: \n",
    "\n",
    "The name convention for naming classes is **camel casing**:\n",
    " - Begin each word with a capital letter. \n",
    "   - **Examples**: CompanyWorker, UniversityStudent, MammelAnimal, etc.\n",
    " \n",
    "The name convention for naming variables and functions is **snake casing**:\n",
    " - Words are all lowercase with underscores (\\_) to separate them.\n",
    "    - **Examples**: number_of_students, my_first_function, etc."
   ]
  },
  {
   "cell_type": "markdown",
   "metadata": {},
   "source": [
    "## Class attributes\n",
    "\n",
    "Let's start with a simple class, **Point**. This class is used to create an object that saves a point in the plane with (x, y) coordinates.          "
   ]
  },
  {
   "cell_type": "code",
   "execution_count": 44,
   "metadata": {},
   "outputs": [],
   "source": [
    "class Point():\n",
    "    def __init__(self, x, y):\n",
    "        self.x = x\n",
    "        self.y = y      "
   ]
  },
  {
   "cell_type": "markdown",
   "metadata": {},
   "source": [
    "The class Point has 2 data attributes self.x and self.y and one special method called \\__init\\__(). \n",
    "\n",
    "The syntax for creating a class attribute and assigning it a value:\n",
    "\n",
    "         self.attribute = value\n",
    "\n",
    "**NOTE**: A class method is created using **def** just like any other function. \n",
    "\n",
    "### \\__init\\__() method\n",
    "\n",
    "**Why the method \\__init\\__() is defined?**\n",
    "\n",
    "When creating an object or instance of any class, the \\__init\\__() method automatically called by Python with the required data (passed through \\__init\\__() parameters) to initialize the attributes of that object. This is called **class instantiation**.\n",
    "\n",
    "For example, to create a new object of class Point, simply call the class with the values of the 2 arguments of \\__init\\__(), x and y. Then assign that object to its reference, as shown in the example below.  \n",
    "\n"
   ]
  },
  {
   "cell_type": "code",
   "execution_count": 45,
   "metadata": {},
   "outputs": [
    {
     "name": "stdout",
     "output_type": "stream",
     "text": [
      "Coordinates of point1\n",
      "x = 3 and y = 4\n"
     ]
    }
   ],
   "source": [
    "point1 = Point(3,4) # object point1 created, data attributes are x=3 and y=4\n",
    "\n",
    "print(\"Coordinates of point1\")\n",
    "print(\"x =\", point1.x, \"and y =\", point1.y)"
   ]
  },
  {
   "cell_type": "markdown",
   "metadata": {},
   "source": [
    "Now point1 is the reference to our newly created object (instance) of class Point. We say that class Point is **instantiated**.\n",
    "\n",
    "Notice that we did not pass anything to the first argument **self**. Python automatically supplies this argument when calling class methods like \\__init\\__(). **self** is the object reference to the object itself. \n",
    "\n",
    "All class methods must have self as the first parameter. This ensures accessing the object's attributes because an object holds itself with the reference **self**."
   ]
  },
  {
   "cell_type": "markdown",
   "metadata": {},
   "source": [
    "## Class methods\n",
    "\n",
    "Up to here, you have learned how to create a custom class with some attributes in Python, how to create an object of that class and how to get the values of these attributes. The above class doesn't actually do anything. Adding methods to a class makes it do some functions/actions on the attributes. Let's see how to do that. \n",
    "\n",
    "Let's create a class called **Cube** with one attribute **side** which represents the length of the cube's side."
   ]
  },
  {
   "cell_type": "code",
   "execution_count": 1,
   "metadata": {},
   "outputs": [
    {
     "name": "stdout",
     "output_type": "stream",
     "text": [
      "<__main__.Cube object at 0x000001EE673FC240>\n",
      "Cube side is: 5\n",
      "Cube volume is: 125\n"
     ]
    }
   ],
   "source": [
    "class Cube():\n",
    "    \n",
    "    def __init__(self, side):\n",
    "        self.side = side \n",
    "        \n",
    "    def volume(self):\n",
    "        return self.side**3  # raise value of side to power of 3\n",
    "    \n",
    "myCube = Cube(5)  # side length of myCube is 5\n",
    "\n",
    "print(myCube)\n",
    "\n",
    "print(\"Cube side is:\", myCube.side)\n",
    "\n",
    "print(\"Cube volume is:\", myCube.volume())"
   ]
  },
  {
   "cell_type": "markdown",
   "metadata": {},
   "source": [
    "As seen in the above example, in addition to the special method \\_\\_init\\_\\_, a new method is defined in the class Cube which is volume() \n",
    "\n",
    "Also, when we print the object by writing print(myCube), the first line of the output tells us that this is a Cube object and its location in the memory. Later on we will see how to print an object as a string using a special method \\__str\\__() .\n",
    "\n",
    "**NOTE**:\n",
    "\n",
    "- Class attributes can be accessed directly while class methods are called with parentheses ()."
   ]
  },
  {
   "cell_type": "markdown",
   "metadata": {},
   "source": [
    "### General attributes\n",
    "\n",
    "Sometimes, it is useful to add some general attributes to a class so all the objects created from that class will have the same attributes. \n",
    "\n",
    "For instance, in class Cube we can add an attribute called **shape** with the value \"six faces\". Now regardless of which cube (object) you create, each cube will be a six faces shape.\n",
    "\n",
    "**Example**:"
   ]
  },
  {
   "cell_type": "code",
   "execution_count": 2,
   "metadata": {},
   "outputs": [],
   "source": [
    "class Cube():\n",
    "    \n",
    "    # general attribute for all cubes\n",
    "    shape = \"six faces\"\n",
    "    \n",
    "    def __init__(self, side):\n",
    "        self.side = side \n",
    "        \n",
    "    def volume(self):\n",
    "        return self.side**3"
   ]
  },
  {
   "cell_type": "code",
   "execution_count": 4,
   "metadata": {},
   "outputs": [
    {
     "data": {
      "text/plain": [
       "'six faces'"
      ]
     },
     "execution_count": 4,
     "metadata": {},
     "output_type": "execute_result"
    }
   ],
   "source": [
    "cube1 = Cube(3)\n",
    "cube1.shape"
   ]
  },
  {
   "cell_type": "code",
   "execution_count": 6,
   "metadata": {},
   "outputs": [
    {
     "data": {
      "text/plain": [
       "'six faces'"
      ]
     },
     "execution_count": 6,
     "metadata": {},
     "output_type": "execute_result"
    }
   ],
   "source": [
    "cube2 = Cube(4)\n",
    "cube2.shape"
   ]
  },
  {
   "cell_type": "markdown",
   "metadata": {},
   "source": [
    "Now let's extend the class Cube to add some useful methods to **set** and **get** the side of a cube. Usually, these types of functions are called **setters** and **getters**, respectively."
   ]
  },
  {
   "cell_type": "code",
   "execution_count": 42,
   "metadata": {},
   "outputs": [
    {
     "data": {
      "text/plain": [
       "10"
      ]
     },
     "execution_count": 42,
     "metadata": {},
     "output_type": "execute_result"
    }
   ],
   "source": [
    "class Cube():\n",
    "    \n",
    "    def __init__(self, side):\n",
    "        self.side = side \n",
    "        \n",
    "    def volume(self):\n",
    "        return self.side**3\n",
    "    \n",
    "    def get_side(self):   # get value of side\n",
    "        return self.side\n",
    "    \n",
    "    def set_side(self, new_side): # change value of side to new value\n",
    "        self.side = new_side\n",
    "        \n",
    "cube1 = Cube(10)  # side of cube1 = 10\n",
    "\n",
    "cube1.get_side()\n",
    "        "
   ]
  },
  {
   "cell_type": "markdown",
   "metadata": {},
   "source": [
    "**NOTES**:\n",
    "\n",
    "- **Getter** methods, like get_side(), returns the value of the attribute we want to get.\n",
    "- **Setter** methods, like set_side(), assign a new value to that attribute. No return here.\n",
    "- **self.** notation is used to reference to any attribute inside the class methods."
   ]
  },
  {
   "cell_type": "code",
   "execution_count": 43,
   "metadata": {},
   "outputs": [
    {
     "data": {
      "text/plain": [
       "12"
      ]
     },
     "execution_count": 43,
     "metadata": {},
     "output_type": "execute_result"
    }
   ],
   "source": [
    "cube1.set_side(12)  # now side of cube1 = 12\n",
    "\n",
    "cube1.side"
   ]
  },
  {
   "cell_type": "markdown",
   "metadata": {},
   "source": [
    "## Special methods\n",
    "\n",
    "Classes can also have special methods that do specific tasks using special method names which starts and ends with double underscores.\n",
    "\n",
    "Let's define a new class named Worker and discuss some special methods in it.\n"
   ]
  },
  {
   "cell_type": "code",
   "execution_count": 1,
   "metadata": {},
   "outputs": [],
   "source": [
    "class Worker():\n",
    "    \n",
    "    # create Worker object and initialize its attributes with values\n",
    "    def __init__(self, id_number, name, company):\n",
    "        self.number = id_number\n",
    "        self.name = name\n",
    "        self.company = company\n",
    "    \n",
    "    # returns a string to describe the object\n",
    "    def __str__(self):\n",
    "        return \"Worker: %s, ID number %s, works for %s company\" %(self.name, self.number, self.company)\n",
    "    \n",
    "    # delete the object\n",
    "    def __del__(self):\n",
    "        print(\"The worker is deleted\")"
   ]
  },
  {
   "cell_type": "code",
   "execution_count": 2,
   "metadata": {},
   "outputs": [
    {
     "name": "stdout",
     "output_type": "stream",
     "text": [
      "Worker: John Smith, ID number 123, works for Home Decor company\n"
     ]
    }
   ],
   "source": [
    "worker1 = Worker(123, \"John Smith\", \"Home Decor\")\n",
    "\n",
    "print(worker1) \n",
    "# __str__() is called to print the object worker1 as a string"
   ]
  },
  {
   "cell_type": "code",
   "execution_count": 3,
   "metadata": {},
   "outputs": [
    {
     "name": "stdout",
     "output_type": "stream",
     "text": [
      "The worker is deleted\n"
     ]
    }
   ],
   "source": [
    "del worker1\n",
    "\n",
    "# __del__() is called to delete worker1"
   ]
  },
  {
   "cell_type": "code",
   "execution_count": 4,
   "metadata": {},
   "outputs": [
    {
     "ename": "NameError",
     "evalue": "name 'worker1' is not defined",
     "output_type": "error",
     "traceback": [
      "\u001b[1;31m---------------------------------------------------------------------------\u001b[0m",
      "\u001b[1;31mNameError\u001b[0m                                 Traceback (most recent call last)",
      "\u001b[1;32m<ipython-input-4-829c2d0fbac9>\u001b[0m in \u001b[0;36m<module>\u001b[1;34m()\u001b[0m\n\u001b[1;32m----> 1\u001b[1;33m \u001b[0mworker1\u001b[0m  \u001b[1;31m# now worker1 doesn't exist anymore\u001b[0m\u001b[1;33m\u001b[0m\u001b[0m\n\u001b[0m",
      "\u001b[1;31mNameError\u001b[0m: name 'worker1' is not defined"
     ]
    }
   ],
   "source": [
    "worker1  # now worker1 doesn't exist anymore"
   ]
  },
  {
   "cell_type": "markdown",
   "metadata": {},
   "source": [
    "There are many special methods in Python, for example in Point class we can define \\__eq\\__(), \\__repr\\__(), and \\__len\\__() methods."
   ]
  },
  {
   "cell_type": "code",
   "execution_count": 26,
   "metadata": {},
   "outputs": [],
   "source": [
    "class Point():\n",
    "    \n",
    "    # initialize object with coordinates\n",
    "    def __init__(self, x, y):\n",
    "        self.x = x\n",
    "        self.y = y \n",
    "        \n",
    "    # check if 2 points self and other are equal    \n",
    "    def __eq__(self, other):\n",
    "        return self.x == other.x and self.y == other.y\n",
    "    \n",
    "    # similar to __str__()\n",
    "    def __repr__(self):\n",
    "        return \"Point({0.x}, {0.y})\".format(self)\n",
    "    \n",
    "    # return length of line from point to origin as int\n",
    "    def __len__(self):\n",
    "        return int(math.hypot(self.x, self.y))"
   ]
  },
  {
   "cell_type": "code",
   "execution_count": 27,
   "metadata": {},
   "outputs": [
    {
     "data": {
      "text/plain": [
       "False"
      ]
     },
     "execution_count": 27,
     "metadata": {},
     "output_type": "execute_result"
    }
   ],
   "source": [
    "p1 = Point(2, 5)\n",
    "p2 = Point(2, 8)\n",
    "p1 == p2"
   ]
  },
  {
   "cell_type": "code",
   "execution_count": 28,
   "metadata": {},
   "outputs": [
    {
     "data": {
      "text/plain": [
       "True"
      ]
     },
     "execution_count": 28,
     "metadata": {},
     "output_type": "execute_result"
    }
   ],
   "source": [
    "Point(3, 4) == Point(3, 4) # __eq__() is called to compare if the 2 points are equal"
   ]
  },
  {
   "cell_type": "code",
   "execution_count": 29,
   "metadata": {},
   "outputs": [
    {
     "data": {
      "text/plain": [
       "Point(2, 9)"
      ]
     },
     "execution_count": 29,
     "metadata": {},
     "output_type": "execute_result"
    }
   ],
   "source": [
    "p = Point(2, 9)\n",
    "p       # __repr__() is called"
   ]
  },
  {
   "cell_type": "code",
   "execution_count": 31,
   "metadata": {},
   "outputs": [
    {
     "data": {
      "text/plain": [
       "9"
      ]
     },
     "execution_count": 31,
     "metadata": {},
     "output_type": "execute_result"
    }
   ],
   "source": [
    "import math\n",
    "\n",
    "length = len(p)   # __len__() is called\n",
    "length"
   ]
  },
  {
   "cell_type": "markdown",
   "metadata": {},
   "source": [
    "A nice and full guide on the magical special methods can be found here: [A Guide to Python's Magic Methods](https://rszalski.github.io/magicmethods/)"
   ]
  },
  {
   "cell_type": "markdown",
   "metadata": {},
   "source": [
    "## Conclusion\n",
    "\n",
    "### In this lecture, we learned how to define a class in Python and how to create objects of that class. Different attributes can be added to describe the class and methods are mainly used to add functionality to the class.\n",
    "\n",
    "For more details on classes, attributes and methods, check out the following resources:\n",
    "\n",
    "[Tutorials Point](http://www.tutorialspoint.com/python/python_classes_objects.htm)<br>\n",
    "[Python Documentation](https://docs.python.org/3/tutorial/classes.html)<br>\n",
    "[Python textbok](https://python-textbok.readthedocs.io/en/1.0/)\n",
    "\n",
    "## Perfect!\n",
    "### Have fun defining your own classes and work with its attributes and methods. Our next topic is class inheritance."
   ]
  }
 ],
 "metadata": {
  "kernelspec": {
   "display_name": "Python 3",
   "language": "python",
   "name": "python3"
  },
  "language_info": {
   "codemirror_mode": {
    "name": "ipython",
    "version": 3
   },
   "file_extension": ".py",
   "mimetype": "text/x-python",
   "name": "python",
   "nbconvert_exporter": "python",
   "pygments_lexer": "ipython3",
   "version": "3.6.5"
  }
 },
 "nbformat": 4,
 "nbformat_minor": 2
}
