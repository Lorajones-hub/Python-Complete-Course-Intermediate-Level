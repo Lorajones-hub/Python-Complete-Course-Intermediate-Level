{
 "cells": [
  {
   "cell_type": "markdown",
   "metadata": {},
   "source": [
    "# Assessment Test - Questions"
   ]
  },
  {
   "cell_type": "markdown",
   "metadata": {},
   "source": [
    "## Question 1: Class Inheritance\n",
    "\n",
    "You have a class **Shape** that has two attributes height and width:"
   ]
  },
  {
   "cell_type": "code",
   "execution_count": 1,
   "metadata": {},
   "outputs": [],
   "source": [
    "class Shape():\n",
    "     \n",
    "    def __init__(self, height, width):\n",
    "        self.height = height\n",
    "        self.width = width          "
   ]
  },
  {
   "cell_type": "markdown",
   "metadata": {},
   "source": [
    "Derive a subclass Box that inherits from class Shape. Box has another attribute called length.\n",
    "\n",
    "Define these methods in the Box class.\n",
    "\n",
    "- \\__init\\__() creates an instance of Box class. How to call \\__init\\__() in the base class Shape?\n",
    " - **Hint**: use super(). \n",
    "- find_volume() calculates the volume of a box.\n",
    "- find_surface_area() calculates the surface area of a box.\n",
    "\n",
    "Part of the class is given below:"
   ]
  },
  {
   "cell_type": "code",
   "execution_count": 4,
   "metadata": {},
   "outputs": [],
   "source": [
    "class Box(Shape):\n",
    "    \n",
    "    def __init__(self, height, width, depth):\n",
    "        super()\n",
    "        pass \n",
    "    \n",
    "    # Box volume is hight*width*depth\n",
    "    def find_volume(self):\n",
    "        return \n",
    "    \n",
    "    # box surface area is 2*(hw+hl+wl)\n",
    "    def find_surface_area(self):\n",
    "        return 2*(...)\n",
    "    \n",
    "# sample object and expected output    "
   ]
  },
  {
   "cell_type": "code",
   "execution_count": 5,
   "metadata": {},
   "outputs": [
    {
     "data": {
      "text/plain": [
       "24"
      ]
     },
     "execution_count": 5,
     "metadata": {},
     "output_type": "execute_result"
    }
   ],
   "source": [
    "box1 = Box(2, 3, 4)\n",
    "box1.find_volume()"
   ]
  },
  {
   "cell_type": "code",
   "execution_count": 6,
   "metadata": {},
   "outputs": [
    {
     "data": {
      "text/plain": [
       "52"
      ]
     },
     "execution_count": 6,
     "metadata": {},
     "output_type": "execute_result"
    }
   ],
   "source": [
    "box1.find_surface_area()"
   ]
  },
  {
   "cell_type": "markdown",
   "metadata": {},
   "source": [
    "## Q2: Multiple Inheritance\n",
    "\n",
    "Derive class **Contact** from the base classes **Person** and **Address** and use their methods to print out the contact information.\n",
    "\n",
    "The two base classes and partial derived class are given for you."
   ]
  },
  {
   "cell_type": "code",
   "execution_count": 9,
   "metadata": {},
   "outputs": [],
   "source": [
    "# first base class\n",
    "class Person:\n",
    "    def __init__(self, name, email):\n",
    "        self.name = str(name)\n",
    "        self.email= str(email)\n",
    "    \n",
    "    def show(self):\n",
    "        print(self.name + '\\n' + self.email)\n",
    "\n",
    "# second base class\n",
    "class Address:\n",
    "    def __init__(self, street, city):\n",
    "        self.street = str(street)\n",
    "        self.city = str(city)\n",
    "    \n",
    "    def show(self):\n",
    "        print(self.street)\n",
    "        print(self.city)\n",
    "        \n",
    "class Contact(,)\n",
    "    def __init__():\n",
    "        pass\n",
    "    \n",
    "    def show(self):\n",
    "        pass"
   ]
  },
  {
   "cell_type": "code",
   "execution_count": 10,
   "metadata": {},
   "outputs": [
    {
     "name": "stdout",
     "output_type": "stream",
     "text": [
      "John Smith\n",
      "john@gmail.com\n",
      "123 sunny Rd.\n",
      "London\n",
      "\n"
     ]
    }
   ],
   "source": [
    "# sample Contact object and expected output\n",
    "        \n",
    "contact = Contact(\"John Smith\", \"john@gmail.com\", \"123 sunny Rd.\", \"London\")\n",
    "contact.show()"
   ]
  },
  {
   "cell_type": "markdown",
   "metadata": {},
   "source": [
    "## Q3: Class Polymorphism\n",
    "\n",
    "Two classes USA and India are given below with their methods. Show class polymorphism by calling the methods capital() and language() in polymorphic way using both:\n",
    "- A for loop. \n",
    "- A function describe(). "
   ]
  },
  {
   "cell_type": "code",
   "execution_count": 7,
   "metadata": {},
   "outputs": [
    {
     "name": "stdout",
     "output_type": "stream",
     "text": [
      "==> Using a loop\n",
      "New Delhi is the capital of India.\n",
      "Hindi the primary language of India.\n",
      "\n",
      "Washington, D.C. is the capital of USA.\n",
      "English is the primary language of USA.\n",
      "\n",
      "==> Using a function\n",
      "New Delhi is the capital of India.\n",
      "Hindi the primary language of India.\n",
      "\n",
      "Washington, D.C. is the capital of USA.\n",
      "English is the primary language of USA.\n",
      "\n"
     ]
    }
   ],
   "source": [
    "class USA(): \n",
    "    def capital(self): \n",
    "        print(\"Washington, D.C. is the capital of USA.\") \n",
    "  \n",
    "    def language(self): \n",
    "        print(\"English is the primary language of USA.\")\n",
    "        \n",
    "class India(): \n",
    "    def capital(self): \n",
    "        print(\"New Delhi is the capital of India.\") \n",
    "  \n",
    "    def language(self): \n",
    "        print(\"Hindi the primary language of India.\") \n",
    "\n",
    " # create 2 objects of India and USA\n",
    "\n",
    "print(\"==> Using a loop\")\n",
    "for country in (ind_obj, usa_obj): \n",
    "    # call methods here\n",
    "    pass\n",
    "    \n",
    "print(\"==> Using a function\")    \n",
    "def describe(country): \n",
    "    # call methods here\n",
    "    pass\n",
    "    \n",
    "# call function describe for different objects\n",
    "\n",
    "# expected output"
   ]
  },
  {
   "cell_type": "markdown",
   "metadata": {},
   "source": [
    "## Good Luck!"
   ]
  }
 ],
 "metadata": {
  "kernelspec": {
   "display_name": "Python 3",
   "language": "python",
   "name": "python3"
  },
  "language_info": {
   "codemirror_mode": {
    "name": "ipython",
    "version": 3
   },
   "file_extension": ".py",
   "mimetype": "text/x-python",
   "name": "python",
   "nbconvert_exporter": "python",
   "pygments_lexer": "ipython3",
   "version": "3.6.5"
  }
 },
 "nbformat": 4,
 "nbformat_minor": 2
}
