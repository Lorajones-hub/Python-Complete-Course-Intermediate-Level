{
 "cells": [
  {
   "cell_type": "markdown",
   "metadata": {},
   "source": [
    "# Errors and Exception Handling\n",
    "\n",
    "In this lecture you will learn all about exception handling in Python. We have already seen that when we have a syntax error, Python gives us an error message to help us fix that error. For example:"
   ]
  },
  {
   "cell_type": "code",
   "execution_count": 4,
   "metadata": {},
   "outputs": [
    {
     "ename": "SyntaxError",
     "evalue": "invalid syntax (<ipython-input-4-f5d9e2af54ba>, line 1)",
     "output_type": "error",
     "traceback": [
      "\u001b[1;36m  File \u001b[1;32m\"<ipython-input-4-f5d9e2af54ba>\"\u001b[1;36m, line \u001b[1;32m1\u001b[0m\n\u001b[1;33m    if a == 5\u001b[0m\n\u001b[1;37m             ^\u001b[0m\n\u001b[1;31mSyntaxError\u001b[0m\u001b[1;31m:\u001b[0m invalid syntax\n"
     ]
    }
   ],
   "source": [
    "if a == 5\n",
    "    print(\"a is equal to 5\")"
   ]
  },
  {
   "cell_type": "markdown",
   "metadata": {},
   "source": [
    "The **SyntaxError** message says that the syntax of the if statement is invalid (incorrect) and by looking at it you will notice that there is a colon **:** missing after the condition x = 1. \n",
    "\n",
    "It is important to understand different types of errors to easily debug and correct your code. "
   ]
  },
  {
   "cell_type": "markdown",
   "metadata": {},
   "source": [
    "## What are exceptions\n",
    "\n",
    "Sometimes, even if we have statements or expressions that are syntactically correct, an error may still occur when trying to execute these statement. **_Errors that occur during statements execution are called exceptions_**. \n",
    "\n",
    "**The syntax Python use to handle exceptions is the _try except_ statements**:\n",
    "\n",
    "                            try:\n",
    "                                try block here\n",
    "\n",
    "                            except exception1 as variable1:\n",
    "                                if exception1 occurred, execute the block here\n",
    "\n",
    "                                ...\n",
    "\n",
    "                            except exceptionN as variableN:\n",
    "                                if exceptionN occurred, execute the block here\n",
    "\n",
    "                            else:\n",
    "                                if no exception occurred, execute else block\n",
    "\n",
    "                            finally:\n",
    "                                this block is always executed at the end\n",
    "\n",
    "## How does it work ?\n",
    "\n",
    "\n",
    "  1) First, the try block (the statements between the try and except keywords) is executed.\n",
    "  \n",
    "  \n",
    "  2) If no exception occurs, the except blocks are skipped and execution of the try statement is finished.\n",
    "  \n",
    "  \n",
    "  3) If an exception occurs during execution of the try block, the rest of the block is skipped. If an exception match is found, that except block is executed. \n",
    "\n",
    "\n",
    "**NOTES**:\n",
    " - There must be at least one **except** statement.\n",
    " - The **else** and **finally** statements are optional.\n",
    " - The **else** block will be executed when the **try** block has finished normally (no exception happened).\n",
    " - The **as variable** part is optional and if used, the variable can be accessed inside that exception block.\n",
    " - If an exception occurred in the **try** block, Python will check the exceptions one by one until the one that matches that exception is found.\n",
    " \n",
    "A complete list of exceptions in Python can be found here <a href=\"https://docs.python.org/2/library/exceptions.html\">Built-in Exceptions</a>.\n",
    "\n",
    "To better understand how to use try except statements, let's have some examples and check the errors . \n",
    "\n",
    "### Example 1:  (try ... except) \n",
    "\n",
    "In this example the function input() is called to allow the user to enter an input. Note that this function has an optional parameter which is the prompt string and it returns a string that contains the user's input.\n"
   ]
  },
  {
   "cell_type": "code",
   "execution_count": 16,
   "metadata": {},
   "outputs": [
    {
     "name": "stdout",
     "output_type": "stream",
     "text": [
      "Please enter an integer number: 44\n"
     ]
    },
    {
     "data": {
      "text/plain": [
       "'44'"
      ]
     },
     "execution_count": 16,
     "metadata": {},
     "output_type": "execute_result"
    }
   ],
   "source": [
    "x = input(\"Please enter an integer number: \")\n",
    "x"
   ]
  },
  {
   "cell_type": "code",
   "execution_count": 14,
   "metadata": {},
   "outputs": [
    {
     "name": "stdout",
     "output_type": "stream",
     "text": [
      "Please enter an integer number: 3\n",
      "Correct!\n"
     ]
    }
   ],
   "source": [
    "x = input(\"Please enter an integer number: \")\n",
    "try:\n",
    "    int(x)  # only strings that contain an integer can be converted by int()\n",
    "    print(\"Correct!\")\n",
    "    \n",
    "except ValueError:\n",
    "    print(\"Invalid integer. Please try again...\")"
   ]
  },
  {
   "cell_type": "markdown",
   "metadata": {},
   "source": [
    "The statement int(input(...)) asks the user to enter an integer. If the user enters an integer, only the **try** block will be executed and no exception will be raised, as we see above. If a value that is not an integer is entered, the program will skip the print statement in the **try** block and execute the **except** block and print the error message below.  "
   ]
  },
  {
   "cell_type": "code",
   "execution_count": 79,
   "metadata": {},
   "outputs": [
    {
     "name": "stdout",
     "output_type": "stream",
     "text": [
      "Please enter an integer: h\n",
      "That was invalid integer.  Please try again...\n"
     ]
    }
   ],
   "source": [
    "x = input(\"Please enter an integer number: \")\n",
    "try:\n",
    "    int(x)  # only strings that contain an integer can be converted by int()\n",
    "    print(\"Correct!\")\n",
    "    \n",
    "except ValueError:\n",
    "    print(\"Invalid integer.  Please try again...\")"
   ]
  },
  {
   "cell_type": "markdown",
   "metadata": {},
   "source": [
    "### Example 2: (try ... except ... else)\n",
    "\n",
    "The **else** statement will only execute if the **try** block has completed its work normally. If an exception happened, the **else** statement will be skipped and only the **except** block is executed. "
   ]
  },
  {
   "cell_type": "code",
   "execution_count": 26,
   "metadata": {},
   "outputs": [
    {
     "name": "stdout",
     "output_type": "stream",
     "text": [
      "Enter a key to access a dictionary: a\n",
      "Item found!\n",
      "The value is [2, 4, 6]\n"
     ]
    }
   ],
   "source": [
    "try:\n",
    "    d = {0: 'name', 1: 'address', 'a': [2, 4, 6]}\n",
    "    key = input(\"Enter a key to access a dictionary: \")\n",
    "    value = d[key]\n",
    "    print(\"Item found!\")\n",
    "    \n",
    "except KeyError:\n",
    "    print(\"Invalid key used\")\n",
    "\n",
    "else:\n",
    "    print(\"The value is\", value)"
   ]
  },
  {
   "cell_type": "code",
   "execution_count": 27,
   "metadata": {},
   "outputs": [
    {
     "name": "stdout",
     "output_type": "stream",
     "text": [
      "Enter a key to access a dictionary: -1\n",
      "Invalid key used\n"
     ]
    }
   ],
   "source": [
    "try:\n",
    "    d = {0: 'name', 1: 'address', 'a': [2, 4, 6]}\n",
    "    key = input(\"Enter a key to access a dictionary: \")\n",
    "    value = d[key]\n",
    "    print(\"Item found!\")\n",
    "    \n",
    "except KeyError:\n",
    "    print(\"Invalid key used\")\n",
    "\n",
    "else:\n",
    "    print(\"The value is\", value)"
   ]
  },
  {
   "cell_type": "markdown",
   "metadata": {},
   "source": [
    "### Example 3:  (try ... except ... as variable)\n",
    "\n",
    "In this example, we use the function open() to open a file myfile.txt for writing. Don't worry if this file doesnt exist in your computer or the current directory because Python will create it for you. The parameters of open() are:\n",
    "\n",
    "1. The **file name** to be opened.\n",
    "\n",
    "2. The **mode** which means how to open that file; for reading ('r'), for writing ('w'), for both reading/writing ('r+), ... etc."
   ]
  },
  {
   "cell_type": "code",
   "execution_count": 29,
   "metadata": {},
   "outputs": [
    {
     "name": "stdout",
     "output_type": "stream",
     "text": [
      "One line written!\n",
      "Writing to file is successful!\n"
     ]
    }
   ],
   "source": [
    "try:\n",
    "    f = open('myfile.txt', 'w')   # open a text file for writing\n",
    "    f.write(\"This is a line of text in myfile.txt\")\n",
    "    print(\"One line written!\")\n",
    "    \n",
    "except OSError as err:\n",
    "    print(\"OS error: {0}\".format(err))\n",
    "    \n",
    "else:\n",
    "    print(\"Writing to file is successful!\")"
   ]
  },
  {
   "cell_type": "markdown",
   "metadata": {},
   "source": [
    "In the example below, we opened the file myfile.txt for reading using the mode 'r'.Because writing on that file will not be allowed, Python will raise the OSError exception."
   ]
  },
  {
   "cell_type": "code",
   "execution_count": 30,
   "metadata": {},
   "outputs": [
    {
     "name": "stdout",
     "output_type": "stream",
     "text": [
      "OS error: not writable\n"
     ]
    }
   ],
   "source": [
    "try:\n",
    "    f = open('myfile.txt', 'r')  # open a text file for reading\n",
    "    f.write(\"This is a line of text in myfile.txt\")\n",
    "    print(\"One line written!\")\n",
    "    \n",
    "except OSError as err:\n",
    "    print(\"OS error: {0}\".format(err))\n",
    "    \n",
    "else:\n",
    "    print(\"Writing to file was successful!\")"
   ]
  },
  {
   "cell_type": "markdown",
   "metadata": {},
   "source": [
    "### Example 4: (try ... except ... else ... finally)\n",
    "\n",
    "The **finally** statement will _**always**_ be executed, regardless if an exception has occurred or not."
   ]
  },
  {
   "cell_type": "code",
   "execution_count": 35,
   "metadata": {},
   "outputs": [
    {
     "name": "stdout",
     "output_type": "stream",
     "text": [
      "OS error: not writable\n",
      "Finally block always run!\n"
     ]
    }
   ],
   "source": [
    "try:\n",
    "    f = open('myfile.txt', 'r')\n",
    "    f.write(\"This is a line of text in myfile.txt\")\n",
    "    \n",
    "except OSError as err:\n",
    "    print(\"OS error: {0}\".format(err))\n",
    "    \n",
    "else:\n",
    "    print(\"Writing to file was successful!\")\n",
    "    \n",
    "finally:\n",
    "    print(\"Finally block always run!\")"
   ]
  },
  {
   "cell_type": "markdown",
   "metadata": {},
   "source": [
    "### Example of multiple exceptions: \n",
    "\n",
    "In the example below, we used the **factorial()** function from the math module. The factorial function accepts only positive integer numbers and the factorial of a number n is calculated as follows:\n",
    "\n",
    "                          factorial(n) = n * (n-1) * (n-2) * ... * 1\n",
    "                          factorial(5) = 5 * 4 * 3 * 2 * 1 = 120\n",
    "      \n",
    "In this example, we have a for loop that iterate over a list of items and calculate the factorial of each item. If the item is not a positive integer, an exception will be raised."
   ]
  },
  {
   "cell_type": "code",
   "execution_count": 35,
   "metadata": {},
   "outputs": [
    {
     "name": "stdout",
     "output_type": "stream",
     "text": [
      "The factorial of 5 is 120\n",
      "End of factorial\n",
      "Error:  factorial() not defined for negative values\n",
      "End of factorial\n",
      "Error:  factorial() only accepts integral values\n",
      "End of factorial\n",
      "Error:  an integer is required (got type str)\n",
      "End of factorial\n"
     ]
    }
   ],
   "source": [
    "import math\n",
    " \n",
    "my_list = [5, -2, 1.5, 'name']\n",
    " \n",
    "for num in my_list:\n",
    "    try:\n",
    "        factorial = math.factorial(num)\n",
    "        \n",
    "    except (TypeError, ValueError) as err:\n",
    "        print(\"Error: \", err)\n",
    "        \n",
    "#     except ValueError as err:\n",
    "#         print(\"ValueError: \", err)\n",
    "        \n",
    "    else:\n",
    "        print(\"The factorial of\", num,\"is\", factorial)\n",
    "        \n",
    "    finally:\n",
    "        print(\"End of factorial\")"
   ]
  },
  {
   "cell_type": "markdown",
   "metadata": {},
   "source": [
    "## Catch multiple exceptions in one line\n",
    "\n",
    "Python allows using multiple exceptions in one except statement, these exceptions have to be written as a tuple. \n",
    "\n",
    "### Example:"
   ]
  },
  {
   "cell_type": "code",
   "execution_count": null,
   "metadata": {},
   "outputs": [],
   "source": [
    "try:\n",
    "    # try block\n",
    "except (RuntimeError, TypeError, NameError):\n",
    "    pass"
   ]
  },
  {
   "cell_type": "markdown",
   "metadata": {},
   "source": [
    "## Raising exceptions - _raise_ statement\n",
    "\n",
    "To force an exception to occur, you can use the statement **raise**."
   ]
  },
  {
   "cell_type": "code",
   "execution_count": 5,
   "metadata": {},
   "outputs": [
    {
     "ename": "NameError",
     "evalue": "Hello There!",
     "output_type": "error",
     "traceback": [
      "\u001b[1;31m---------------------------------------------------------------------------\u001b[0m",
      "\u001b[1;31mNameError\u001b[0m                                 Traceback (most recent call last)",
      "\u001b[1;32m<ipython-input-5-803322e099a1>\u001b[0m in \u001b[0;36m<module>\u001b[1;34m()\u001b[0m\n\u001b[1;32m----> 1\u001b[1;33m \u001b[1;32mraise\u001b[0m \u001b[0mNameError\u001b[0m\u001b[1;33m(\u001b[0m\u001b[1;34m'Hello There!'\u001b[0m\u001b[1;33m)\u001b[0m\u001b[1;33m\u001b[0m\u001b[0m\n\u001b[0m",
      "\u001b[1;31mNameError\u001b[0m: Hello There!"
     ]
    }
   ],
   "source": [
    "raise NameError('Hello There!')"
   ]
  },
  {
   "cell_type": "markdown",
   "metadata": {},
   "source": [
    "## User-defined exceptions\n",
    "\n",
    "Python also allows you to create your own exceptions by deriving classes from the standard built-in Exception class.\n",
    "\n",
    "In this example, a class called NegativeNumException is derived from the standard Exception class. We have a function fun1() that accepts only positive numbers, if a negative number passed to fun1(), the NegativeNumException will be raised by **raise** statement.\n"
   ]
  },
  {
   "cell_type": "code",
   "execution_count": 37,
   "metadata": {},
   "outputs": [],
   "source": [
    "class NegativeNumException(Exception): \n",
    "    pass\n",
    "\n",
    "# this function will raise exception if num is negative\n",
    "def fun1(num):\n",
    "    try:   \n",
    "        if num < 0:\n",
    "            raise NegativeNumException()\n",
    "            \n",
    "        return num + 10\n",
    "        \n",
    "    except NegativeNumException:\n",
    "        print(\"fun1() accepts only positive numbers, a negative number given\")"
   ]
  },
  {
   "cell_type": "code",
   "execution_count": 38,
   "metadata": {},
   "outputs": [
    {
     "name": "stdout",
     "output_type": "stream",
     "text": [
      "fun1() accepts only positive numbers, a negative number given\n"
     ]
    }
   ],
   "source": [
    "fun1(-1)"
   ]
  },
  {
   "cell_type": "code",
   "execution_count": 39,
   "metadata": {},
   "outputs": [
    {
     "data": {
      "text/plain": [
       "11"
      ]
     },
     "execution_count": 39,
     "metadata": {},
     "output_type": "execute_result"
    }
   ],
   "source": [
    "fun1(1)"
   ]
  },
  {
   "cell_type": "code",
   "execution_count": null,
   "metadata": {},
   "outputs": [],
   "source": []
  }
 ],
 "metadata": {
  "kernelspec": {
   "display_name": "Python 3",
   "language": "python",
   "name": "python3"
  },
  "language_info": {
   "codemirror_mode": {
    "name": "ipython",
    "version": 3
   },
   "file_extension": ".py",
   "mimetype": "text/x-python",
   "name": "python",
   "nbconvert_exporter": "python",
   "pygments_lexer": "ipython3",
   "version": "3.6.5"
  }
 },
 "nbformat": 4,
 "nbformat_minor": 2
}
