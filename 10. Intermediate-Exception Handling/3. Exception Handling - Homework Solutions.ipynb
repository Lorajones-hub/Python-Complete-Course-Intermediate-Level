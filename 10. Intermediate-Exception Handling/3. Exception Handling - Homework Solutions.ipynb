{
 "cells": [
  {
   "cell_type": "markdown",
   "metadata": {},
   "source": [
    "# Exception Handling $-$ Homework Solutions\n",
    "\n",
    "## Question 1:\n",
    "\n",
    "### The code below is to divide two numbers. Write a try ... except statements to handle the exception (ZeroDivisionError)."
   ]
  },
  {
   "cell_type": "code",
   "execution_count": 3,
   "metadata": {
    "scrolled": true
   },
   "outputs": [
    {
     "ename": "ZeroDivisionError",
     "evalue": "division by zero",
     "output_type": "error",
     "traceback": [
      "\u001b[1;31m---------------------------------------------------------------------------\u001b[0m",
      "\u001b[1;31mZeroDivisionError\u001b[0m                         Traceback (most recent call last)",
      "\u001b[1;32m<ipython-input-3-f22790a42317>\u001b[0m in \u001b[0;36m<module>\u001b[1;34m()\u001b[0m\n\u001b[0;32m      2\u001b[0m \u001b[0mdenominator\u001b[0m \u001b[1;33m=\u001b[0m \u001b[1;36m0\u001b[0m\u001b[1;33m\u001b[0m\u001b[0m\n\u001b[0;32m      3\u001b[0m \u001b[1;33m\u001b[0m\u001b[0m\n\u001b[1;32m----> 4\u001b[1;33m \u001b[0mresult\u001b[0m \u001b[1;33m=\u001b[0m \u001b[0mnumerator\u001b[0m \u001b[1;33m/\u001b[0m \u001b[0mdenominator\u001b[0m\u001b[1;33m\u001b[0m\u001b[0m\n\u001b[0m",
      "\u001b[1;31mZeroDivisionError\u001b[0m: division by zero"
     ]
    }
   ],
   "source": [
    "numerator = 15\n",
    "denominator = 0\n",
    "\n",
    "result = numerator / denominator"
   ]
  },
  {
   "cell_type": "code",
   "execution_count": 9,
   "metadata": {},
   "outputs": [
    {
     "name": "stdout",
     "output_type": "stream",
     "text": [
      "Please enter the numerator: 5\n",
      "Please enter the denominator: 0\n",
      "Error: division by zero\n"
     ]
    }
   ],
   "source": [
    "# Question 1 solution\n",
    "numerator = int(input(\"Please enter the numerator: \"))\n",
    "denominator = int(input(\"Please enter the denominator: \"))\n",
    "\n",
    "try:\n",
    "    result = numerator / denominator\n",
    "    \n",
    "except ZeroDivisionError as err:\n",
    "    print(\"Error:\", err)"
   ]
  },
  {
   "cell_type": "markdown",
   "metadata": {},
   "source": [
    "## Question 2:\n",
    "\n",
    "### Write a try ... except ... else statements to handle the exception () raised by this code. The else part prints \"Addition is successful!\"."
   ]
  },
  {
   "cell_type": "code",
   "execution_count": 3,
   "metadata": {},
   "outputs": [
    {
     "name": "stdout",
     "output_type": "stream",
     "text": [
      "Please enter a integer a\n",
      "Error: invalid literal for int() with base 10: 'a'\n"
     ]
    }
   ],
   "source": [
    "# Question 2 solution\n",
    "\n",
    "try:\n",
    "    num = input(\"Please enter a integer \")\n",
    "    print(int(num) + 3)\n",
    "    \n",
    "except ValueError as err:\n",
    "    print(\"Error:\", err)\n",
    "    \n",
    "else:\n",
    "    print(\"Addition is successful!\")"
   ]
  },
  {
   "cell_type": "markdown",
   "metadata": {},
   "source": [
    "## Question 3: \n",
    "\n",
    "### Write a def function that accepts a list and converts each item to uppercase letter. Handle the exception when the item is not a lowercase letter. Use try .. except ... finally. The finally statement prints \"Work complete!\". Start with the template function below.\n",
    "\n",
    "**NOTE**: use the exception class AttributeError in the except stateemnt."
   ]
  },
  {
   "cell_type": "code",
   "execution_count": 14,
   "metadata": {},
   "outputs": [
    {
     "name": "stdout",
     "output_type": "stream",
     "text": [
      "Work complete!\n"
     ]
    },
    {
     "data": {
      "text/plain": [
       "['A', 'B', 'C']"
      ]
     },
     "execution_count": 14,
     "metadata": {},
     "output_type": "execute_result"
    }
   ],
   "source": [
    "def to_upper(my_list):\n",
    "    try: \n",
    "        for i in range(len(my_list)):\n",
    "            my_list[i] = my_list[i].upper()      \n",
    "            \n",
    "    except AttributeError as err:\n",
    "        print(\"Error:\", err)\n",
    "        \n",
    "    finally:\n",
    "        print(\"Work complete!\")\n",
    "        return my_list\n",
    "        \n",
    "my_list = ['a', 'b', 'c']\n",
    "to_upper(my_list)"
   ]
  },
  {
   "cell_type": "code",
   "execution_count": 15,
   "metadata": {},
   "outputs": [
    {
     "name": "stdout",
     "output_type": "stream",
     "text": [
      "Error: 'int' object has no attribute 'upper'\n",
      "Work complete!\n"
     ]
    },
    {
     "data": {
      "text/plain": [
       "['A', 5, 'c']"
      ]
     },
     "execution_count": 15,
     "metadata": {},
     "output_type": "execute_result"
    }
   ],
   "source": [
    "my_list = ['a', 5, 'c']\n",
    "to_upper(my_list)"
   ]
  },
  {
   "cell_type": "markdown",
   "metadata": {},
   "source": [
    "## Well Done!"
   ]
  }
 ],
 "metadata": {
  "kernelspec": {
   "display_name": "Python 3",
   "language": "python",
   "name": "python3"
  },
  "language_info": {
   "codemirror_mode": {
    "name": "ipython",
    "version": 3
   },
   "file_extension": ".py",
   "mimetype": "text/x-python",
   "name": "python",
   "nbconvert_exporter": "python",
   "pygments_lexer": "ipython3",
   "version": "3.6.5"
  }
 },
 "nbformat": 4,
 "nbformat_minor": 2
}
