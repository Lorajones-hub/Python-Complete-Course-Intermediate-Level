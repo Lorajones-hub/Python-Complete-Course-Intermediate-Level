{
 "cells": [
  {
   "cell_type": "markdown",
   "metadata": {},
   "source": [
    "# Project 2 - ClockCalendar (Class, Multiple Inheritance, and Exceptions)\n",
    "\n",
    "### I am so proud of you for your progress this far in the course.\n",
    "\n",
    "In this project, you will deploy the programming skills that you have learned in the OOP and Exception Handling Sections of the course to implement a **CalendarClock** class that inherits attributes and methods from other classes and raise some exceptions when an error occurs.\n",
    "\n",
    "\n",
    "### Problem 1: Create a class **Clock** with the following methods. The class Clock simulates a regular tick-tack clock.  An instance of this class should contain the time stored in three attributes hour, minute, and second."
   ]
  },
  {
   "cell_type": "code",
   "execution_count": 11,
   "metadata": {},
   "outputs": [],
   "source": [
    "class Clock():\n",
    "    pass"
   ]
  },
  {
   "cell_type": "markdown",
   "metadata": {},
   "source": [
    "#### Q1: Define an \\_\\_init\\_\\_() method to initialize a Clock object. This method should call another method set_clock(self, hour, minute, second) that will set the clock time. The parameters hour, minute and second have to be integers and must satisfy the following ranges:\n",
    "       \n",
    "            0 <= hour   < 24\n",
    "            0 <= minute < 60\n",
    "            0 <= second < 60\n",
    "            \n",
    "- If the values given to hour, minute, and second not within the specified range, raise a **TypeError** exception with a suitable message. \n",
    "\n",
    "Here is a sample exception:"
   ]
  },
  {
   "cell_type": "code",
   "execution_count": null,
   "metadata": {},
   "outputs": [],
   "source": [
    "def __init__(...):  # pass the time parameters\n",
    "    \n",
    "    # call set_clock\n",
    "    set_clock(...)\n",
    "    \n",
    "    \n",
    "def set_clock(.., hour, ...):\n",
    "    \n",
    "    if type(hour) == int and 0 <= hour and hour < 24:\n",
    "        self.hour = hour\n",
    "    else:\n",
    "        raise TypeError(\"Hour must be an integer between 0 and 23!\")\n",
    "        \n",
    "    # continue here"
   ]
  },
  {
   "cell_type": "markdown",
   "metadata": {},
   "source": [
    "#### Q2: Define \\_\\_str\\_\\_() method that returns the string representation of a Clock object.\n",
    "\n",
    "**HINT**: use the str.format() function to format the time (hour, minute, second) so that each parameter is printed as two digits."
   ]
  },
  {
   "cell_type": "code",
   "execution_count": 3,
   "metadata": {},
   "outputs": [],
   "source": [
    "def __str__(self):\n",
    "    pass"
   ]
  },
  {
   "cell_type": "markdown",
   "metadata": {},
   "source": [
    "#### Q3: Define a method tick() that will advance the time by one second."
   ]
  },
  {
   "cell_type": "code",
   "execution_count": 4,
   "metadata": {},
   "outputs": [],
   "source": [
    "def tick(self):\n",
    "    \"\"\"\n",
    "        This method advances the time by one second.\n",
    "    \"\"\"\n",
    "    pass\n",
    "    "
   ]
  },
  {
   "cell_type": "markdown",
   "metadata": {},
   "source": [
    "- **Special case**: When second reaches 59 and minute reaches 59 and hour reaches 23, that is the time 23:59:59, if we want to add 1 second the new time should be 00:00:00 which represents a new day. Otherwise, just add 1 second to the current time.                "
   ]
  },
  {
   "cell_type": "markdown",
   "metadata": {},
   "source": [
    "- Test your class by creating some objects and see if the methods return the correct output."
   ]
  },
  {
   "cell_type": "code",
   "execution_count": null,
   "metadata": {},
   "outputs": [],
   "source": [
    "# SAMPLE OUTPUT\n",
    "\n",
    "c = Clock(12,59,59)\n",
    "print(\"The current time is:\", c)\n",
    "c.tick()\n",
    "print(\"Time after one tick is:\", c)\n",
    "c.tick()\n",
    "print(\"Time after one tick is:\", c)"
   ]
  },
  {
   "cell_type": "markdown",
   "metadata": {},
   "source": [
    "The current time is: 23:59:59 <br>\n",
    "Time after one tick is: 00:00:00 <br>\n",
    "Time after one tick is: 00:00:01"
   ]
  },
  {
   "cell_type": "markdown",
   "metadata": {},
   "source": [
    "### Problem 2: Create a class Calendar with the following methods."
   ]
  },
  {
   "cell_type": "code",
   "execution_count": 7,
   "metadata": {},
   "outputs": [],
   "source": [
    "class Calendar():\n",
    "    pass"
   ]
  },
  {
   "cell_type": "markdown",
   "metadata": {},
   "source": [
    "#### Q1: Define an \\_\\_init\\_\\_() method to initialize a Calendar object. This method should call another method set_date(self, day, month, year) that will set the date. The values of day, month, and year must be integers; if not raise a TypeError exception."
   ]
  },
  {
   "cell_type": "code",
   "execution_count": null,
   "metadata": {},
   "outputs": [],
   "source": [
    "def __init__(...):\n",
    "    \n",
    "    # call set_date\n",
    "    set_date(...)"
   ]
  },
  {
   "cell_type": "markdown",
   "metadata": {},
   "source": [
    "#### Q2: Define \\_\\_str\\_\\_() method that returns the string representation of a Calendar object. Use the str.format() function to format the date."
   ]
  },
  {
   "cell_type": "code",
   "execution_count": null,
   "metadata": {},
   "outputs": [],
   "source": [
    "def __str__(self):\n",
    "    pass"
   ]
  },
  {
   "cell_type": "markdown",
   "metadata": {},
   "source": [
    "#### Q3: Define  a method advance() that will advance the date by one day when it is called.\n",
    "\n",
    "- Here we have these mini challenges when adding a day to a Calendar object (date):\n",
    "   - If the day of the Calendar object is the last day in a month, advance the day to be day 1 of the next month.\n",
    "   - If the day is the last day of the last month, then advance the date to day 1 of month 1 (January) of the next year.\n",
    "   - If the month is February and the year is a **leap year**, make the day 29 instead of 28.\n",
    "     - The rules for calculating a leap year are simple:\n",
    "            - If a year is divisible by 400, it is a leap year.\n",
    "            - If a year is not divisible by 400 but by 100, it is not a leap year.\n",
    "            - If a year is divisible by 4 but not by 100, it is a leap year.\n",
    "            - All other year numbers are not leap years."
   ]
  },
  {
   "cell_type": "code",
   "execution_count": null,
   "metadata": {},
   "outputs": [],
   "source": [
    "def advance(self):\n",
    "    \n",
    "    \"\"\"\n",
    "        This method advances to the next date.\n",
    "    \"\"\"\n",
    "    pass"
   ]
  },
  {
   "cell_type": "markdown",
   "metadata": {},
   "source": [
    "## Now it's time to practice multiple inheritance.\n",
    "\n",
    "### Problem 3: Create a subclass ClockCalendar() that inherits from both Clock and Calendar base classes."
   ]
  },
  {
   "cell_type": "code",
   "execution_count": null,
   "metadata": {},
   "outputs": [],
   "source": [
    "class ClockCalendar(...):\n",
    "    pass"
   ]
  },
  {
   "cell_type": "markdown",
   "metadata": {},
   "source": [
    "#### Q1: Define \\_\\_init\\_\\_() method to initialize a ClockCalendar object. This method calls the  \\_\\_init\\_\\_() methods of the two base classes (Clock and Calendar)."
   ]
  },
  {
   "cell_type": "code",
   "execution_count": null,
   "metadata": {},
   "outputs": [],
   "source": [
    "def __init__(self, ...):\n",
    "    pass"
   ]
  },
  {
   "cell_type": "markdown",
   "metadata": {},
   "source": [
    "#### Q2: Define a method tick() that will override tick() in the base class Clock. When implementing this method, take into account these cases:\n",
    "\n",
    " - One tick from  31/12/2013, 23:59:59 gives  01/01/2014, 00:00:00\n",
    " - One tick from  28/02/1900, 23:59:59 gives  01/03/1900, 00:00:00 (1900 not a leap year)\n",
    " - One tick from  28/02/2000, 23:59:59 gives  29/02/2000, 00:00:00 (2000 a leap year)\n",
    " - One tick from  07/22/2014, 10:55:40 gives  07/22/2014, 10:55:41\n"
   ]
  },
  {
   "cell_type": "code",
   "execution_count": null,
   "metadata": {},
   "outputs": [],
   "source": [
    "def tick(self):\n",
    "    \"\"\"\n",
    "        this method advances the clock by one second\n",
    "    \"\"\"\n",
    "    pass"
   ]
  },
  {
   "cell_type": "markdown",
   "metadata": {},
   "source": [
    "#### Q3: Define \\_\\_str\\_\\_() method that returns the string representation of ClockCalendar object. This method should call \\_\\_str\\_\\_() of the two base classes to construct the final string."
   ]
  },
  {
   "cell_type": "code",
   "execution_count": 10,
   "metadata": {},
   "outputs": [],
   "source": [
    "def __str__(self):\n",
    "    pass"
   ]
  },
  {
   "cell_type": "markdown",
   "metadata": {},
   "source": [
    "### Good Luck Everyone and HAVE FUN!"
   ]
  },
  {
   "cell_type": "code",
   "execution_count": null,
   "metadata": {},
   "outputs": [],
   "source": []
  }
 ],
 "metadata": {
  "kernelspec": {
   "display_name": "Python 3",
   "language": "python",
   "name": "python3"
  },
  "language_info": {
   "codemirror_mode": {
    "name": "ipython",
    "version": 3
   },
   "file_extension": ".py",
   "mimetype": "text/x-python",
   "name": "python",
   "nbconvert_exporter": "python",
   "pygments_lexer": "ipython3",
   "version": "3.6.5"
  }
 },
 "nbformat": 4,
 "nbformat_minor": 2
}
