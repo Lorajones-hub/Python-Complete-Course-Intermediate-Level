{
 "cells": [
  {
   "cell_type": "markdown",
   "metadata": {},
   "source": [
    "# Reading from Keyboard - Printing to screen\n",
    "\n",
    "Sometimes you want to write programs that ask for data to be entered by the user from the keyboard, this called **input**. You may also need to print the data entered on the screen, this is called **output**.\n",
    "\n",
    "In this lesson, you will learn:\n",
    "\n",
    "- **How to use the input() function for input**. \n",
    "\n",
    "\n",
    "- **How to use the print() function for output**.\n",
    "\n",
    "Let's get started."
   ]
  },
  {
   "cell_type": "markdown",
   "metadata": {},
   "source": [
    "## Reading input from the keyboard\n",
    "\n",
    "The main function used for reading one line form the standard input, **which is the keyboard**, is input() function.\n",
    "\n",
    "### input() function\n",
    "\n",
    "The syntax is:\n",
    "                   \n",
    "                                     input([prompt])\n",
    "\n",
    "The prompt part is OPTIONAL, it is used to display a suitable message for the user to enter a valid data.\n",
    "\n",
    "The input() function assumes that the input is a valid Python expression and returns that data as a string.\n",
    "\n",
    "**Example**:"
   ]
  },
  {
   "cell_type": "code",
   "execution_count": 1,
   "metadata": {},
   "outputs": [
    {
     "name": "stdout",
     "output_type": "stream",
     "text": [
      "Enter a string: I love Python\n"
     ]
    }
   ],
   "source": [
    "str = input(\"Enter a string: \")"
   ]
  },
  {
   "cell_type": "code",
   "execution_count": 2,
   "metadata": {},
   "outputs": [
    {
     "data": {
      "text/plain": [
       "'I love Python'"
      ]
     },
     "execution_count": 2,
     "metadata": {},
     "output_type": "execute_result"
    }
   ],
   "source": [
    "str"
   ]
  },
  {
   "cell_type": "markdown",
   "metadata": {},
   "source": [
    "The input() function prompts the user to enter a string and waits for him/her to enter somthing. The input (data) entered by the user will be saved in the variable str.\n",
    "\n",
    "**NOTE**: input() doesn't care what type of input is supplied to input(). In the above example, even if we enter an integer or any other expression, the function input() still save it in str as a string. It doesn't necessary have to be a string.\n",
    "\n",
    "**Remember that input() returns a string**."
   ]
  },
  {
   "cell_type": "code",
   "execution_count": 1,
   "metadata": {},
   "outputs": [
    {
     "name": "stdout",
     "output_type": "stream",
     "text": [
      "Enter a string: 3\n",
      "You have entered: 3\n"
     ]
    }
   ],
   "source": [
    "str = input(\"Enter a string: \")\n",
    "print(\"You have entered:\", str)"
   ]
  },
  {
   "cell_type": "code",
   "execution_count": 1,
   "metadata": {},
   "outputs": [
    {
     "name": "stdout",
     "output_type": "stream",
     "text": [
      "Enter a string: x**2\n",
      "You have entered: x**2\n"
     ]
    }
   ],
   "source": [
    "str = input(\"Enter a string: \")\n",
    "print(\"You have entered:\", str)"
   ]
  },
  {
   "cell_type": "markdown",
   "metadata": {},
   "source": [
    "## Printing on the screen\n",
    "\n",
    "### print() function\n",
    "\n",
    "The syntax is:\n",
    "                                          \n",
    "                                          print([expression,])\n",
    "                                            \n",
    "\n",
    "So far we have worked a lot with the print() function. Using print() is the simplest way to print data to the standard output, **which is the screen**.\n",
    "\n",
    "print() takes zero or more expressions separated by comma (,), evaluates and converts these expressions passed into strings, then displays the final results to the screen.\n",
    "\n",
    "**Examples**:"
   ]
  },
  {
   "cell_type": "code",
   "execution_count": 2,
   "metadata": {},
   "outputs": [
    {
     "name": "stdout",
     "output_type": "stream",
     "text": [
      "\n"
     ]
    }
   ],
   "source": [
    "print()  # prints a new empty line"
   ]
  },
  {
   "cell_type": "code",
   "execution_count": 21,
   "metadata": {},
   "outputs": [
    {
     "name": "stdout",
     "output_type": "stream",
     "text": [
      "Python is a powerful language!\n"
     ]
    }
   ],
   "source": [
    "print(\"Python is a powerful language!\")"
   ]
  },
  {
   "cell_type": "code",
   "execution_count": 22,
   "metadata": {},
   "outputs": [
    {
     "name": "stdout",
     "output_type": "stream",
     "text": [
      "10\n",
      "Here is the value of a: 10\n"
     ]
    }
   ],
   "source": [
    "a = input()\n",
    "print(\"Here is the value of a:\", a)"
   ]
  },
  {
   "cell_type": "markdown",
   "metadata": {},
   "source": [
    "**NOTE**: If an expression is passed to print() function, print() will evaluate the expression and display the result."
   ]
  },
  {
   "cell_type": "code",
   "execution_count": 1,
   "metadata": {},
   "outputs": [
    {
     "name": "stdout",
     "output_type": "stream",
     "text": [
      "1\n"
     ]
    }
   ],
   "source": [
    "x = 5\n",
    "print(x % 2)"
   ]
  },
  {
   "cell_type": "markdown",
   "metadata": {},
   "source": [
    "Finally, we can use print() to format our produced output the way we like.\n",
    "\n",
    "Take a look at this fancy way to print squares and cubes of numbers from 1 to 10 using print()."
   ]
  },
  {
   "cell_type": "code",
   "execution_count": 8,
   "metadata": {},
   "outputs": [
    {
     "name": "stdout",
     "output_type": "stream",
     "text": [
      "Num Square Cube\n",
      " 1   1    1\n",
      " 2   4    8\n",
      " 3   9   27\n",
      " 4  16   64\n",
      " 5  25  125\n",
      " 6  36  216\n",
      " 7  49  343\n",
      " 8  64  512\n",
      " 9  81  729\n",
      "10 100 1000\n"
     ]
    }
   ],
   "source": [
    "print(\"Num Square Cube\")\n",
    "for x in range(1, 11):\n",
    "    print('{0:2d} {1:3d} {2:4d}'.format(x, x*x, x*x*x))"
   ]
  },
  {
   "cell_type": "markdown",
   "metadata": {},
   "source": [
    "## Wonderful!\n",
    "\n",
    "### Now you know how to use input() for reading and print() for printing."
   ]
  }
 ],
 "metadata": {
  "kernelspec": {
   "display_name": "Python 3",
   "language": "python",
   "name": "python3"
  },
  "language_info": {
   "codemirror_mode": {
    "name": "ipython",
    "version": 3
   },
   "file_extension": ".py",
   "mimetype": "text/x-python",
   "name": "python",
   "nbconvert_exporter": "python",
   "pygments_lexer": "ipython3",
   "version": "3.6.5"
  }
 },
 "nbformat": 4,
 "nbformat_minor": 2
}
