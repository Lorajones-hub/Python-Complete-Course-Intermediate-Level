{
 "cells": [
  {
   "cell_type": "markdown",
   "metadata": {},
   "source": [
    "## Question 1:\n",
    "\n",
    "Create a text file named q1.txt with this content:\n",
    "\n",
    "Hello! this is a file<br>\n",
    "First sentence in file<br>\n",
    "Second sentence in file\n",
    "\n",
    "Complete the following function read_file() to read the entire content of text file q1.txt. \n",
    "\n",
    "**Hints**:\n",
    "\n",
    "1. Pass the filename to the function.\n",
    "2. Within the function, open the file for reading, do you need to specify the mode?\n",
    "3. Call the read() method to read file contents.\n",
    "4. To check if your solution is correct, put the call of read() inside print()."
   ]
  },
  {
   "cell_type": "code",
   "execution_count": 6,
   "metadata": {},
   "outputs": [],
   "source": [
    "def read_file(filename):\n",
    "    pass"
   ]
  },
  {
   "cell_type": "markdown",
   "metadata": {},
   "source": [
    "## Q2: Writing a list of items to a file. \n",
    "\n",
    "Implement a Python script to write all the items of a list to a file using **with** statement.\n",
    "\n",
    "Example list of colors: color = ['Red', 'Green', 'White', 'Black', 'Pink', 'Yellow'] \n",
    "\n",
    "**Hints**:\n",
    "\n",
    "1. Use the keyword with to open the file for writing.\n",
    "2. Inside with, loop over the list to get a color.\n",
    "3. Inside the loop, use write() method to write the color.\n",
    "4. After with block, open the file for reading. \n",
    "5. Use the read() method to check the file content."
   ]
  },
  {
   "cell_type": "code",
   "execution_count": null,
   "metadata": {},
   "outputs": [],
   "source": [
    "color = ['Red', 'Green', 'White', 'Black', 'Pink', 'Yellow'] \n",
    "\n",
    "with open(...) as f:\n",
    "        pass\n",
    "    "
   ]
  },
  {
   "cell_type": "markdown",
   "metadata": {},
   "source": [
    "### Great Job!"
   ]
  }
 ],
 "metadata": {
  "kernelspec": {
   "display_name": "Python 3",
   "language": "python",
   "name": "python3"
  },
  "language_info": {
   "codemirror_mode": {
    "name": "ipython",
    "version": 3
   },
   "file_extension": ".py",
   "mimetype": "text/x-python",
   "name": "python",
   "nbconvert_exporter": "python",
   "pygments_lexer": "ipython3",
   "version": "3.6.5"
  }
 },
 "nbformat": 4,
 "nbformat_minor": 2
}
