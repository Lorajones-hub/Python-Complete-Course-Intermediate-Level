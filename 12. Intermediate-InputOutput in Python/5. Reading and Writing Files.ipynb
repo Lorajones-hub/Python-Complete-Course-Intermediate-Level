{
 "cells": [
  {
   "cell_type": "markdown",
   "metadata": {},
   "source": [
    "# Files I/O: Reading and writing files\n",
    "\n",
    "Many programs require dealing with actual data files such as reading from files, writing to files, and perform file-processing operations.\n",
    "\n",
    "In this lesson, you will learn the essential methods used with files:\n",
    "\n",
    "- Open a file - **open()** method\n",
    "\n",
    "- Read from a file - **read()** method\n",
    "\n",
    "- Write to a file - **write()** method\n",
    "\n",
    "- Close a file - **close()** method\n",
    "\n",
    "- Rename a file - **rename()** method\n",
    "\n",
    "- Remove a file - **remove()** method\n",
    "\n",
    "**NOTE**: All the files needed to complete this lesson are uploaded in this section."
   ]
  },
  {
   "cell_type": "markdown",
   "metadata": {},
   "source": [
    "## Opening files\n",
    "\n",
    "Python has the open() method that allow you to open a file. The method returns a file object and is most commonly used with two arguments.\n",
    "\n",
    "The syntax:\n",
    "\n",
    "        \n",
    "                          open(filename, mode)"
   ]
  },
  {
   "cell_type": "code",
   "execution_count": null,
   "metadata": {},
   "outputs": [],
   "source": [
    "f = open('test.txt', 'w')\n",
    "\n",
    "# first argument is a string \n",
    "# the name of the file you want to open, test.txt\n",
    "\n",
    "# second argument is a string (few characters)\n",
    "# specify in which way the file will be used\n",
    "\n",
    "# LIST OF MODES\n",
    "'w'  # open file for writing only\n",
    "'r'  # open file for reading only\n",
    "'a'  # open file for appending, data are added to the end of the file\n",
    "'r+' # open file for both reading and writing"
   ]
  },
  {
   "cell_type": "markdown",
   "metadata": {},
   "source": [
    "The mode argument is OPTIONAL, the default mode is 'r' and will be considered if the mode is omitted."
   ]
  },
  {
   "cell_type": "code",
   "execution_count": 6,
   "metadata": {},
   "outputs": [],
   "source": [
    "f = open(\"test.txt\")  # open file for reading using 'r' mode"
   ]
  },
  {
   "cell_type": "markdown",
   "metadata": {},
   "source": [
    "The above modes are used with text files, therefore they are called **text modes**.  \n",
    "\n",
    " - Data is read from and written to text files as **strings**.\n",
    "\n",
    "To open files in **binary mode**, append the character 'b' to the mode string. This mode is used for files that don't contain text data. \n",
    "\n",
    " - Data is read from and written to binary files as **bytes objects**.\n",
    "\n"
   ]
  },
  {
   "cell_type": "markdown",
   "metadata": {},
   "source": [
    "## Reading from files\n",
    "\n",
    "### read() method\n",
    "\n",
    "To read a file content, call the method read() like this **f.read(size)**, where f is the file object. Make sure the file already exists in your computer.\n",
    "\n",
    "This reads some quantity of data and returns it as a string (in text mode) or bytes object (in binary mode).\n",
    "\n",
    "The **size** argument is OPTIONAL. When omitted, the whole content of the file will be read and returned. If the end-of-file has been reached, f.read() will return an empty string ''.\n",
    "\n",
    "#### Example 1:\n",
    "\n",
    "Suppose we have a small file called test.txt that contains one line. \n",
    "\n",
    "Hello! you are reading a line of text"
   ]
  },
  {
   "cell_type": "code",
   "execution_count": 12,
   "metadata": {},
   "outputs": [
    {
     "data": {
      "text/plain": [
       "'Hello! you are reading a line of text'"
      ]
     },
     "execution_count": 12,
     "metadata": {},
     "output_type": "execute_result"
    }
   ],
   "source": [
    "f = open('test.txt')\n",
    "f.read()"
   ]
  },
  {
   "cell_type": "markdown",
   "metadata": {},
   "source": [
    "### readline() method\n",
    "\n",
    "The readline() method is used to a read a single line from a file. The method appends a newline character ('\\n') at the end of each line (string) returned. An empty string is returned only when the end-of-file (EOF) is encountered immediately.\n",
    "\n",
    "#### Example 2:\n",
    "\n",
    "The file test1.txt has 2 lines of text. Here are two ways to read these lines."
   ]
  },
  {
   "cell_type": "code",
   "execution_count": 3,
   "metadata": {},
   "outputs": [
    {
     "data": {
      "text/plain": [
       "'This is the first line of the file\\n'"
      ]
     },
     "execution_count": 3,
     "metadata": {},
     "output_type": "execute_result"
    }
   ],
   "source": [
    "f = open('test1.txt')\n",
    "f.readline()"
   ]
  },
  {
   "cell_type": "code",
   "execution_count": 4,
   "metadata": {},
   "outputs": [
    {
     "data": {
      "text/plain": [
       "'And this is the second line of the file'"
      ]
     },
     "execution_count": 4,
     "metadata": {},
     "output_type": "execute_result"
    }
   ],
   "source": [
    "f.readline()"
   ]
  },
  {
   "cell_type": "code",
   "execution_count": 2,
   "metadata": {},
   "outputs": [
    {
     "name": "stdout",
     "output_type": "stream",
     "text": [
      "This is the first line of the file\n",
      "\n",
      "And this is the second line of the file\n"
     ]
    }
   ],
   "source": [
    "# using for loop\n",
    "f = open('test1.txt')\n",
    "for line in f:\n",
    "    print(line)"
   ]
  },
  {
   "cell_type": "markdown",
   "metadata": {},
   "source": [
    "## Writing to files\n",
    "\n",
    "### write() method\n",
    "\n",
    "To write some content to a file, call **f.write(string)**. The method returns the number of characters written. When opening a file for writing, don't worry if the file doesn't exist because Python will create it for you.\n",
    "\n",
    "Example: let's open a file named 'test11.txt' for writing and write this line in it.\n",
    "\n",
    "Hello! a line of text is written to file"
   ]
  },
  {
   "cell_type": "code",
   "execution_count": 18,
   "metadata": {},
   "outputs": [
    {
     "data": {
      "text/plain": [
       "40"
      ]
     },
     "execution_count": 18,
     "metadata": {},
     "output_type": "execute_result"
    }
   ],
   "source": [
    "f = open('test11.txt', 'w')\n",
    "f.write('Hello! a line of text is written to file')"
   ]
  },
  {
   "cell_type": "markdown",
   "metadata": {},
   "source": [
    "write() returned 40 which is the number of characters written.\n",
    "\n",
    "#### Check the contents of test11.txt, what do you see ?\n",
    "\n"
   ]
  },
  {
   "cell_type": "markdown",
   "metadata": {},
   "source": [
    "## Closing files\n",
    "### close() method\n",
    "\n",
    "After you finish working with a file, the file has to be closed.To close a file, use the method close()."
   ]
  },
  {
   "cell_type": "code",
   "execution_count": 19,
   "metadata": {},
   "outputs": [],
   "source": [
    "f.close()"
   ]
  },
  {
   "cell_type": "markdown",
   "metadata": {},
   "source": [
    "It is good practice to use the **with** keyword when dealing with file objects. The advantage is that the file is properly closed after the with block finishes, even if an exception is raised at some point. Using with is also much shorter than writing equivalent try-except-finally blocks."
   ]
  },
  {
   "cell_type": "code",
   "execution_count": 5,
   "metadata": {},
   "outputs": [
    {
     "data": {
      "text/plain": [
       "True"
      ]
     },
     "execution_count": 5,
     "metadata": {},
     "output_type": "execute_result"
    }
   ],
   "source": [
    "with open('test.txt') as f:\n",
    "    line = f.read()\n",
    "f.closed"
   ]
  },
  {
   "cell_type": "markdown",
   "metadata": {},
   "source": [
    "We typed f.closed to see if the file really closed and it gives **True**. So, no need for f.close()."
   ]
  },
  {
   "cell_type": "markdown",
   "metadata": {},
   "source": [
    "## os module\n",
    "\n",
    "The os module in Python provides functions that allow you to perform operations on files such as rename and delete.\n",
    "\n",
    "### rename() method\n",
    "\n",
    "Takes 2 arguments, the current filename and the new filename."
   ]
  },
  {
   "cell_type": "code",
   "execution_count": null,
   "metadata": {},
   "outputs": [],
   "source": [
    "import os\n",
    "\n",
    "os.rename('test.txt', 'test_file.txt')"
   ]
  },
  {
   "cell_type": "markdown",
   "metadata": {},
   "source": [
    "### remove() method\n",
    "\n",
    "To remove a file, use the remove() method and pass the name of the file to be deleted."
   ]
  },
  {
   "cell_type": "code",
   "execution_count": null,
   "metadata": {},
   "outputs": [],
   "source": [
    "os.remove('test_file.txt')"
   ]
  }
 ],
 "metadata": {
  "kernelspec": {
   "display_name": "Python 3",
   "language": "python",
   "name": "python3"
  },
  "language_info": {
   "codemirror_mode": {
    "name": "ipython",
    "version": 3
   },
   "file_extension": ".py",
   "mimetype": "text/x-python",
   "name": "python",
   "nbconvert_exporter": "python",
   "pygments_lexer": "ipython3",
   "version": "3.6.5"
  }
 },
 "nbformat": 4,
 "nbformat_minor": 2
}
