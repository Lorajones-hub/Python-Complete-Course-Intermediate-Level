{
 "cells": [
  {
   "cell_type": "markdown",
   "metadata": {},
   "source": [
    "# Directories in Python\n",
    "\n",
    "It is always useful to organize and store our files in directories (folders). \n",
    "\n",
    "Python can handle directories easily using the **os** module. The os module has several methods that help you create, remove, and change directories.\n",
    "\n",
    "## mkdir() method\n",
    "\n",
    "Import os module and use mkdir() method to create a directory in the current directory. Pass to this method the name of the directory you want to create and check whether this new directory has been created there. If the directory already exists, Python will raise **FileExistsError**\n"
   ]
  },
  {
   "cell_type": "code",
   "execution_count": 8,
   "metadata": {},
   "outputs": [],
   "source": [
    "import os\n",
    "\n",
    "os.mkdir('newdir')  # new dir is created"
   ]
  },
  {
   "cell_type": "markdown",
   "metadata": {},
   "source": [
    "## chdir method()\n",
    "\n",
    "This method can change to a directory, i.e. go into that directory. It takes one argument, the name of the directory to change to."
   ]
  },
  {
   "cell_type": "code",
   "execution_count": 2,
   "metadata": {},
   "outputs": [],
   "source": [
    "os.chdir(\"newdir\")  # now go into newdir"
   ]
  },
  {
   "cell_type": "markdown",
   "metadata": {},
   "source": [
    "## getcwd()\n",
    "\n",
    "This method returns a string representation the current working directory. Let's see if the system is inside the directory newdir."
   ]
  },
  {
   "cell_type": "code",
   "execution_count": 3,
   "metadata": {},
   "outputs": [
    {
     "data": {
      "text/plain": [
       "'C:\\\\Users\\\\ee\\\\Pycourse\\\\9. InputOutput in Python\\\\newdir'"
      ]
     },
     "execution_count": 3,
     "metadata": {},
     "output_type": "execute_result"
    }
   ],
   "source": [
    "os.getcwd()"
   ]
  },
  {
   "cell_type": "markdown",
   "metadata": {},
   "source": [
    "## rmdir() method\n",
    "\n",
    "Used to remove a directory. To remove the directory \"newdir\", first change to the outer directory using chdir() then remove \"newdir\". See the code below:"
   ]
  },
  {
   "cell_type": "code",
   "execution_count": 11,
   "metadata": {},
   "outputs": [],
   "source": [
    "# you need to change back to outer directory\n",
    "os.chdir('C:/Users/ee/Pycourse/9. InputOutput in Python') \n",
    "\n",
    "os.rmdir('newdir') # newdir is removed"
   ]
  },
  {
   "cell_type": "markdown",
   "metadata": {},
   "source": [
    "Now if we try to change to \"newdir\" again, Python will raise **FileNotFoundError** because \"newdir\" directory no longer exists."
   ]
  },
  {
   "cell_type": "code",
   "execution_count": 12,
   "metadata": {
    "scrolled": true
   },
   "outputs": [
    {
     "ename": "FileNotFoundError",
     "evalue": "[WinError 2] The system cannot find the file specified: 'newdir'",
     "output_type": "error",
     "traceback": [
      "\u001b[1;31m---------------------------------------------------------------------------\u001b[0m",
      "\u001b[1;31mFileNotFoundError\u001b[0m                         Traceback (most recent call last)",
      "\u001b[1;32m<ipython-input-12-0f74d1f41125>\u001b[0m in \u001b[0;36m<module>\u001b[1;34m()\u001b[0m\n\u001b[1;32m----> 1\u001b[1;33m \u001b[0mos\u001b[0m\u001b[1;33m.\u001b[0m\u001b[0mchdir\u001b[0m\u001b[1;33m(\u001b[0m\u001b[1;34m'newdir'\u001b[0m\u001b[1;33m)\u001b[0m\u001b[1;33m\u001b[0m\u001b[0m\n\u001b[0m",
      "\u001b[1;31mFileNotFoundError\u001b[0m: [WinError 2] The system cannot find the file specified: 'newdir'"
     ]
    }
   ],
   "source": [
    "os.chdir('newdir') "
   ]
  },
  {
   "cell_type": "markdown",
   "metadata": {},
   "source": [
    "## Great! \n",
    "\n",
    "### You are done with this section. Time to practice your skills in Project 2 of the course.\n",
    "## GOOD LUCK AND HAVE FUN!\n",
    "\n"
   ]
  }
 ],
 "metadata": {
  "kernelspec": {
   "display_name": "Python 3",
   "language": "python",
   "name": "python3"
  },
  "language_info": {
   "codemirror_mode": {
    "name": "ipython",
    "version": 3
   },
   "file_extension": ".py",
   "mimetype": "text/x-python",
   "name": "python",
   "nbconvert_exporter": "python",
   "pygments_lexer": "ipython3",
   "version": "3.6.5"
  }
 },
 "nbformat": 4,
 "nbformat_minor": 2
}
