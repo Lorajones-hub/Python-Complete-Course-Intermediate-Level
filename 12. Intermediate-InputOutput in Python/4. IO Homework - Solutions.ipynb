{
 "cells": [
  {
   "cell_type": "markdown",
   "metadata": {},
   "source": [
    "### Answer the following questions:\n",
    "\n",
    "#### Q1. To open file for **reading only**, do you need to specify the mode ?\n",
    "\n",
    "     No. Reading only 'r' is the default value of mode.\n",
    " \n",
    "#### Q2. The **with** keyword can be used to open a file. After the block of with is finished, is the file still open or closed ? \n",
    "\n",
    "      The file is closed. \n",
    "       \n",
    "       \n",
    "#### Q3. What are the valid values of the **from_where** argument in seek() method ?\n",
    "\n",
    "       0, 1, and 2 (or SEEK_SET, SEEK_CUR, SEEK_END)\n",
    "      \n",
    "\n",
    "#### Q4: What is the output of **f.tell()** ? where f is the reference to the file object.\n",
    "\n",
    "       The current file position\n",
    "\n",
    "\n"
   ]
  }
 ],
 "metadata": {
  "kernelspec": {
   "display_name": "Python 3",
   "language": "python",
   "name": "python3"
  },
  "language_info": {
   "codemirror_mode": {
    "name": "ipython",
    "version": 3
   },
   "file_extension": ".py",
   "mimetype": "text/x-python",
   "name": "python",
   "nbconvert_exporter": "python",
   "pygments_lexer": "ipython3",
   "version": "3.6.5"
  }
 },
 "nbformat": 4,
 "nbformat_minor": 2
}
