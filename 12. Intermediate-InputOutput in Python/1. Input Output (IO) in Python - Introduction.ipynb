{
 "cells": [
  {
   "cell_type": "markdown",
   "metadata": {},
   "source": [
    "# Introduction \n",
    "\n",
    "This section will cover the basic Input/Output (I/O) functions in Python. For more details on I/O, you can refer to Python documentation [Python IO](https://docs.python.org/3/tutorial/inputoutput.html). \n",
    "\n",
    "We will discuss the following topics:\n",
    "\n",
    "- **Reading input from a keyboard - the input() function**\n",
    "- **Printing data to the screen - the print() function**\n",
    "- **Reading from a file**\n",
    "- **Writing to a file**\n",
    "- **Directories in Python**\n",
    "\n",
    "By the end of this section, you will gain valuable experience on how to read and write user input, open and close files, read from and write into files, delete and rename files, and more.\n",
    "\n",
    "Please proceed to the following lectures.\n",
    "\n",
    "**LET'S GET STARTED!**"
   ]
  }
 ],
 "metadata": {
  "kernelspec": {
   "display_name": "Python 3",
   "language": "python",
   "name": "python3"
  },
  "language_info": {
   "codemirror_mode": {
    "name": "ipython",
    "version": 3
   },
   "file_extension": ".py",
   "mimetype": "text/x-python",
   "name": "python",
   "nbconvert_exporter": "python",
   "pygments_lexer": "ipython3",
   "version": "3.6.5"
  }
 },
 "nbformat": 4,
 "nbformat_minor": 2
}
